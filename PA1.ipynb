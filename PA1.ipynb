{
 "cells": [
  {
   "cell_type": "code",
   "execution_count": 1,
   "metadata": {},
   "outputs": [],
   "source": [
    "import numpy as np"
   ]
  },
  {
   "cell_type": "code",
   "execution_count": 2,
   "metadata": {},
   "outputs": [],
   "source": [
    "import PIL\n",
    "from PIL import Image"
   ]
  },
  {
   "cell_type": "code",
   "execution_count": 3,
   "metadata": {},
   "outputs": [],
   "source": [
    "import matplotlib\n",
    "import math"
   ]
  },
  {
   "cell_type": "code",
   "execution_count": 4,
   "metadata": {},
   "outputs": [],
   "source": [
    "import os\n",
    "import random\n",
    "import copy\n",
    "from os import listdir\n",
    "from collections import defaultdict"
   ]
  },
  {
   "cell_type": "code",
   "execution_count": 5,
   "metadata": {},
   "outputs": [],
   "source": [
    "def load_data(data_dir=\"./aligned/\"):\n",
    "    \"\"\" Load all PNG images stored in your data directory into a list of NumPy\n",
    "        arrays.\n",
    "\n",
    "    Args:\n",
    "    data_dir: The relative directory path to the CompCar image directory.\n",
    "    Returns:\n",
    "        images: A dictionary with keys as car types and a list containing images associated with each key.\n",
    "        cnt: A dictionary that stores the # of images in each car type\n",
    "    \"\"\"\n",
    "    images = defaultdict(list)\n",
    "\n",
    "    # Get the list of car type directory:\n",
    "    for e in listdir(data_dir):\n",
    "        # excluding any non-directory files\n",
    "        if not os.path.isdir(os.path.join(data_dir, e)):\n",
    "            continue\n",
    "        # Get the list of image file names\n",
    "        all_files = listdir(os.path.join(data_dir, e))\n",
    "\n",
    "        for file in all_files:\n",
    "            # Load only image files as PIL images and convert to NumPy arrays\n",
    "            if '.jpg' in file:\n",
    "                img = Image.open(os.path.join(data_dir, e, file))\n",
    "                images[e].append(np.array(img))\n",
    "\n",
    "    print(\"Car types: {} \\n\".format(list(images.keys())))\n",
    "\n",
    "    cnt = defaultdict(int)\n",
    "    for e in images.keys():\n",
    "        print(\"{}: {} # of images\".format(e, len(images[e])))\n",
    "        cnt[e] = len(images[e])\n",
    "    return images, cnt\n"
   ]
  },
  {
   "cell_type": "code",
   "execution_count": 6,
   "metadata": {},
   "outputs": [],
   "source": [
    "# this function takes in all the img from all set and return a list of sets of mutually exclusive images and its labels.\n",
    "def k_fold(imgs, k):\n",
    "    res = []\n",
    "    for _ in range(k):\n",
    "        res.append(defaultdict(list))\n",
    "    for key in imgs.keys():\n",
    "        for i, entry in enumerate(imgs[key]):\n",
    "            res[i%k][key].append(entry)\n",
    "    return res"
   ]
  },
  {
   "cell_type": "code",
   "execution_count": 7,
   "metadata": {},
   "outputs": [],
   "source": [
    "def PCA(X, n_components):\n",
    "\n",
    "    \"\"\"Args:\n",
    "        X: has shape Mxd where M is the number of images and d is the dimension of each image\n",
    "        n_components: The number of components you want to project your image onto. \n",
    "    \n",
    "    Returns:\n",
    "        projected: projected data of shape M x n_components\n",
    "        mean_image: mean of all images\n",
    "        top_sqrt_eigen_values: singular values\n",
    "        top_eigen_vectors: eigenvectors \n",
    "    \"\"\"\n",
    "    mean_image = np.average(X, axis = 0)\n",
    "\n",
    "    msd = X - mean_image # M x d\n",
    "\n",
    "    smart_cov_matrix = np.matmul(msd, msd.T)\n",
    "    eigen_values, smart_eigen_vectors = np.linalg.eig(smart_cov_matrix)\n",
    "\n",
    "    idx = eigen_values.argsort()[::-1]   \n",
    "    eigen_values = eigen_values[idx]\n",
    "    smart_eigen_vectors = smart_eigen_vectors[:,idx]\n",
    "\n",
    "    eigen_vectors = (np.matmul(msd.T, smart_eigen_vectors)).T # M x d\n",
    "\n",
    "    row_norm = np.sum(np.abs(eigen_vectors)**2,axis=-1)**(1./2) # M\n",
    "\n",
    "    normalized_eigen_vectors = eigen_vectors/(row_norm.reshape(-1, 1)) # M x d\n",
    "\n",
    "    top_eigen_vectors = normalized_eigen_vectors[:n_components].T\n",
    "    top_sqrt_eigen_values = np.sqrt(eigen_values[:n_components])\n",
    "\n",
    "    projected = np.matmul(msd, top_eigen_vectors)/top_sqrt_eigen_values\n",
    "\n",
    "    return projected, mean_image, top_sqrt_eigen_values, top_eigen_vectors"
   ]
  },
  {
   "cell_type": "code",
   "execution_count": 8,
   "metadata": {},
   "outputs": [
    {
     "name": "stdout",
     "output_type": "stream",
     "text": [
      "Car types: ['Convertible', 'Pickup', 'Minivan', 'Sedan'] \n",
      "\n",
      "Convertible: 149 # of images\n",
      "Pickup: 150 # of images\n",
      "Minivan: 148 # of images\n",
      "Sedan: 150 # of images\n"
     ]
    }
   ],
   "source": [
    "img, cnt = load_data()\n",
    "folds = k_fold(img, 10)\n",
    "test, validation = folds[0], folds[1]\n",
    "train = defaultdict(list)\n",
    "for trainLoaderIter in range(2, 10):\n",
    "    for key in folds[trainLoaderIter].keys():\n",
    "        train[key].extend(folds[trainLoaderIter][key])\n",
    "totalTrainingAmount = 0\n",
    "for key in train.keys():\n",
    "    totalTrainingAmount += len(train[key])"
   ]
  },
  {
   "cell_type": "code",
   "execution_count": 9,
   "metadata": {},
   "outputs": [
    {
     "name": "stdout",
     "output_type": "stream",
     "text": [
      "477\n"
     ]
    }
   ],
   "source": [
    "print(totalTrainingAmount)"
   ]
  },
  {
   "cell_type": "code",
   "execution_count": 10,
   "metadata": {},
   "outputs": [],
   "source": [
    "#newTrainingConvertable = train['Convertible']\n",
    "X = []\n",
    "y= []\n",
    "\n",
    "for i in range(len(train['Convertible'])):\n",
    "    X.append(train['Convertible'][i].reshape((-1)))\n",
    "    y.append(0)\n",
    "for i in range(len(train['Minivan'])):\n",
    "    X.append(train['Minivan'][i].reshape((-1)))\n",
    "    y.append(1)\n",
    "\n",
    "X = np.array(X)\n",
    "y = np.array(y).reshape(1, len(y)).T\n",
    "#print(X.shape, y.shape)\n",
    "#from sklearn.decomposition import PCA as skPCA\n",
    "\n",
    "#pca = skPCA(n_components=)\n",
    "#X = pca.fit_transform(X)\n",
    "#print(X.shape)\n"
   ]
  },
  {
   "cell_type": "code",
   "execution_count": 25,
   "metadata": {},
   "outputs": [],
   "source": [
    "projected, mean_image, top_sqrt_eigen_values, top_eigen_vectors = PCA(X, 4)"
   ]
  },
  {
   "cell_type": "code",
   "execution_count": 26,
   "metadata": {},
   "outputs": [],
   "source": [
    "class Logistic_regression:\n",
    "    def __init__(self, dimension, lr):\n",
    "        self.lr = lr\n",
    "        self.w = np.zeros(dimension)\n",
    "        \n",
    "    def sigmoid(self, X):\n",
    "        return 1.0 / (1.0 + np.exp(-X))\n",
    "    \n",
    "    def caculateGradient(self, X, yTrue):\n",
    "        expected = self.w @ X.T\n",
    "        diffs = yTrue-expected.reshape((-1,1))\n",
    "        gradient = (X*diffs).sum(axis=0)\n",
    "        return gradient*(1/len(X))\n",
    "        \n",
    "    def updateWeight(self, X, yTrue):\n",
    "        self.w = self.w + self.lr * self.caculateGradient(X, yTrue)\n",
    "        \n",
    "    def predict(self, X):\n",
    "        return self.sigmoid(X@self.w.T)\n",
    "    \n",
    "    def score(self, X, yTrue):\n",
    "        yCalculated = self.predict(X)\n",
    "        correct = 0\n",
    "        for i in range(len(X)):\n",
    "            print(yCalculated[i], yTrue[i])\n",
    "            if yCalculated[i] == yTrue[i]:\n",
    "                correct += 1\n",
    "        return correct / len(yCalculated)\n",
    "    \n",
    "    def logLikelihood(self, X, yTrue):\n",
    "        expected = self.sigmoid(self.w @ X.T)\n",
    "        LLs = yTrue*np.log(expected).reshape((-1,1)) + (1-yTrue)*np.log(1-expected).reshape((-1,1))\n",
    "        return LLs.sum(axis=0)\n",
    "    \n",
    "    def fit(self, X, y, epoch):\n",
    "        log = []\n",
    "        for _ in range(epoch):\n",
    "            self.updateWeight(X, y)\n",
    "            log.append(self.logLikelihood(X, y))\n",
    "        return log\n",
    "    "
   ]
  },
  {
   "cell_type": "code",
   "execution_count": 27,
   "metadata": {},
   "outputs": [],
   "source": [
    "LR = Logistic_regression(projected.shape[1], 0.02)\n",
    "Loss = LR.fit(projected, y, 55000)"
   ]
  },
  {
   "cell_type": "code",
   "execution_count": 28,
   "metadata": {},
   "outputs": [
    {
     "data": {
      "text/plain": [
       "Text(0, 0.5, 'Log likelihood')"
      ]
     },
     "execution_count": 28,
     "metadata": {},
     "output_type": "execute_result"
    },
    {
     "data": {
      "image/png": "[encoded data removed]",
      "text/plain": [
       "<Figure size 432x288 with 1 Axes>"
      ]
     },
     "metadata": {
      "needs_background": "light"
     },
     "output_type": "display_data"
    }
   ],
   "source": [
    "import matplotlib.pyplot as plt\n",
    "plt.plot(Loss)\n",
    "plt.title(\"Log likelihood vs Steps (Training)\")\n",
    "plt.xlabel(\"Steps\")\n",
    "plt.ylabel(\"Log likelihood\")"
   ]
  },
  {
   "cell_type": "code",
   "execution_count": null,
   "metadata": {},
   "outputs": [],
   "source": [
    "#(a) Implement Logistic Regression via Gradient Descent. (5 points)\n",
    "#Now, without using any high-level machine learning libraries, implement logistic regression. Here, you’ll be using batch gradient descent, and will only need one logistic output unit. (Think about why we only need one if we’re classifying two classes?) The most points will be given for clean, well-documented code.\n",
    "def gradient_descent(X, y, lr=0.05, epoch=300):\n",
    "    '''\n",
    "    Gradient Descent for a single feature\n",
    "    X -> feature -> m * d\n",
    "    y -> label -> m\n",
    "    lr -> learning rate\n",
    "    epoch -> epoch\n",
    "    \n",
    "    weights <-\n",
    "    mse     <-\n",
    "    '''\n",
    "    \n",
    "    weight = np.zeros((X.shape[1], 1))\n",
    "    N = len(X) # number of samples\n",
    "    log = []\n",
    "    \n",
    "    for _ in range(epoch):\n",
    "        errorSum = np.zeros((X.shape[1], 1))\n",
    "        #biasIncludedX = np.append(X, np.ones((X.shape[0], 1)), 1)\n",
    "        calculatedTarget = X@weight\n",
    "        #print(calculatedTarget, y)\n",
    "        diffs = y - calculatedTarget\n",
    "        #print(diffs.shape, y.shape, calculatedTarget.shape)\n",
    "        for i, diff in enumerate(diffs):\n",
    "            #print(diff.shape, errorSum.shape, X[i].shape)\n",
    "            #print(diff[0])\n",
    "            errorSum += diff[0] * X[i].reshape((-1, 1))\n",
    "        weight += errorSum * lr * (2/N)\n",
    "        #print(weight)\n",
    "        log.append(sum(diffs**2)[0])\n",
    "\n",
    "    return weight, log"
   ]
  },
  {
   "cell_type": "code",
   "execution_count": null,
   "metadata": {},
   "outputs": [],
   "source": [
    "w, l = gradient_descent(X, y)"
   ]
  },
  {
   "cell_type": "code",
   "execution_count": null,
   "metadata": {},
   "outputs": [],
   "source": [
    "print(l)"
   ]
  },
  {
   "cell_type": "code",
   "execution_count": null,
   "metadata": {},
   "outputs": [],
   "source": [
    "def PCA_test(X, mean_image, n_components):\n",
    "    msd = X - mean_image # M x d\n",
    "\n",
    "    smart_cov_matrix = np.matmul(msd, msd.T)\n",
    "    eigen_values, smart_eigen_vectors = np.linalg.eig(smart_cov_matrix)\n",
    "\n",
    "    idx = eigen_values.argsort()[::-1]   \n",
    "    eigen_values = eigen_values[idx]\n",
    "    smart_eigen_vectors = smart_eigen_vectors[:,idx]\n",
    "\n",
    "    eigen_vectors = (np.matmul(msd.T, smart_eigen_vectors)).T # M x d\n",
    "\n",
    "    row_norm = np.sum(np.abs(eigen_vectors)**2,axis=-1)**(1./2) # M\n",
    "\n",
    "    normalized_eigen_vectors = eigen_vectors/(row_norm.reshape(-1, 1)) # M x d\n",
    "\n",
    "    top_eigen_vectors = normalized_eigen_vectors[:n_components].T\n",
    "    top_sqrt_eigen_values = np.sqrt(eigen_values[:n_components])\n",
    "\n",
    "    projected = np.matmul(msd, top_eigen_vectors)/top_sqrt_eigen_values\n",
    "\n",
    "    return projected"
   ]
  },
  {
   "cell_type": "code",
   "execution_count": null,
   "metadata": {},
   "outputs": [],
   "source": []
  },
  {
   "cell_type": "code",
   "execution_count": null,
   "metadata": {},
   "outputs": [],
   "source": [
    "pca = PCA(n_components=4)\n",
    "pca.fit()\n",
    "reg = LinearRegression().fit(X, y)\n",
    "reg.score(X, y)"
   ]
  },
  {
   "cell_type": "code",
   "execution_count": null,
   "metadata": {},
   "outputs": [],
   "source": [
    "print(reg.predict(X))"
   ]
  },
  {
   "cell_type": "code",
   "execution_count": null,
   "metadata": {},
   "outputs": [],
   "source": [
    "\n",
    "#(a) Implement Logistic Regression via Gradient Descent. (5 points)\n",
    "#Now, without using any high-level machine learning libraries, implement logistic regression. Here, you’ll be using batch gradient descent, and will only need one logistic output unit. (Think about why we only need one if we’re classifying two classes?) The most points will be given for clean, well-documented code.\n",
    "def gradient_descent(X, y, lr=0.05, epoch=300):\n",
    "    '''\n",
    "    Gradient Descent for a single feature\n",
    "    X -> feature -> m * d\n",
    "    y -> label -> m\n",
    "    lr -> learning rate\n",
    "    epoch -> epoch\n",
    "    \n",
    "    weights <-\n",
    "    mse     <-\n",
    "    '''\n",
    "    \n",
    "    weight = np.zeros((projected.shape[1], 1))\n",
    "    N = len(X) # number of samples\n",
    "    log = []\n",
    "    #log, mse = [], [] # lists to store learning process\n",
    "    # M * (d+1)--> X with last be bias term (feature)\n",
    "    # M * 1    --> y --> lable\n",
    "    \n",
    "    for _ in range(epoch):\n",
    "        errorSum = np.zeros((X.shape[1], 1))\n",
    "        #biasIncludedX = np.append(X, np.ones((X.shape[0], 1)), 1)\n",
    "        calculatedTarget = X@weight\n",
    "        #print(calculatedTarget, y)\n",
    "        diffs = y - calculatedTarget\n",
    "        #print(diffs.shape, y.shape, calculatedTarget.shape)\n",
    "        for i, diff in enumerate(diffs):\n",
    "            #print(diff.shape, errorSum.shape, X[i].shape)\n",
    "            #print(diff[0])\n",
    "            errorSum += diff[0] * X[i].reshape((-1, 1))\n",
    "        weight += errorSum * lr * (2/N)\n",
    "        log.append(sum(diffs**2)[0])\n",
    "\n",
    "    return weight, log"
   ]
  },
  {
   "cell_type": "code",
   "execution_count": null,
   "metadata": {},
   "outputs": [],
   "source": [
    "#newTrainingMiniVan = train['Minivan']\n",
    "#newTrainingConvertable = train['Convertible']\n",
    "y = []\n",
    "X = []\n",
    "for i in range(len(memo)):\n",
    "    if memo[i][0] == 'Convertible':\n",
    "        y.append(0)\n",
    "        X.append(projected[i])\n",
    "    elif memo[i][0] == 'Minivan':\n",
    "        y.append(1)\n",
    "        X.append(projected[i])\n",
    "X = np.array(X)\n",
    "y = np.array(y).reshape(1, len(y)).T"
   ]
  },
  {
   "cell_type": "code",
   "execution_count": null,
   "metadata": {},
   "outputs": [],
   "source": [
    "print(X.shape)\n",
    "print(y.shape)"
   ]
  },
  {
   "cell_type": "code",
   "execution_count": null,
   "metadata": {},
   "outputs": [],
   "source": [
    "w, l = gradient_descent(X, y)\n",
    "print(l)"
   ]
  },
  {
   "cell_type": "code",
   "execution_count": null,
   "metadata": {},
   "outputs": [],
   "source": [
    "validationConvertable = test['Convertible']\n",
    "validationMinivan     = test['Minivan']\n",
    "\n",
    "validationPCAed = []\n",
    "validationY = []\n",
    "for i in range(len(validationConvertable)):\n",
    "    validationPCAed.append((np.matmul(validationConvertable[i].reshape(1, 60000) - mean_image, top_eigen_vectors)/top_sqrt_eigen_values)[0])\n",
    "    validationY.append(0)\n",
    "for i in range(len(validationMinivan)):\n",
    "    validationPCAed.append((np.matmul(validationMinivan[i].reshape(1, 60000) - mean_image, top_eigen_vectors)/top_sqrt_eigen_values)[0])\n",
    "    validationY.append(1)"
   ]
  },
  {
   "cell_type": "code",
   "execution_count": null,
   "metadata": {},
   "outputs": [],
   "source": [
    "print(len(validationPCAed))\n",
    "validationPCAed = np.array(validationPCAed)\n",
    "print(validationPCAed.shape[0])"
   ]
  },
  {
   "cell_type": "code",
   "execution_count": null,
   "metadata": {},
   "outputs": [],
   "source": [
    "validationPCAed = np.append(validationPCAed, np.ones((validationPCAed.shape[0], 1)), 1)"
   ]
  },
  {
   "cell_type": "code",
   "execution_count": null,
   "metadata": {},
   "outputs": [],
   "source": [
    "validationPCAed@w"
   ]
  },
  {
   "cell_type": "code",
   "execution_count": null,
   "metadata": {},
   "outputs": [],
   "source": [
    "validationPCAed"
   ]
  },
  {
   "cell_type": "code",
   "execution_count": null,
   "metadata": {},
   "outputs": [],
   "source": []
  }
 ],
 "metadata": {
  "kernelspec": {
   "display_name": "Python 3",
   "language": "python",
   "name": "python3"
  },
  "language_info": {
   "codemirror_mode": {
    "name": "ipython",
    "version": 3
   },
   "file_extension": ".py",
   "mimetype": "text/x-python",
   "name": "python",
   "nbconvert_exporter": "python",
   "pygments_lexer": "ipython3",
   "version": "3.7.6"
  }
 },
 "nbformat": 4,
 "nbformat_minor": 4
}
