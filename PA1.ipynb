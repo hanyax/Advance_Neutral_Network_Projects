{
 "cells": [
  {
   "cell_type": "code",
   "execution_count": 1,
   "metadata": {},
   "outputs": [],
   "source": [
    "import numpy as np"
   ]
  },
  {
   "cell_type": "code",
   "execution_count": 2,
   "metadata": {},
   "outputs": [],
   "source": [
    "import PIL\n",
    "from PIL import Image"
   ]
  },
  {
   "cell_type": "code",
   "execution_count": 3,
   "metadata": {},
   "outputs": [],
   "source": [
    "import matplotlib\n",
    "import math"
   ]
  },
  {
   "cell_type": "code",
   "execution_count": 4,
   "metadata": {},
   "outputs": [],
   "source": [
    "import os\n",
    "import random\n",
    "import copy\n",
    "from os import listdir\n",
    "from collections import defaultdict"
   ]
  },
  {
   "cell_type": "code",
   "execution_count": 5,
   "metadata": {},
   "outputs": [],
   "source": [
    "def load_data(data_dir=\"./aligned/\"):\n",
    "    \"\"\" Load all PNG images stored in your data directory into a list of NumPy\n",
    "        arrays.\n",
    "\n",
    "    Args:\n",
    "    data_dir: The relative directory path to the CompCar image directory.\n",
    "    Returns:\n",
    "        images: A dictionary with keys as car types and a list containing images associated with each key.\n",
    "        cnt: A dictionary that stores the # of images in each car type\n",
    "    \"\"\"\n",
    "    images = defaultdict(list)\n",
    "\n",
    "    # Get the list of car type directory:\n",
    "    for e in listdir(data_dir):\n",
    "        # excluding any non-directory files\n",
    "        if not os.path.isdir(os.path.join(data_dir, e)):\n",
    "            continue\n",
    "        # Get the list of image file names\n",
    "        all_files = listdir(os.path.join(data_dir, e))\n",
    "\n",
    "        for file in all_files:\n",
    "            # Load only image files as PIL images and convert to NumPy arrays\n",
    "            if '.jpg' in file:\n",
    "                img = Image.open(os.path.join(data_dir, e, file))\n",
    "                images[e].append(np.array(img))\n",
    "\n",
    "    print(\"Car types: {} \\n\".format(list(images.keys())))\n",
    "\n",
    "    cnt = defaultdict(int)\n",
    "    for e in images.keys():\n",
    "        print(\"{}: {} # of images\".format(e, len(images[e])))\n",
    "        cnt[e] = len(images[e])\n",
    "    return images, cnt\n"
   ]
  },
  {
   "cell_type": "code",
   "execution_count": 6,
   "metadata": {},
   "outputs": [],
   "source": [
    "# this function takes in all the img from all set and return a list of sets of mutually exclusive images and its labels.\n",
    "def k_fold(imgs, k):\n",
    "    res = []\n",
    "    for _ in range(k):\n",
    "        res.append(defaultdict(list))\n",
    "    for key in imgs.keys():\n",
    "        for i, entry in enumerate(imgs[key]):\n",
    "            res[i%k][key].append(entry)\n",
    "    return res"
   ]
  },
  {
   "cell_type": "code",
   "execution_count": 7,
   "metadata": {},
   "outputs": [],
   "source": [
    "def PCA(X, n_components):\n",
    "\n",
    "    \"\"\"Args:\n",
    "        X: has shape Mxd where M is the number of images and d is the dimension of each image\n",
    "        n_components: The number of components you want to project your image onto. \n",
    "    \n",
    "    Returns:\n",
    "        projected: projected data of shape M x n_components\n",
    "        mean_image: mean of all images\n",
    "        top_sqrt_eigen_values: singular values\n",
    "        top_eigen_vectors: eigenvectors \n",
    "    \"\"\"\n",
    "    mean_image = np.average(X, axis = 0)\n",
    "\n",
    "    msd = X - mean_image # M x d\n",
    "\n",
    "    smart_cov_matrix = np.matmul(msd, msd.T)\n",
    "    eigen_values, smart_eigen_vectors = np.linalg.eig(smart_cov_matrix)\n",
    "\n",
    "    idx = eigen_values.argsort()[::-1]   \n",
    "    eigen_values = eigen_values[idx]\n",
    "    smart_eigen_vectors = smart_eigen_vectors[:,idx]\n",
    "\n",
    "    eigen_vectors = (np.matmul(msd.T, smart_eigen_vectors)).T # M x d\n",
    "\n",
    "    row_norm = np.sum(np.abs(eigen_vectors)**2,axis=-1)**(1./2) # M\n",
    "\n",
    "    normalized_eigen_vectors = eigen_vectors/(row_norm.reshape(-1, 1)) # M x d\n",
    "\n",
    "    top_eigen_vectors = normalized_eigen_vectors[:n_components].T\n",
    "    top_sqrt_eigen_values = np.sqrt(eigen_values[:n_components])\n",
    "\n",
    "    projected = np.matmul(msd, top_eigen_vectors)/top_sqrt_eigen_values\n",
    "\n",
    "    return projected, mean_image, top_sqrt_eigen_values, top_eigen_vectors"
   ]
  },
  {
   "cell_type": "code",
   "execution_count": 8,
   "metadata": {},
   "outputs": [
    {
     "name": "stdout",
     "output_type": "stream",
     "text": [
      "Car types: ['Pickup', 'Sedan', 'Minivan', 'Convertible'] \n",
      "\n",
      "Pickup: 150 # of images\n",
      "Sedan: 150 # of images\n",
      "Minivan: 148 # of images\n",
      "Convertible: 149 # of images\n"
     ]
    }
   ],
   "source": [
    "img, cnt = load_data()\n",
    "folds = k_fold(img, 10)\n",
    "test, validation = folds[0], folds[1]\n",
    "train = defaultdict(list)\n",
    "for trainLoaderIter in range(2, 10):\n",
    "    for key in folds[trainLoaderIter].keys():\n",
    "        train[key].extend(folds[trainLoaderIter][key])\n",
    "totalTrainingAmount = 0\n",
    "for key in train.keys():\n",
    "    totalTrainingAmount += len(train[key])"
   ]
  },
  {
   "cell_type": "code",
   "execution_count": 9,
   "metadata": {},
   "outputs": [
    {
     "name": "stdout",
     "output_type": "stream",
     "text": [
      "477\n"
     ]
    }
   ],
   "source": [
    "print(totalTrainingAmount)"
   ]
  },
  {
   "cell_type": "code",
   "execution_count": 214,
   "metadata": {},
   "outputs": [],
   "source": [
    "#newTrainingConvertable = train['Convertible']\n",
    "X = []\n",
    "y= []\n",
    "\n",
    "for i in range(len(train['Convertible'])):\n",
    "    X.append(train['Convertible'][i].reshape((-1)))\n",
    "    y.append(0)\n",
    "for i in range(len(train['Minivan'])):\n",
    "    X.append(train['Minivan'][i].reshape((-1)))\n",
    "    y.append(1)\n",
    "\n",
    "X = np.array(X)\n",
    "y = np.array(y).reshape(1, len(y)).T\n",
    "#print(X.shape, y.shape)\n",
    "#from sklearn.decomposition import PCA as skPCA\n",
    "\n",
    "#pca = skPCA(n_components=)\n",
    "#X = pca.fit_transform(X)\n",
    "#print(X.shape)\n"
   ]
  },
  {
   "cell_type": "code",
   "execution_count": 276,
   "metadata": {},
   "outputs": [],
   "source": [
    "projected, mean_image, top_sqrt_eigen_values, top_eigen_vectors = PCA(X, 20)"
   ]
  },
  {
   "cell_type": "code",
   "execution_count": 316,
   "metadata": {},
   "outputs": [],
   "source": [
    "class Logistic_regression:\n",
    "    def __init__(self, dimension, lr):\n",
    "        self.lr = lr\n",
    "        self.w = np.zeros(dimension)\n",
    "        \n",
    "    def sigmoid(self, X):\n",
    "        return 1.0 / (1.0 + np.exp(-X))\n",
    "    \n",
    "    def caculateGradient(self, X, yTrue):\n",
    "        grad = 0.0\n",
    "        for t in range(X.shape[0]):\n",
    "            grad += np.multiply((yTrue[t] - self.sigmoid(self.w.T@X[t])), X[t])\n",
    "        return grad\n",
    "    \n",
    "    def updateWeight(self, X, yTrue):\n",
    "        self.w = self.w + self.lr * self.caculateGradient(X, yTrue)\n",
    "        \n",
    "    def predict(self, X):\n",
    "        return self.sigmoid(X@self.w.T)\n",
    "    \n",
    "    def logLikelihood(self, X, yTrue):\n",
    "        LL = 0.0\n",
    "        for t in range(X.shape[0]):\n",
    "            LL += yTrue[t] * np.log(self.sigmoid(self.w.T@X[t])) + (1-yTrue[t]) * np.log(1-self.sigmoid(self.w.T@X[t]))\n",
    "        return LL\n",
    "    \n",
    "    def fit(self, X, y, epoch):\n",
    "        log = []\n",
    "        for _ in range(epoch):\n",
    "            #y_pred = self.predict(X)\n",
    "            #self.SGD(y, y_pred, X)\n",
    "            self.updateWeight(X, y)\n",
    "            log.append(self.logLikelihood(X, y))\n",
    "        return log\n",
    "    "
   ]
  },
  {
   "cell_type": "code",
   "execution_count": 321,
   "metadata": {},
   "outputs": [],
   "source": [
    "LR = Logistic_regression(projected.shape[1], 0.02)\n",
    "Loss = LR.fit(projected, y, 5500)"
   ]
  },
  {
   "cell_type": "code",
   "execution_count": 323,
   "metadata": {},
   "outputs": [
    {
     "name": "stdout",
     "output_type": "stream",
     "text": [
      "[array([-163.73986026]), array([-163.2091854]), array([-162.68380343]), array([-162.16366076]), array([-161.64870398]), array([-161.13887993]), array([-160.63413567]), array([-160.13441848]), array([-159.63967594]), array([-159.14985587]), array([-158.66490637]), array([-158.18477584]), array([-157.70941298]), array([-157.23876679]), array([-156.77278659]), array([-156.31142204]), array([-155.85462313]), array([-155.40234019]), array([-154.95452392]), array([-154.51112534]), array([-154.07209589]), array([-153.63738733]), array([-153.20695183]), array([-152.78074193]), array([-152.35871057]), array([-151.94081106]), array([-151.52699713]), array([-151.11722289]), array([-150.71144288]), array([-150.30961202]), array([-149.91168566]), array([-149.51761956]), array([-149.12736987]), array([-148.74089319]), array([-148.35814652]), array([-147.9790873]), array([-147.60367335]), array([-147.23186296]), array([-146.86361481]), array([-146.49888801]), array([-146.1376421]), array([-145.77983703]), array([-145.42543318]), array([-145.07439136]), array([-144.72667278]), array([-144.38223908]), array([-144.04105233]), array([-143.703075]), array([-143.36826998]), array([-143.03660059]), array([-142.70803053]), array([-142.38252395]), array([-142.06004538]), array([-141.74055976]), array([-141.42403245]), array([-141.11042919]), array([-140.79971615]), array([-140.49185986]), array([-140.18682726]), array([-139.88458569]), array([-139.58510288]), array([-139.28834692]), array([-138.9942863]), array([-138.70288991]), array([-138.41412697]), array([-138.1279671]), array([-137.84438031]), array([-137.56333693]), array([-137.28480769]), array([-137.00876366]), array([-136.73517628]), array([-136.46401734]), array([-136.19525898]), array([-135.92887366]), array([-135.66483424]), array([-135.40311386]), array([-135.14368602]), array([-134.88652457]), array([-134.63160367]), array([-134.37889779]), array([-134.12838175]), array([-133.88003068]), array([-133.63382001]), array([-133.3897255]), array([-133.14772321]), array([-132.90778949]), array([-132.66990102]), array([-132.43403474]), array([-132.20016793]), array([-131.96827811]), array([-131.73834311]), array([-131.51034105]), array([-131.28425033]), array([-131.0600496]), array([-130.8377178]), array([-130.61723416]), array([-130.39857813]), array([-130.18172947]), array([-129.96666816]), array([-129.75337446]), array([-129.54182887]), array([-129.33201216]), array([-129.12390532]), array([-128.91748959]), array([-128.71274646]), array([-128.50965765]), array([-128.30820513]), array([-128.10837106]), array([-127.91013787]), array([-127.7134882]), array([-127.5184049]), array([-127.32487105]), array([-127.13286995]), array([-126.94238511]), array([-126.75340024]), array([-126.56589927]), array([-126.37986633]), array([-126.19528575]), array([-126.01214206]), array([-125.83041998]), array([-125.65010445]), array([-125.47118057]), array([-125.29363364]), array([-125.11744915]), array([-124.94261277]), array([-124.76911035]), array([-124.59692792]), array([-124.42605169]), array([-124.25646803]), array([-124.08816349]), array([-123.9211248]), array([-123.75533884]), array([-123.59079267]), array([-123.42747349]), array([-123.26536867]), array([-123.10446576]), array([-122.94475242]), array([-122.78621651]), array([-122.62884601]), array([-122.47262907]), array([-122.31755396]), array([-122.16360912]), array([-122.01078313]), array([-121.8590647]), array([-121.70844269]), array([-121.55890608]), array([-121.41044401]), array([-121.26304574]), array([-121.11670066]), array([-120.97139829]), array([-120.82712829]), array([-120.68388043]), array([-120.54164461]), array([-120.40041086]), array([-120.26016933]), array([-120.12091027]), array([-119.98262407]), array([-119.84530124]), array([-119.70893238]), array([-119.57350823]), array([-119.43901961]), array([-119.30545749]), array([-119.17281292]), array([-119.04107705]), array([-118.91024117]), array([-118.78029664]), array([-118.65123494]), array([-118.52304765]), array([-118.39572645]), array([-118.26926312]), array([-118.14364952]), array([-118.01887762]), array([-117.8949395]), array([-117.7718273]), array([-117.64953329]), array([-117.52804978]), array([-117.40736923]), array([-117.28748414]), array([-117.16838712]), array([-117.05007086]), array([-116.93252813]), array([-116.81575181]), array([-116.69973482]), array([-116.5844702]), array([-116.46995104]), array([-116.35617053]), array([-116.24312194]), array([-116.1307986]), array([-116.01919392]), array([-115.9083014]), array([-115.7981146]), array([-115.68862715]), array([-115.57983278]), array([-115.47172525]), array([-115.36429842]), array([-115.25754621]), array([-115.15146261]), array([-115.04604168]), array([-114.94127753]), array([-114.83716436]), array([-114.73369643]), array([-114.63086804]), array([-114.52867358]), array([-114.4271075]), array([-114.32616429]), array([-114.22583853]), array([-114.12612485]), array([-114.02701791]), array([-113.92851248]), array([-113.83060335]), array([-113.73328538]), array([-113.63655348]), array([-113.54040262]), array([-113.44482784]), array([-113.3498242]), array([-113.25538683]), array([-113.16151094]), array([-113.06819174]), array([-112.97542453]), array([-112.88320465]), array([-112.79152749]), array([-112.70038848]), array([-112.60978311]), array([-112.51970692]), array([-112.43015549]), array([-112.34112445]), array([-112.25260947]), array([-112.16460628]), array([-112.07711065]), array([-111.99011838]), array([-111.90362534]), array([-111.81762742]), array([-111.73212056]), array([-111.64710075]), array([-111.56256402]), array([-111.47850643]), array([-111.39492409]), array([-111.31181316]), array([-111.22916981]), array([-111.14699029]), array([-111.06527085]), array([-110.98400781]), array([-110.9031975]), array([-110.82283632]), array([-110.74292067]), array([-110.66344701]), array([-110.58441183]), array([-110.50581167]), array([-110.42764308]), array([-110.34990265]), array([-110.27258703]), array([-110.19569287]), array([-110.11921688]), array([-110.04315578]), array([-109.96750635]), array([-109.89226537]), array([-109.81742968]), array([-109.74299614]), array([-109.66896164]), array([-109.5953231]), array([-109.52207748]), array([-109.44922176]), array([-109.37675295]), array([-109.3046681]), array([-109.23296428]), array([-109.16163859]), array([-109.09068815]), array([-109.02011013]), array([-108.9499017]), array([-108.88006009]), array([-108.81058253]), array([-108.74146628]), array([-108.67270865]), array([-108.60430694]), array([-108.5362585]), array([-108.4685607]), array([-108.40121094]), array([-108.33420664]), array([-108.26754523]), array([-108.2012242]), array([-108.13524104]), array([-108.06959325]), array([-108.00427838]), array([-107.939294]), array([-107.8746377]), array([-107.81030707]), array([-107.74629976]), array([-107.68261342]), array([-107.61924572]), array([-107.55619437]), array([-107.49345708]), array([-107.4310316]), array([-107.36891568]), array([-107.3071071]), array([-107.24560369]), array([-107.18440324]), array([-107.12350362]), array([-107.06290268]), array([-107.0025983]), array([-106.9425884]), array([-106.88287088]), array([-106.82344369]), array([-106.7643048]), array([-106.70545217]), array([-106.64688381]), array([-106.58859773]), array([-106.53059196]), array([-106.47286456]), array([-106.41541359]), array([-106.35823713]), array([-106.30133329]), array([-106.2447002]), array([-106.18833597]), array([-106.13223878]), array([-106.07640678]), array([-106.02083817]), array([-105.96553114]), array([-105.91048392]), array([-105.85569474]), array([-105.80116184]), array([-105.74688349]), array([-105.69285798]), array([-105.63908359]), array([-105.58555863]), array([-105.53228144]), array([-105.47925035]), array([-105.42646372]), array([-105.3739199]), array([-105.3216173]), array([-105.26955429]), array([-105.21772929]), array([-105.16614074]), array([-105.11478705]), array([-105.06366669]), array([-105.01277811]), array([-104.96211981]), array([-104.91169026]), array([-104.86148797]), array([-104.81151145]), array([-104.76175924]), array([-104.71222988]), array([-104.66292191]), array([-104.61383391]), array([-104.56496445]), array([-104.51631213]), array([-104.46787554]), array([-104.4196533]), array([-104.37164403]), array([-104.32384637]), array([-104.27625897]), array([-104.22888049]), array([-104.1817096]), array([-104.13474497]), array([-104.0879853]), array([-104.0414293]), array([-103.99507568]), array([-103.94892316]), array([-103.90297048]), array([-103.85721638]), array([-103.81165962]), array([-103.76629897]), array([-103.72113319]), array([-103.67616108]), array([-103.63138144]), array([-103.58679306]), array([-103.54239477]), array([-103.49818538]), array([-103.45416373]), array([-103.41032868]), array([-103.36667906]), array([-103.32321374]), array([-103.27993159]), array([-103.2368315]), array([-103.19391235]), array([-103.15117304]), array([-103.10861247]), array([-103.06622958]), array([-103.02402326]), array([-102.98199247]), array([-102.94013614]), array([-102.89845322]), array([-102.85694267]), array([-102.81560346]), array([-102.77443455]), array([-102.73343494]), array([-102.69260361]), array([-102.65193956]), array([-102.61144179]), array([-102.57110932]), array([-102.53094118]), array([-102.49093638]), array([-102.45109397]), array([-102.41141299]), array([-102.37189249]), array([-102.33253153]), array([-102.29332918]), array([-102.2542845]), array([-102.21539658]), array([-102.17666451]), array([-102.13808738]), array([-102.09966429]), array([-102.06139434]), array([-102.02327666]), array([-101.98531037]), array([-101.94749458]), array([-101.90982844]), array([-101.87231109]), array([-101.83494168]), array([-101.79771935]), array([-101.76064328]), array([-101.72371262]), array([-101.68692655]), array([-101.65028424]), array([-101.61378489]), array([-101.57742769]), array([-101.54121182]), array([-101.5051365]), array([-101.46920093]), array([-101.43340434]), array([-101.39774593]), array([-101.36222493]), array([-101.32684059]), array([-101.29159212]), array([-101.25647879]), array([-101.22149984]), array([-101.18665451]), array([-101.15194208]), array([-101.11736181]), array([-101.08291296]), array([-101.04859482]), array([-101.01440666]), array([-100.98034777]), array([-100.94641744]), array([-100.91261497]), array([-100.87893966]), array([-100.84539082]), array([-100.81196775]), array([-100.77866978]), array([-100.74549623]), array([-100.71244642]), array([-100.67951968]), array([-100.64671535]), array([-100.61403277]), array([-100.58147128]), array([-100.54903024]), array([-100.51670899]), array([-100.48450691]), array([-100.45242335]), array([-100.42045767]), array([-100.38860926]), array([-100.35687748]), array([-100.32526173]), array([-100.29376138]), array([-100.26237582]), array([-100.23110445]), array([-100.19994667]), array([-100.16890188]), array([-100.13796949]), array([-100.1071489]), array([-100.07643953]), array([-100.0458408]), array([-100.01535214]), array([-99.98497296]), array([-99.95470271]), array([-99.92454081]), array([-99.8944867]), array([-99.86453982]), array([-99.83469963]), array([-99.80496557]), array([-99.7753371]), array([-99.74581366]), array([-99.71639473]), array([-99.68707977]), array([-99.65786824]), array([-99.62875962]), array([-99.59975338]), array([-99.57084901]), array([-99.54204597]), array([-99.51334377]), array([-99.48474189]), array([-99.45623982]), array([-99.42783706]), array([-99.3995331]), array([-99.37132746]), array([-99.34321963]), array([-99.31520913]), array([-99.28729546]), array([-99.25947815]), array([-99.23175672]), array([-99.20413067]), array([-99.17659955]), array([-99.14916288]), array([-99.12182019]), array([-99.09457101]), array([-99.06741489]), array([-99.04035136]), array([-99.01337997]), array([-98.98650026]), array([-98.95971178]), array([-98.93301409]), array([-98.90640674]), array([-98.8798893]), array([-98.85346131]), array([-98.82712234]), array([-98.80087197]), array([-98.77470976]), array([-98.74863528]), array([-98.72264811]), array([-98.69674782]), array([-98.670934]), array([-98.64520624]), array([-98.6195641]), array([-98.59400719]), array([-98.5685351]), array([-98.54314741]), array([-98.51784373]), array([-98.49262365]), array([-98.46748677]), array([-98.44243271]), array([-98.41746106]), array([-98.39257143]), array([-98.36776343]), array([-98.34303669]), array([-98.31839081]), array([-98.29382541]), array([-98.26934011]), array([-98.24493455]), array([-98.22060833]), array([-98.1963611]), array([-98.17219247]), array([-98.14810209]), array([-98.12408959]), array([-98.1001546]), array([-98.07629676]), array([-98.05251572]), array([-98.02881112]), array([-98.00518261]), array([-97.98162983]), array([-97.95815243]), array([-97.93475006]), array([-97.91142239]), array([-97.88816906]), array([-97.86498974]), array([-97.84188408]), array([-97.81885175]), array([-97.79589242]), array([-97.77300574]), array([-97.75019139]), array([-97.72744905]), array([-97.70477837]), array([-97.68217905]), array([-97.65965074]), array([-97.63719314]), array([-97.61480593]), array([-97.59248878]), array([-97.57024137]), array([-97.54806341]), array([-97.52595457]), array([-97.50391455]), array([-97.48194303]), array([-97.46003971]), array([-97.43820429]), array([-97.41643646]), array([-97.39473592]), array([-97.37310238]), array([-97.35153553]), array([-97.33003508]), array([-97.30860074]), array([-97.28723221]), array([-97.2659292]), array([-97.24469143]), array([-97.22351861]), array([-97.20241045]), array([-97.18136666]), array([-97.16038697]), array([-97.1394711]), array([-97.11861877]), array([-97.09782969]), array([-97.0771036]), array([-97.05644021]), array([-97.03583927]), array([-97.01530049]), array([-96.99482361]), array([-96.97440835]), array([-96.95405447]), array([-96.93376167]), array([-96.91352972]), array([-96.89335833]), array([-96.87324726]), array([-96.85319625]), array([-96.83320503]), array([-96.81327335]), array([-96.79340096]), array([-96.7735876]), array([-96.75383303]), array([-96.73413699]), array([-96.71449923]), array([-96.69491951]), array([-96.67539758]), array([-96.65593319]), array([-96.63652611]), array([-96.61717608]), array([-96.59788288]), array([-96.57864626]), array([-96.55946599]), array([-96.54034182]), array([-96.52127352]), array([-96.50226086]), array([-96.48330361]), array([-96.46440153]), array([-96.4455544]), array([-96.42676198]), array([-96.40802405]), array([-96.38934038]), array([-96.37071075]), array([-96.35213494]), array([-96.33361272]), array([-96.31514386]), array([-96.29672816]), array([-96.27836539]), array([-96.26005533]), array([-96.24179777]), array([-96.22359249]), array([-96.20543928]), array([-96.18733792]), array([-96.16928821]), array([-96.15128993]), array([-96.13334287]), array([-96.11544682]), array([-96.09760159]), array([-96.07980695]), array([-96.06206272]), array([-96.04436867]), array([-96.02672461]), array([-96.00913034]), array([-95.99158566]), array([-95.97409037]), array([-95.95664426]), array([-95.93924715]), array([-95.92189883]), array([-95.90459911]), array([-95.8873478]), array([-95.87014469]), array([-95.85298961]), array([-95.83588236]), array([-95.81882274]), array([-95.80181058]), array([-95.78484567]), array([-95.76792784]), array([-95.7510569]), array([-95.73423265]), array([-95.71745493]), array([-95.70072354]), array([-95.6840383]), array([-95.66739903]), array([-95.65080555]), array([-95.63425768]), array([-95.61775524]), array([-95.60129806]), array([-95.58488596]), array([-95.56851875]), array([-95.55219627]), array([-95.53591834]), array([-95.5196848]), array([-95.50349546]), array([-95.48735015]), array([-95.47124871]), array([-95.45519096]), array([-95.43917675]), array([-95.42320588]), array([-95.40727822]), array([-95.39139357]), array([-95.37555179]), array([-95.3597527]), array([-95.34399614]), array([-95.32828196]), array([-95.31260998]), array([-95.29698004]), array([-95.28139199]), array([-95.26584567]), array([-95.25034091]), array([-95.23487756]), array([-95.21945547]), array([-95.20407447]), array([-95.18873441]), array([-95.17343514]), array([-95.15817649]), array([-95.14295833]), array([-95.12778049]), array([-95.11264282]), array([-95.09754518]), array([-95.08248741]), array([-95.06746936]), array([-95.05249089]), array([-95.03755185]), array([-95.02265208]), array([-95.00779145]), array([-94.9929698]), array([-94.97818699]), array([-94.96344288]), array([-94.94873733]), array([-94.93407019]), array([-94.91944131]), array([-94.90485056]), array([-94.8902978]), array([-94.87578289]), array([-94.86130568]), array([-94.84686604]), array([-94.83246383]), array([-94.81809891]), array([-94.80377114]), array([-94.7894804]), array([-94.77522654]), array([-94.76100942]), array([-94.74682893]), array([-94.73268491]), array([-94.71857724]), array([-94.70450579]), array([-94.69047043]), array([-94.67647101]), array([-94.66250743]), array([-94.64857953]), array([-94.6346872]), array([-94.62083031]), array([-94.60700872]), array([-94.59322232]), array([-94.57947097]), array([-94.56575455]), array([-94.55207293]), array([-94.53842599]), array([-94.52481361]), array([-94.51123565]), array([-94.49769201]), array([-94.48418255]), array([-94.47070715]), array([-94.45726569]), array([-94.44385806]), array([-94.43048413]), array([-94.41714377]), array([-94.40383688]), array([-94.39056334]), array([-94.37732302]), array([-94.36411581]), array([-94.35094159]), array([-94.33780024]), array([-94.32469166]), array([-94.31161572]), array([-94.29857231]), array([-94.28556132]), array([-94.27258263]), array([-94.25963613]), array([-94.2467217]), array([-94.23383924]), array([-94.22098863]), array([-94.20816977]), array([-94.19538254]), array([-94.18262682]), array([-94.16990253]), array([-94.15720953]), array([-94.14454773]), array([-94.13191702]), array([-94.11931728]), array([-94.10674842]), array([-94.09421032]), array([-94.08170289]), array([-94.06922601]), array([-94.05677957]), array([-94.04436349]), array([-94.03197764]), array([-94.01962193]), array([-94.00729626]), array([-93.99500051]), array([-93.9827346]), array([-93.97049841]), array([-93.95829185]), array([-93.94611482]), array([-93.93396721]), array([-93.92184892]), array([-93.90975986]), array([-93.89769993]), array([-93.88566903]), array([-93.87366705]), array([-93.86169391]), array([-93.8497495]), array([-93.83783373]), array([-93.82594651]), array([-93.81408773]), array([-93.80225729]), array([-93.79045512]), array([-93.7786811]), array([-93.76693515]), array([-93.75521718]), array([-93.74352708]), array([-93.73186476]), array([-93.72023014]), array([-93.70862313]), array([-93.69704362]), array([-93.68549153]), array([-93.67396676]), array([-93.66246923]), array([-93.65099885]), array([-93.63955552]), array([-93.62813916]), array([-93.61674968]), array([-93.60538699]), array([-93.594051]), array([-93.58274162]), array([-93.57145877]), array([-93.56020235]), array([-93.54897229]), array([-93.53776849]), array([-93.52659088]), array([-93.51543935]), array([-93.50431384]), array([-93.49321425]), array([-93.48214049]), array([-93.4710925]), array([-93.46007017]), array([-93.44907343]), array([-93.4381022]), array([-93.42715639]), array([-93.41623592]), array([-93.40534071]), array([-93.39447067]), array([-93.38362573]), array([-93.3728058]), array([-93.36201081]), array([-93.35124067]), array([-93.3404953]), array([-93.32977463]), array([-93.31907857]), array([-93.30840705]), array([-93.29775998]), array([-93.28713729]), array([-93.27653891]), array([-93.26596474]), array([-93.25541473]), array([-93.24488878]), array([-93.23438682]), array([-93.22390879]), array([-93.21345459]), array([-93.20302415]), array([-93.19261741]), array([-93.18223428]), array([-93.17187469]), array([-93.16153857]), array([-93.15122583]), array([-93.14093642]), array([-93.13067025]), array([-93.12042725]), array([-93.11020735]), array([-93.10001047]), array([-93.08983655]), array([-93.0796855]), array([-93.06955727]), array([-93.05945178]), array([-93.04936895]), array([-93.03930872]), array([-93.02927102]), array([-93.01925577]), array([-93.00926291]), array([-92.99929237]), array([-92.98934407]), array([-92.97941796]), array([-92.96951395]), array([-92.95963198]), array([-92.94977198]), array([-92.93993389]), array([-92.93011764]), array([-92.92032316]), array([-92.91055038]), array([-92.90079923]), array([-92.89106966]), array([-92.88136159]), array([-92.87167496]), array([-92.86200969]), array([-92.85236574]), array([-92.84274302]), array([-92.83314148]), array([-92.82356106]), array([-92.81400168]), array([-92.80446328]), array([-92.7949458]), array([-92.78544918]), array([-92.77597334]), array([-92.76651824]), array([-92.7570838]), array([-92.74766997]), array([-92.73827668]), array([-92.72890386]), array([-92.71955147]), array([-92.71021942]), array([-92.70090768]), array([-92.69161616]), array([-92.68234482]), array([-92.67309358]), array([-92.6638624]), array([-92.65465121]), array([-92.64545995]), array([-92.63628856]), array([-92.62713698]), array([-92.61800516]), array([-92.60889303]), array([-92.59980053]), array([-92.59072761]), array([-92.5816742]), array([-92.57264026]), array([-92.56362571]), array([-92.55463052]), array([-92.5456546]), array([-92.53669792]), array([-92.52776041]), array([-92.51884202]), array([-92.50994268]), array([-92.50106235]), array([-92.49220097]), array([-92.48335847]), array([-92.47453482]), array([-92.46572994]), array([-92.45694379]), array([-92.4481763]), array([-92.43942744]), array([-92.43069713]), array([-92.42198533]), array([-92.41329198]), array([-92.40461703]), array([-92.39596043]), array([-92.38732211]), array([-92.37870204]), array([-92.37010014]), array([-92.36151638]), array([-92.3529507]), array([-92.34440305]), array([-92.33587337]), array([-92.32736161]), array([-92.31886772]), array([-92.31039165]), array([-92.30193335]), array([-92.29349276]), array([-92.28506984]), array([-92.27666453]), array([-92.26827678]), array([-92.25990655]), array([-92.25155378]), array([-92.24321842]), array([-92.23490042]), array([-92.22659973]), array([-92.21831631]), array([-92.2100501]), array([-92.20180105]), array([-92.19356912]), array([-92.18535425]), array([-92.17715641]), array([-92.16897553]), array([-92.16081157]), array([-92.15266448]), array([-92.14453422]), array([-92.13642074]), array([-92.12832398]), array([-92.12024391]), array([-92.11218047]), array([-92.10413362]), array([-92.09610331]), array([-92.08808949]), array([-92.08009213]), array([-92.07211116]), array([-92.06414655]), array([-92.05619824]), array([-92.0482662]), array([-92.04035038]), array([-92.03245073]), array([-92.0245672]), array([-92.01669976]), array([-92.00884835]), array([-92.00101294]), array([-91.99319347]), array([-91.9853899]), array([-91.97760219]), array([-91.9698303]), array([-91.96207417]), array([-91.95433378]), array([-91.94660906]), array([-91.93889998]), array([-91.9312065]), array([-91.92352857]), array([-91.91586615]), array([-91.9082192]), array([-91.90058767]), array([-91.89297152]), array([-91.8853707]), array([-91.87778519]), array([-91.87021493]), array([-91.86265988]), array([-91.85512]), array([-91.84759525]), array([-91.84008558]), array([-91.83259096]), array([-91.82511135]), array([-91.8176467]), array([-91.81019697]), array([-91.80276212]), array([-91.79534212]), array([-91.78793691]), array([-91.78054646]), array([-91.77317074]), array([-91.76580969]), array([-91.75846328]), array([-91.75113148]), array([-91.74381423]), array([-91.73651151]), array([-91.72922326]), array([-91.72194946]), array([-91.71469006]), array([-91.70744503]), array([-91.70021432]), array([-91.6929979]), array([-91.68579573]), array([-91.67860777]), array([-91.67143398]), array([-91.66427432]), array([-91.65712876]), array([-91.64999725]), array([-91.64287977]), array([-91.63577627]), array([-91.62868671]), array([-91.62161106]), array([-91.61454928]), array([-91.60750134]), array([-91.60046719]), array([-91.5934468]), array([-91.58644014]), array([-91.57944716]), array([-91.57246783]), array([-91.56550211]), array([-91.55854998]), array([-91.55161138]), array([-91.54468629]), array([-91.53777467]), array([-91.53087649]), array([-91.5239917]), array([-91.51712027]), array([-91.51026218]), array([-91.50341738]), array([-91.49658583]), array([-91.48976751]), array([-91.48296237]), array([-91.47617039]), array([-91.46939153]), array([-91.46262575]), array([-91.45587303]), array([-91.44913331]), array([-91.44240658]), array([-91.4356928]), array([-91.42899193]), array([-91.42230395]), array([-91.4156288]), array([-91.40896648]), array([-91.40231693]), array([-91.39568012]), array([-91.38905603]), array([-91.38244462]), array([-91.37584586]), array([-91.36925971]), array([-91.36268615]), array([-91.35612513]), array([-91.34957663]), array([-91.34304061]), array([-91.33651705]), array([-91.3300059]), array([-91.32350714]), array([-91.31702074]), array([-91.31054666]), array([-91.30408487]), array([-91.29763535]), array([-91.29119805]), array([-91.28477295]), array([-91.27836002]), array([-91.27195922]), array([-91.26557052]), array([-91.2591939]), array([-91.25282932]), array([-91.24647675]), array([-91.24013616]), array([-91.23380752]), array([-91.2274908]), array([-91.22118597]), array([-91.214893]), array([-91.20861185]), array([-91.20234251]), array([-91.19608493]), array([-91.18983909]), array([-91.18360496]), array([-91.17738251]), array([-91.17117171]), array([-91.16497253]), array([-91.15878494]), array([-91.15260891]), array([-91.14644441]), array([-91.14029141]), array([-91.13414989]), array([-91.12801982]), array([-91.12190116]), array([-91.11579389]), array([-91.10969797]), array([-91.10361339]), array([-91.09754011]), array([-91.0914781]), array([-91.08542734]), array([-91.0793878]), array([-91.07335944]), array([-91.06734225]), array([-91.06133619]), array([-91.05534123]), array([-91.04935735]), array([-91.04338452]), array([-91.03742272]), array([-91.03147191]), array([-91.02553207]), array([-91.01960317]), array([-91.01368518]), array([-91.00777808]), array([-91.00188183]), array([-90.99599642]), array([-90.99012182]), array([-90.98425799]), array([-90.97840492]), array([-90.97256257]), array([-90.96673092]), array([-90.96090995]), array([-90.95509962]), array([-90.94929991]), array([-90.9435108]), array([-90.93773225]), array([-90.93196425]), array([-90.92620676]), array([-90.92045976]), array([-90.91472323]), array([-90.90899713]), array([-90.90328145]), array([-90.89757616]), array([-90.89188123]), array([-90.88619664]), array([-90.88052236]), array([-90.87485836]), array([-90.86920463]), array([-90.86356114]), array([-90.85792786]), array([-90.85230476]), array([-90.84669183]), array([-90.84108903]), array([-90.83549635]), array([-90.82991376]), array([-90.82434123]), array([-90.81877874]), array([-90.81322627]), array([-90.80768378]), array([-90.80215127]), array([-90.7966287]), array([-90.79111604]), array([-90.78561329]), array([-90.7801204]), array([-90.77463736]), array([-90.76916415]), array([-90.76370073]), array([-90.75824709]), array([-90.75280321]), array([-90.74736905]), array([-90.74194461]), array([-90.73652984]), array([-90.73112474]), array([-90.72572927]), array([-90.72034342]), array([-90.71496716]), array([-90.70960046]), array([-90.70424331]), array([-90.69889569]), array([-90.69355756]), array([-90.68822891]), array([-90.68290972]), array([-90.67759996]), array([-90.67229961]), array([-90.66700865]), array([-90.66172705]), array([-90.65645479]), array([-90.65119186]), array([-90.64593823]), array([-90.64069387]), array([-90.63545877]), array([-90.6302329]), array([-90.62501624]), array([-90.61980877]), array([-90.61461047]), array([-90.60942132]), array([-90.60424129]), array([-90.59907037]), array([-90.59390853]), array([-90.58875575]), array([-90.58361201]), array([-90.57847729]), array([-90.57335156]), array([-90.56823481]), array([-90.56312702]), array([-90.55802816]), array([-90.55293821]), array([-90.54785716]), array([-90.54278498]), array([-90.53772165]), array([-90.53266715]), array([-90.52762146]), array([-90.52258456]), array([-90.51755643]), array([-90.51253705]), array([-90.5075264]), array([-90.50252446]), array([-90.4975312]), array([-90.49254661]), array([-90.48757067]), array([-90.48260336]), array([-90.47764465]), array([-90.47269454]), array([-90.46775299]), array([-90.46281999]), array([-90.45789552]), array([-90.45297956]), array([-90.44807208]), array([-90.44317308]), array([-90.43828253]), array([-90.43340041]), array([-90.4285267]), array([-90.42366138]), array([-90.41880444]), array([-90.41395585]), array([-90.4091156]), array([-90.40428366]), array([-90.39946001]), array([-90.39464465]), array([-90.38983755]), array([-90.38503868]), array([-90.38024804]), array([-90.3754656]), array([-90.37069134]), array([-90.36592525]), array([-90.3611673]), array([-90.35641749]), array([-90.35167578]), array([-90.34694216]), array([-90.34221662]), array([-90.33749913]), array([-90.33278968]), array([-90.32808825]), array([-90.32339482]), array([-90.31870936]), array([-90.31403188]), array([-90.30936234]), array([-90.30470072]), array([-90.30004702]), array([-90.29540121]), array([-90.29076328]), array([-90.2861332]), array([-90.28151096]), array([-90.27689654]), array([-90.27228993]), array([-90.2676911]), array([-90.26310004]), array([-90.25851674]), array([-90.25394116]), array([-90.24937331]), array([-90.24481315]), array([-90.24026068]), array([-90.23571588]), array([-90.23117872]), array([-90.22664919]), array([-90.22212728]), array([-90.21761296]), array([-90.21310623]), array([-90.20860705]), array([-90.20411543]), array([-90.19963133]), array([-90.19515475]), array([-90.19068567]), array([-90.18622406]), array([-90.18176992]), array([-90.17732322]), array([-90.17288396]), array([-90.16845211]), array([-90.16402765]), array([-90.15961058]), array([-90.15520087]), array([-90.15079851]), array([-90.14640349]), array([-90.14201578]), array([-90.13763537]), array([-90.13326224]), array([-90.12889638]), array([-90.12453778]), array([-90.12018641]), array([-90.11584226]), array([-90.11150531]), array([-90.10717556]), array([-90.10285297]), array([-90.09853755]), array([-90.09422926]), array([-90.0899281]), array([-90.08563406]), array([-90.0813471]), array([-90.07706723]), array([-90.07279442]), array([-90.06852866]), array([-90.06426993]), array([-90.06001822]), array([-90.05577351]), array([-90.05153579]), array([-90.04730504]), array([-90.04308125]), array([-90.0388644]), array([-90.03465448]), array([-90.03045147]), array([-90.02625536]), array([-90.02206613]), array([-90.01788377]), array([-90.01370825]), array([-90.00953958]), array([-90.00537773]), array([-90.00122269]), array([-89.99707444]), array([-89.99293297]), array([-89.98879826]), array([-89.9846703]), array([-89.98054908]), array([-89.97643458]), array([-89.97232678]), array([-89.96822568]), array([-89.96413125]), array([-89.96004349]), array([-89.95596238]), array([-89.9518879]), array([-89.94782004]), array([-89.94375878]), array([-89.93970412]), array([-89.93565604]), array([-89.93161452]), array([-89.92757955]), array([-89.92355112]), array([-89.91952921]), array([-89.91551381]), array([-89.9115049]), array([-89.90750247]), array([-89.90350651]), array([-89.899517]), array([-89.89553393]), array([-89.89155729]), array([-89.88758706]), array([-89.88362323]), array([-89.87966578]), array([-89.8757147]), array([-89.87176998]), array([-89.86783161]), array([-89.86389957]), array([-89.85997384]), array([-89.85605442]), array([-89.85214129]), array([-89.84823444]), array([-89.84433385]), array([-89.84043952]), array([-89.83655142]), array([-89.83266955]), array([-89.82879389]), array([-89.82492443]), array([-89.82106115]), array([-89.81720405]), array([-89.81335311]), array([-89.80950831]), array([-89.80566965]), array([-89.80183712]), array([-89.79801069]), array([-89.79419035]), array([-89.7903761]), array([-89.78656792]), array([-89.7827658]), array([-89.77896972]), array([-89.77517968]), array([-89.77139565]), array([-89.76761764]), array([-89.76384562]), array([-89.76007958]), array([-89.75631951]), array([-89.7525654]), array([-89.74881723]), array([-89.745075]), array([-89.74133869]), array([-89.73760828]), array([-89.73388378]), array([-89.73016515]), array([-89.7264524]), array([-89.72274551]), array([-89.71904447]), array([-89.71534926]), array([-89.71165988]), array([-89.7079763]), array([-89.70429853]), array([-89.70062655]), array([-89.69696034]), array([-89.69329989]), array([-89.6896452]), array([-89.68599625]), array([-89.68235302]), array([-89.67871551]), array([-89.67508371]), array([-89.6714576]), array([-89.66783717]), array([-89.66422242]), array([-89.66061332]), array([-89.65700986]), array([-89.65341205]), array([-89.64981985]), array([-89.64623327]), array([-89.64265229]), array([-89.6390769]), array([-89.63550709]), array([-89.63194284]), array([-89.62838415]), array([-89.62483101]), array([-89.62128339]), array([-89.6177413]), array([-89.61420472]), array([-89.61067364]), array([-89.60714804]), array([-89.60362792]), array([-89.60011327]), array([-89.59660408]), array([-89.59310032]), array([-89.589602]), array([-89.5861091]), array([-89.58262162]), array([-89.57913953]), array([-89.57566283]), array([-89.57219151]), array([-89.56872555]), array([-89.56526496]), array([-89.5618097]), array([-89.55835979]), array([-89.5549152]), array([-89.55147592]), array([-89.54804194]), array([-89.54461326]), array([-89.54118985]), array([-89.53777172]), array([-89.53435885]), array([-89.53095123]), array([-89.52754885]), array([-89.5241517]), array([-89.52075976]), array([-89.51737304]), array([-89.51399151]), array([-89.51061516]), array([-89.507244]), array([-89.503878]), array([-89.50051716]), array([-89.49716146]), array([-89.4938109]), array([-89.49046547]), array([-89.48712515]), array([-89.48378994]), array([-89.48045982]), array([-89.47713478]), array([-89.47381482]), array([-89.47049993]), array([-89.46719009]), array([-89.4638853]), array([-89.46058554]), array([-89.4572908]), array([-89.45400108]), array([-89.45071636]), array([-89.44743664]), array([-89.44416191]), array([-89.44089215]), array([-89.43762735]), array([-89.43436752]), array([-89.43111262]), array([-89.42786267]), array([-89.42461764]), array([-89.42137752]), array([-89.41814232]), array([-89.41491201]), array([-89.41168659]), array([-89.40846605]), array([-89.40525038]), array([-89.40203956]), array([-89.3988336]), array([-89.39563248]), array([-89.39243618]), array([-89.38924471]), array([-89.38605805]), array([-89.3828762]), array([-89.37969913]), array([-89.37652685]), array([-89.37335935]), array([-89.37019661]), array([-89.36703862]), array([-89.36388538]), array([-89.36073688]), array([-89.35759311]), array([-89.35445406]), array([-89.35131972]), array([-89.34819007]), array([-89.34506512]), array([-89.34194485]), array([-89.33882926]), array([-89.33571833]), array([-89.33261205]), array([-89.32951042]), array([-89.32641343]), array([-89.32332106]), array([-89.32023332]), array([-89.31715019]), array([-89.31407165]), array([-89.31099771]), array([-89.30792836]), array([-89.30486358]), array([-89.30180336]), array([-89.2987477]), array([-89.29569659]), array([-89.29265003]), array([-89.28960799]), array([-89.28657047]), array([-89.28353747]), array([-89.28050897]), array([-89.27748497]), array([-89.27446546]), array([-89.27145043]), array([-89.26843986]), array([-89.26543376]), array([-89.26243212]), array([-89.25943492]), array([-89.25644215]), array([-89.25345381]), array([-89.2504699]), array([-89.24749039]), array([-89.24451528]), array([-89.24154458]), array([-89.23857825]), array([-89.23561631]), array([-89.23265873]), array([-89.22970552]), array([-89.22675665]), array([-89.22381213]), array([-89.22087195]), array([-89.2179361]), array([-89.21500456]), array([-89.21207734]), array([-89.20915442]), array([-89.2062358]), array([-89.20332146]), array([-89.2004114]), array([-89.19750562]), array([-89.19460409]), array([-89.19170683]), array([-89.1888138]), array([-89.18592502]), array([-89.18304047]), array([-89.18016014]), array([-89.17728402]), array([-89.17441211]), array([-89.1715444]), array([-89.16868088]), array([-89.16582155]), array([-89.16296639]), array([-89.1601154]), array([-89.15726857]), array([-89.15442588]), array([-89.15158735]), array([-89.14875295]), array([-89.14592268]), array([-89.14309652]), array([-89.14027449]), array([-89.13745655]), array([-89.13464272]), array([-89.13183297]), array([-89.12902731]), array([-89.12622572]), array([-89.1234282]), array([-89.12063474]), array([-89.11784534]), array([-89.11505997]), array([-89.11227864]), array([-89.10950135]), array([-89.10672807]), array([-89.10395881]), array([-89.10119356]), array([-89.0984323]), array([-89.09567504]), array([-89.09292176]), array([-89.09017246]), array([-89.08742713]), array([-89.08468576]), array([-89.08194835]), array([-89.07921489]), array([-89.07648536]), array([-89.07375977]), array([-89.07103811]), array([-89.06832036]), array([-89.06560653]), array([-89.0628966]), array([-89.06019057]), array([-89.05748842]), array([-89.05479016]), array([-89.05209578]), array([-89.04940527]), array([-89.04671861]), array([-89.04403581]), array([-89.04135686]), array([-89.03868175]), array([-89.03601047]), array([-89.03334302]), array([-89.03067938]), array([-89.02801956]), array([-89.02536355]), array([-89.02271133]), array([-89.0200629]), array([-89.01741826]), array([-89.01477739]), array([-89.0121403]), array([-89.00950697]), array([-89.00687739]), array([-89.00425157]), array([-89.00162949]), array([-88.99901114]), array([-88.99639652]), array([-88.99378563]), array([-88.99117845]), array([-88.98857498]), array([-88.98597521]), array([-88.98337914]), array([-88.98078676]), array([-88.97819806]), array([-88.97561303]), array([-88.97303168]), array([-88.97045398]), array([-88.96787994]), array([-88.96530955]), array([-88.9627428]), array([-88.96017969]), array([-88.95762021]), array([-88.95506435]), array([-88.9525121]), array([-88.94996347]), array([-88.94741843]), array([-88.944877]), array([-88.94233915]), array([-88.93980489]), array([-88.9372742]), array([-88.93474709]), array([-88.93222353]), array([-88.92970354]), array([-88.9271871]), array([-88.9246742]), array([-88.92216484]), array([-88.91965901]), array([-88.91715671]), array([-88.91465793]), array([-88.91216266]), array([-88.9096709]), array([-88.90718264]), array([-88.90469787]), array([-88.90221659]), array([-88.89973879]), array([-88.89726447]), array([-88.89479362]), array([-88.89232623]), array([-88.8898623]), array([-88.88740182]), array([-88.88494478]), array([-88.88249118]), array([-88.88004102]), array([-88.87759428]), array([-88.87515096]), array([-88.87271105]), array([-88.87027455]), array([-88.86784146]), array([-88.86541176]), array([-88.86298545]), array([-88.86056252]), array([-88.85814298]), array([-88.8557268]), array([-88.85331399]), array([-88.85090454]), array([-88.84849844]), array([-88.84609569]), array([-88.84369629]), array([-88.84130022]), array([-88.83890748]), array([-88.83651806]), array([-88.83413196]), array([-88.83174918]), array([-88.8293697]), array([-88.82699353]), array([-88.82462064]), array([-88.82225105]), array([-88.81988474]), array([-88.81752171]), array([-88.81516195]), array([-88.81280546]), array([-88.81045223]), array([-88.80810225]), array([-88.80575552]), array([-88.80341204]), array([-88.80107179]), array([-88.79873477]), array([-88.79640098]), array([-88.79407041]), array([-88.79174306]), array([-88.78941892]), array([-88.78709798]), array([-88.78478023]), array([-88.78246568]), array([-88.78015432]), array([-88.77784614]), array([-88.77554113]), array([-88.7732393]), array([-88.77094063]), array([-88.76864511]), array([-88.76635276]), array([-88.76406355]), array([-88.76177748]), array([-88.75949455]), array([-88.75721475]), array([-88.75493808]), array([-88.75266453]), array([-88.75039409]), array([-88.74812677]), array([-88.74586255]), array([-88.74360143]), array([-88.7413434]), array([-88.73908846]), array([-88.73683661]), array([-88.73458783]), array([-88.73234212]), array([-88.73009949]), array([-88.72785991]), array([-88.72562339]), array([-88.72338992]), array([-88.7211595]), array([-88.71893212]), array([-88.71670778]), array([-88.71448646]), array([-88.71226817]), array([-88.7100529]), array([-88.70784065]), array([-88.7056314]), array([-88.70342516]), array([-88.70122192]), array([-88.69902167]), array([-88.69682441]), array([-88.69463013]), array([-88.69243884]), array([-88.69025051]), array([-88.68806516]), array([-88.68588277]), array([-88.68370333]), array([-88.68152685]), array([-88.67935332]), array([-88.67718273]), array([-88.67501508]), array([-88.67285036]), array([-88.67068857]), array([-88.6685297]), array([-88.66637375]), array([-88.66422071]), array([-88.66207058]), array([-88.65992336]), array([-88.65777903]), array([-88.65563759]), array([-88.65349905]), array([-88.65136339]), array([-88.6492306]), array([-88.64710069]), array([-88.64497365]), array([-88.64284947]), array([-88.64072815]), array([-88.63860968]), array([-88.63649406]), array([-88.63438129]), array([-88.63227136]), array([-88.63016426]), array([-88.62805999]), array([-88.62595855]), array([-88.62385992]), array([-88.62176412]), array([-88.61967112]), array([-88.61758093]), array([-88.61549354]), array([-88.61340895]), array([-88.61132714]), array([-88.60924813]), array([-88.6071719]), array([-88.60509844]), array([-88.60302776]), array([-88.60095985]), array([-88.5988947]), array([-88.59683231]), array([-88.59477268]), array([-88.59271579]), array([-88.59066165]), array([-88.58861025]), array([-88.58656158]), array([-88.58451565]), array([-88.58247244]), array([-88.58043196]), array([-88.57839419]), array([-88.57635914]), array([-88.5743268]), array([-88.57229715]), array([-88.57027021]), array([-88.56824597]), array([-88.56622441]), array([-88.56420554]), array([-88.56218935]), array([-88.56017584]), array([-88.558165]), array([-88.55615683]), array([-88.55415132]), array([-88.55214847]), array([-88.55014827]), array([-88.54815073]), array([-88.54615583]), array([-88.54416357]), array([-88.54217395]), array([-88.54018697]), array([-88.53820261]), array([-88.53622087]), array([-88.53424176]), array([-88.53226526]), array([-88.53029137]), array([-88.52832008]), array([-88.5263514]), array([-88.52438532]), array([-88.52242183]), array([-88.52046093]), array([-88.51850262]), array([-88.51654688]), array([-88.51459372]), array([-88.51264314]), array([-88.51069512]), array([-88.50874967]), array([-88.50680677]), array([-88.50486643]), array([-88.50292864]), array([-88.5009934]), array([-88.4990607]), array([-88.49713054]), array([-88.49520291]), array([-88.49327782]), array([-88.49135525]), array([-88.4894352]), array([-88.48751767]), array([-88.48560265]), array([-88.48369014]), array([-88.48178014]), array([-88.47987263]), array([-88.47796763]), array([-88.47606512]), array([-88.47416509]), array([-88.47226755]), array([-88.47037249]), array([-88.46847991]), array([-88.4665898]), array([-88.46470216]), array([-88.46281698]), array([-88.46093427]), array([-88.45905401]), array([-88.4571762]), array([-88.45530084]), array([-88.45342793]), array([-88.45155745]), array([-88.44968942]), array([-88.44782381]), array([-88.44596063]), array([-88.44409988]), array([-88.44224155]), array([-88.44038563]), array([-88.43853213]), array([-88.43668104]), array([-88.43483235]), array([-88.43298606]), array([-88.43114217]), array([-88.42930067]), array([-88.42746156]), array([-88.42562484]), array([-88.4237905]), array([-88.42195853]), array([-88.42012894]), array([-88.41830172]), array([-88.41647686]), array([-88.41465437]), array([-88.41283424]), array([-88.41101646]), array([-88.40920103]), array([-88.40738795]), array([-88.40557721]), array([-88.40376881]), array([-88.40196275]), array([-88.40015902]), array([-88.39835762]), array([-88.39655854]), array([-88.39476178]), array([-88.39296734]), array([-88.39117521]), array([-88.38938539]), array([-88.38759788]), array([-88.38581267]), array([-88.38402976]), array([-88.38224914]), array([-88.38047081]), array([-88.37869477]), array([-88.37692102]), array([-88.37514954]), array([-88.37338034]), array([-88.37161342]), array([-88.36984876]), array([-88.36808637]), array([-88.36632624]), array([-88.36456836]), array([-88.36281274]), array([-88.36105938]), array([-88.35930826]), array([-88.35755938]), array([-88.35581275]), array([-88.35406835]), array([-88.35232618]), array([-88.35058624]), array([-88.34884853]), array([-88.34711304]), array([-88.34537977]), array([-88.34364872]), array([-88.34191987]), array([-88.34019324]), array([-88.33846881]), array([-88.33674658]), array([-88.33502655]), array([-88.33330871]), array([-88.33159306]), array([-88.3298796]), array([-88.32816833]), array([-88.32645923]), array([-88.32475231]), array([-88.32304757]), array([-88.32134499]), array([-88.31964458]), array([-88.31794634]), array([-88.31625025]), array([-88.31455632]), array([-88.31286454]), array([-88.31117492]), array([-88.30948744]), array([-88.3078021]), array([-88.3061189]), array([-88.30443783]), array([-88.3027589]), array([-88.3010821]), array([-88.29940742]), array([-88.29773487]), array([-88.29606443]), array([-88.29439611]), array([-88.29272991]), array([-88.29106581]), array([-88.28940381]), array([-88.28774393]), array([-88.28608613]), array([-88.28443044]), array([-88.28277684]), array([-88.28112532]), array([-88.2794759]), array([-88.27782855]), array([-88.27618329]), array([-88.2745401]), array([-88.27289898]), array([-88.27125994]), array([-88.26962296]), array([-88.26798804]), array([-88.26635519]), array([-88.26472439]), array([-88.26309564]), array([-88.26146894]), array([-88.2598443]), array([-88.25822169]), array([-88.25660113]), array([-88.2549826]), array([-88.25336611]), array([-88.25175165]), array([-88.25013922]), array([-88.24852881]), array([-88.24692042]), array([-88.24531406]), array([-88.2437097]), array([-88.24210736]), array([-88.24050703]), array([-88.23890871]), array([-88.23731239]), array([-88.23571807]), array([-88.23412574]), array([-88.23253541]), array([-88.23094707]), array([-88.22936072]), array([-88.22777635]), array([-88.22619396]), array([-88.22461355]), array([-88.22303512]), array([-88.22145865]), array([-88.21988416]), array([-88.21831163]), array([-88.21674107]), array([-88.21517247]), array([-88.21360582]), array([-88.21204112]), array([-88.21047838]), array([-88.20891759]), array([-88.20735874]), array([-88.20580183]), array([-88.20424686]), array([-88.20269383]), array([-88.20114273]), array([-88.19959356]), array([-88.19804631]), array([-88.19650099]), array([-88.1949576]), array([-88.19341612]), array([-88.19187655]), array([-88.1903389]), array([-88.18880315]), array([-88.18726932]), array([-88.18573738]), array([-88.18420735]), array([-88.18267921]), array([-88.18115297]), array([-88.17962862]), array([-88.17810616]), array([-88.17658558]), array([-88.17506689]), array([-88.17355008]), array([-88.17203515]), array([-88.17052209]), array([-88.1690109]), array([-88.16750158]), array([-88.16599412]), array([-88.16448853]), array([-88.1629848]), array([-88.16148293]), array([-88.15998291]), array([-88.15848474]), array([-88.15698842]), array([-88.15549395]), array([-88.15400132]), array([-88.15251053]), array([-88.15102158]), array([-88.14953446]), array([-88.14804918]), array([-88.14656572]), array([-88.1450841]), array([-88.14360429]), array([-88.14212631]), array([-88.14065014]), array([-88.13917579]), array([-88.13770325]), array([-88.13623252]), array([-88.1347636]), array([-88.13329649]), array([-88.13183117]), array([-88.13036766]), array([-88.12890594]), array([-88.12744601]), array([-88.12598787]), array([-88.12453153]), array([-88.12307696]), array([-88.12162419]), array([-88.12017319]), array([-88.11872396]), array([-88.11727652]), array([-88.11583084]), array([-88.11438694]), array([-88.1129448]), array([-88.11150442]), array([-88.11006581]), array([-88.10862895]), array([-88.10719385]), array([-88.1057605]), array([-88.10432891]), array([-88.10289906]), array([-88.10147096]), array([-88.1000446]), array([-88.09861998]), array([-88.0971971]), array([-88.09577595]), array([-88.09435654]), array([-88.09293885]), array([-88.0915229]), array([-88.09010867]), array([-88.08869615]), array([-88.08728536]), array([-88.08587629]), array([-88.08446893]), array([-88.08306328]), array([-88.08165934]), array([-88.08025711]), array([-88.07885658]), array([-88.07745776]), array([-88.07606063]), array([-88.0746652]), array([-88.07327146]), array([-88.07187941]), array([-88.07048906]), array([-88.06910039]), array([-88.0677134]), array([-88.06632809]), array([-88.06494447]), array([-88.06356252]), array([-88.06218224]), array([-88.06080363]), array([-88.0594267]), array([-88.05805143]), array([-88.05667782]), array([-88.05530588]), array([-88.05393559]), array([-88.05256696]), array([-88.05119999]), array([-88.04983466]), array([-88.04847099]), array([-88.04710896]), array([-88.04574858]), array([-88.04438983]), array([-88.04303273]), array([-88.04167727]), array([-88.04032343]), array([-88.03897124]), array([-88.03762067]), array([-88.03627172]), array([-88.03492441]), array([-88.03357871]), array([-88.03223464]), array([-88.03089218]), array([-88.02955134]), array([-88.02821211]), array([-88.02687449]), array([-88.02553848]), array([-88.02420408]), array([-88.02287128]), array([-88.02154008]), array([-88.02021048]), array([-88.01888248]), array([-88.01755606]), array([-88.01623125]), array([-88.01490802]), array([-88.01358637]), array([-88.01226632]), array([-88.01094784]), array([-88.00963095]), array([-88.00831563]), array([-88.00700189]), array([-88.00568972]), array([-88.00437912]), array([-88.00307009]), array([-88.00176262]), array([-88.00045672]), array([-87.99915239]), array([-87.99784961]), array([-87.99654838]), array([-87.99524872]), array([-87.9939506]), array([-87.99265404]), array([-87.99135902]), array([-87.99006555]), array([-87.98877362]), array([-87.98748324]), array([-87.98619439]), array([-87.98490708]), array([-87.9836213]), array([-87.98233706]), array([-87.98105434]), array([-87.97977316]), array([-87.97849349]), array([-87.97721536]), array([-87.97593874]), array([-87.97466364]), array([-87.97339006]), array([-87.97211799]), array([-87.97084744]), array([-87.96957839]), array([-87.96831086]), array([-87.96704483]), array([-87.9657803]), array([-87.96451727]), array([-87.96325575]), array([-87.96199572]), array([-87.96073718]), array([-87.95948014]), array([-87.95822459]), array([-87.95697052]), array([-87.95571794]), array([-87.95446685]), array([-87.95321724]), array([-87.9519691]), array([-87.95072245]), array([-87.94947727]), array([-87.94823356]), array([-87.94699133]), array([-87.94575056]), array([-87.94451126]), array([-87.94327343]), array([-87.94203706]), array([-87.94080215]), array([-87.93956869]), array([-87.9383367]), array([-87.93710616]), array([-87.93587707]), array([-87.93464943]), array([-87.93342324]), array([-87.93219849]), array([-87.93097519]), array([-87.92975333]), array([-87.92853291]), array([-87.92731393]), array([-87.92609638]), array([-87.92488026]), array([-87.92366558]), array([-87.92245233]), array([-87.9212405]), array([-87.9200301]), array([-87.91882113]), array([-87.91761357]), array([-87.91640744]), array([-87.91520272]), array([-87.91399941]), array([-87.91279752]), array([-87.91159704]), array([-87.91039797]), array([-87.90920031]), array([-87.90800405]), array([-87.90680919]), array([-87.90561574]), array([-87.90442368]), array([-87.90323302]), array([-87.90204376]), array([-87.90085589]), array([-87.89966941]), array([-87.89848432]), array([-87.89730062]), array([-87.8961183]), array([-87.89493736]), array([-87.89375781]), array([-87.89257963]), array([-87.89140284]), array([-87.89022742]), array([-87.88905337]), array([-87.88788069]), array([-87.88670938]), array([-87.88553944]), array([-87.88437087]), array([-87.88320366]), array([-87.88203781]), array([-87.88087332]), array([-87.87971018]), array([-87.87854841]), array([-87.87738799]), array([-87.87622892]), array([-87.8750712]), array([-87.87391483]), array([-87.8727598]), array([-87.87160612]), array([-87.87045378]), array([-87.86930278]), array([-87.86815313]), array([-87.8670048]), array([-87.86585782]), array([-87.86471216]), array([-87.86356784]), array([-87.86242485]), array([-87.86128318]), array([-87.86014284]), array([-87.85900382]), array([-87.85786613]), array([-87.85672975]), array([-87.8555947]), array([-87.85446096]), array([-87.85332853]), array([-87.85219742]), array([-87.85106762]), array([-87.84993912]), array([-87.84881194]), array([-87.84768605]), array([-87.84656148]), array([-87.8454382]), array([-87.84431622]), array([-87.84319554]), array([-87.84207616]), array([-87.84095807]), array([-87.83984127]), array([-87.83872577]), array([-87.83761155]), array([-87.83649862]), array([-87.83538698]), array([-87.83427662]), array([-87.83316754]), array([-87.83205974]), array([-87.83095321]), array([-87.82984797]), array([-87.828744]), array([-87.8276413]), array([-87.82653987]), array([-87.82543971]), array([-87.82434082]), array([-87.8232432]), array([-87.82214683]), array([-87.82105173]), array([-87.8199579]), array([-87.81886531]), array([-87.81777399]), array([-87.81668392]), array([-87.81559511]), array([-87.81450754]), array([-87.81342123]), array([-87.81233616]), array([-87.81125234]), array([-87.81016977]), array([-87.80908843]), array([-87.80800834]), array([-87.80692949]), array([-87.80585188]), array([-87.8047755]), array([-87.80370035]), array([-87.80262644]), array([-87.80155376]), array([-87.80048231]), array([-87.79941209]), array([-87.79834309]), array([-87.79727531]), array([-87.79620876]), array([-87.79514343]), array([-87.79407932]), array([-87.79301642]), array([-87.79195475]), array([-87.79089428]), array([-87.78983503]), array([-87.78877698]), array([-87.78772015]), array([-87.78666452]), array([-87.7856101]), array([-87.78455689]), array([-87.78350487]), array([-87.78245406]), array([-87.78140444]), array([-87.78035602]), array([-87.7793088]), array([-87.77826277]), array([-87.77721794]), array([-87.77617429]), array([-87.77513183]), array([-87.77409057]), array([-87.77305048]), array([-87.77201158]), array([-87.77097387]), array([-87.76993733]), array([-87.76890198]), array([-87.7678678]), array([-87.76683479]), array([-87.76580297]), array([-87.76477231]), array([-87.76374283]), array([-87.76271451]), array([-87.76168736]), array([-87.76066138]), array([-87.75963657]), array([-87.75861292]), array([-87.75759043]), array([-87.7565691]), array([-87.75554892]), array([-87.75452991]), array([-87.75351205]), array([-87.75249534]), array([-87.75147979]), array([-87.75046538]), array([-87.74945213]), array([-87.74844002]), array([-87.74742906]), array([-87.74641924]), array([-87.74541057]), array([-87.74440304]), array([-87.74339664]), array([-87.74239139]), array([-87.74138727]), array([-87.74038428]), array([-87.73938243]), array([-87.73838171]), array([-87.73738212]), array([-87.73638366]), array([-87.73538633]), array([-87.73439013]), array([-87.73339504]), array([-87.73240108]), array([-87.73140824]), array([-87.73041652]), array([-87.72942592]), array([-87.72843644]), array([-87.72744807]), array([-87.72646081]), array([-87.72547467]), array([-87.72448963]), array([-87.72350571]), array([-87.72252289]), array([-87.72154118]), array([-87.72056058]), array([-87.71958107]), array([-87.71860267]), array([-87.71762537]), array([-87.71664917]), array([-87.71567406]), array([-87.71470005]), array([-87.71372713]), array([-87.71275531]), array([-87.71178458]), array([-87.71081493]), array([-87.70984638]), array([-87.70887891]), array([-87.70791253]), array([-87.70694723]), array([-87.70598301]), array([-87.70501988]), array([-87.70405782]), array([-87.70309684]), array([-87.70213694]), array([-87.70117811]), array([-87.70022036]), array([-87.69926368]), array([-87.69830807]), array([-87.69735353]), array([-87.69640006]), array([-87.69544765]), array([-87.69449631]), array([-87.69354603]), array([-87.69259682]), array([-87.69164866]), array([-87.69070157]), array([-87.68975553]), array([-87.68881055]), array([-87.68786662]), array([-87.68692375]), array([-87.68598193]), array([-87.68504116]), array([-87.68410144]), array([-87.68316277]), array([-87.68222514]), array([-87.68128856]), array([-87.68035302]), array([-87.67941853]), array([-87.67848508]), array([-87.67755266]), array([-87.67662129]), array([-87.67569095]), array([-87.67476165]), array([-87.67383338]), array([-87.67290614]), array([-87.67197994]), array([-87.67105476]), array([-87.67013062]), array([-87.6692075]), array([-87.66828541]), array([-87.66736434]), array([-87.66644429]), array([-87.66552527]), array([-87.66460726]), array([-87.66369028]), array([-87.66277431]), array([-87.66185936]), array([-87.66094543]), array([-87.66003251]), array([-87.6591206]), array([-87.6582097]), array([-87.65729981]), array([-87.65639093]), array([-87.65548306]), array([-87.65457619]), array([-87.65367032]), array([-87.65276546]), array([-87.6518616]), array([-87.65095874]), array([-87.65005688]), array([-87.64915602]), array([-87.64825615]), array([-87.64735728]), array([-87.64645941]), array([-87.64556252]), array([-87.64466663]), array([-87.64377172]), array([-87.64287781]), array([-87.64198488]), array([-87.64109293]), array([-87.64020197]), array([-87.639312]), array([-87.638423]), array([-87.63753499]), array([-87.63664796]), array([-87.6357619]), array([-87.63487682]), array([-87.63399272]), array([-87.63310959]), array([-87.63222743]), array([-87.63134625]), array([-87.63046603]), array([-87.62958679]), array([-87.62870851]), array([-87.6278312]), array([-87.62695485]), array([-87.62607947]), array([-87.62520505]), array([-87.62433159]), array([-87.62345909]), array([-87.62258756]), array([-87.62171697]), array([-87.62084735]), array([-87.61997868]), array([-87.61911096]), array([-87.6182442]), array([-87.61737839]), array([-87.61651353]), array([-87.61564961]), array([-87.61478665]), array([-87.61392463]), array([-87.61306355]), array([-87.61220342]), array([-87.61134424]), array([-87.61048599]), array([-87.60962868]), array([-87.60877232]), array([-87.60791689]), array([-87.6070624]), array([-87.60620884]), array([-87.60535622]), array([-87.60450453]), array([-87.60365377]), array([-87.60280394]), array([-87.60195504]), array([-87.60110707]), array([-87.60026003]), array([-87.59941391]), array([-87.59856871]), array([-87.59772444]), array([-87.59688109]), array([-87.59603867]), array([-87.59519716]), array([-87.59435657]), array([-87.5935169]), array([-87.59267814]), array([-87.5918403]), array([-87.59100337]), array([-87.59016735]), array([-87.58933225]), array([-87.58849805]), array([-87.58766477]), array([-87.58683239]), array([-87.58600092]), array([-87.58517035]), array([-87.58434069]), array([-87.58351193]), array([-87.58268407]), array([-87.58185712]), array([-87.58103106]), array([-87.5802059]), array([-87.57938164]), array([-87.57855827]), array([-87.5777358]), array([-87.57691423]), array([-87.57609354]), array([-87.57527375]), array([-87.57445485]), array([-87.57363683]), array([-87.57281971]), array([-87.57200347]), array([-87.57118811]), array([-87.57037364]), array([-87.56956006]), array([-87.56874735]), array([-87.56793553]), array([-87.56712459]), array([-87.56631453]), array([-87.56550534]), array([-87.56469703]), array([-87.5638896]), array([-87.56308304]), array([-87.56227735]), array([-87.56147254]), array([-87.56066859]), array([-87.55986552]), array([-87.55906331]), array([-87.55826198]), array([-87.5574615]), array([-87.5566619]), array([-87.55586316]), array([-87.55506528]), array([-87.55426826]), array([-87.55347211]), array([-87.55267681]), array([-87.55188237]), array([-87.55108879]), array([-87.55029607]), array([-87.5495042]), array([-87.54871319]), array([-87.54792303]), array([-87.54713372]), array([-87.54634526]), array([-87.54555766]), array([-87.5447709]), array([-87.54398499]), array([-87.54319992]), array([-87.5424157]), array([-87.54163233]), array([-87.5408498]), array([-87.54006811]), array([-87.53928727]), array([-87.53850726]), array([-87.53772809]), array([-87.53694976]), array([-87.53617227]), array([-87.53539561]), array([-87.53461979]), array([-87.5338448]), array([-87.53307065]), array([-87.53229732]), array([-87.53152483]), array([-87.53075316]), array([-87.52998233]), array([-87.52921232]), array([-87.52844314]), array([-87.52767478]), array([-87.52690725]), array([-87.52614054]), array([-87.52537466]), array([-87.52460959]), array([-87.52384535]), array([-87.52308192]), array([-87.52231931]), array([-87.52155752]), array([-87.52079655]), array([-87.52003638]), array([-87.51927704]), array([-87.5185185]), array([-87.51776078]), array([-87.51700387]), array([-87.51624777]), array([-87.51549248]), array([-87.51473799]), array([-87.51398431]), array([-87.51323144]), array([-87.51247937]), array([-87.51172811]), array([-87.51097764]), array([-87.51022798]), array([-87.50947912]), array([-87.50873106]), array([-87.5079838]), array([-87.50723734]), array([-87.50649167]), array([-87.5057468]), array([-87.50500272]), array([-87.50425943]), array([-87.50351694]), array([-87.50277524]), array([-87.50203433]), array([-87.50129421]), array([-87.50055488]), array([-87.49981633]), array([-87.49907858]), array([-87.4983416]), array([-87.49760542]), array([-87.49687001]), array([-87.49613539]), array([-87.49540155]), array([-87.49466849]), array([-87.49393621]), array([-87.49320471]), array([-87.49247398]), array([-87.49174404]), array([-87.49101487]), array([-87.49028647]), array([-87.48955885]), array([-87.488832]), array([-87.48810592]), array([-87.48738061]), array([-87.48665607]), array([-87.4859323]), array([-87.4852093]), array([-87.48448707]), array([-87.4837656]), array([-87.4830449]), array([-87.48232496]), array([-87.48160579]), array([-87.48088737]), array([-87.48016972]), array([-87.47945283]), array([-87.4787367]), array([-87.47802132]), array([-87.47730671]), array([-87.47659285]), array([-87.47587974]), array([-87.47516739]), array([-87.47445579]), array([-87.47374495]), array([-87.47303486]), array([-87.47232552]), array([-87.47161693]), array([-87.47090908]), array([-87.47020199]), array([-87.46949564]), array([-87.46879004]), array([-87.46808519]), array([-87.46738108]), array([-87.46667771]), array([-87.46597508]), array([-87.4652732]), array([-87.46457205]), array([-87.46387165]), array([-87.46317199]), array([-87.46247306]), array([-87.46177487]), array([-87.46107741]), array([-87.4603807]), array([-87.45968471]), array([-87.45898946]), array([-87.45829494]), array([-87.45760115]), array([-87.45690809]), array([-87.45621577]), array([-87.45552417]), array([-87.4548333]), array([-87.45414315]), array([-87.45345373]), array([-87.45276504]), array([-87.45207707]), array([-87.45138983]), array([-87.4507033]), array([-87.4500175]), array([-87.44933242]), array([-87.44864806]), array([-87.44796442]), array([-87.44728149]), array([-87.44659928]), array([-87.44591779]), array([-87.44523702]), array([-87.44455696]), array([-87.44387761]), array([-87.44319897]), array([-87.44252105]), array([-87.44184384]), array([-87.44116733]), array([-87.44049154]), array([-87.43981646]), array([-87.43914208]), array([-87.43846841]), array([-87.43779544]), array([-87.43712318]), array([-87.43645162]), array([-87.43578077]), array([-87.43511062]), array([-87.43444117]), array([-87.43377242]), array([-87.43310437]), array([-87.43243701]), array([-87.43177036]), array([-87.4311044]), array([-87.43043914]), array([-87.42977458]), array([-87.42911071]), array([-87.42844753]), array([-87.42778505]), array([-87.42712325]), array([-87.42646215]), array([-87.42580174]), array([-87.42514202]), array([-87.42448298]), array([-87.42382464]), array([-87.42316698]), array([-87.42251]), array([-87.42185372]), array([-87.42119811]), array([-87.42054319]), array([-87.41988895]), array([-87.4192354]), array([-87.41858252]), array([-87.41793033]), array([-87.41727881]), array([-87.41662798]), array([-87.41597782]), array([-87.41532833]), array([-87.41467953]), array([-87.41403139]), array([-87.41338394]), array([-87.41273715]), array([-87.41209104]), array([-87.4114456]), array([-87.41080083]), array([-87.41015673]), array([-87.40951331]), array([-87.40887055]), array([-87.40822845]), array([-87.40758703]), array([-87.40694627]), array([-87.40630617]), array([-87.40566674]), array([-87.40502798]), array([-87.40438987]), array([-87.40375243]), array([-87.40311565]), array([-87.40247953]), array([-87.40184407]), array([-87.40120927]), array([-87.40057513]), array([-87.39994164]), array([-87.39930881]), array([-87.39867664]), array([-87.39804512]), array([-87.39741426]), array([-87.39678405]), array([-87.39615449]), array([-87.39552558]), array([-87.39489732]), array([-87.39426972]), array([-87.39364276]), array([-87.39301645]), array([-87.39239079]), array([-87.39176578]), array([-87.39114141]), array([-87.39051769]), array([-87.38989461]), array([-87.38927218]), array([-87.38865039]), array([-87.38802924]), array([-87.38740873]), array([-87.38678886]), array([-87.38616964]), array([-87.38555105]), array([-87.3849331]), array([-87.38431579]), array([-87.38369912]), array([-87.38308308]), array([-87.38246768]), array([-87.38185291]), array([-87.38123877]), array([-87.38062527]), array([-87.3800124]), array([-87.37940016]), array([-87.37878856]), array([-87.37817758]), array([-87.37756723]), array([-87.37695751]), array([-87.37634842]), array([-87.37573996]), array([-87.37513212]), array([-87.3745249]), array([-87.37391831]), array([-87.37331235]), array([-87.37270701]), array([-87.37210229]), array([-87.37149819]), array([-87.37089472]), array([-87.37029186]), array([-87.36968962]), array([-87.369088]), array([-87.368487]), array([-87.36788662]), array([-87.36728685]), array([-87.3666877]), array([-87.36608917]), array([-87.36549125]), array([-87.36489394]), array([-87.36429724]), array([-87.36370116]), array([-87.36310569]), array([-87.36251083]), array([-87.36191657]), array([-87.36132293]), array([-87.3607299]), array([-87.36013747]), array([-87.35954565]), array([-87.35895444]), array([-87.35836383]), array([-87.35777383]), array([-87.35718443]), array([-87.35659563]), array([-87.35600744]), array([-87.35541985]), array([-87.35483286]), array([-87.35424647]), array([-87.35366068]), array([-87.35307548]), array([-87.35249089]), array([-87.3519069]), array([-87.3513235]), array([-87.3507407]), array([-87.35015849]), array([-87.34957688]), array([-87.34899586]), array([-87.34841543]), array([-87.3478356]), array([-87.34725636]), array([-87.34667771]), array([-87.34609965]), array([-87.34552218]), array([-87.3449453]), array([-87.34436901]), array([-87.34379331]), array([-87.34321819]), array([-87.34264366]), array([-87.34206971]), array([-87.34149635]), array([-87.34092358]), array([-87.34035138]), array([-87.33977977]), array([-87.33920875]), array([-87.3386383]), array([-87.33806843]), array([-87.33749915]), array([-87.33693044]), array([-87.33636231]), array([-87.33579476]), array([-87.33522779]), array([-87.33466139]), array([-87.33409557]), array([-87.33353033]), array([-87.33296566]), array([-87.33240156]), array([-87.33183804]), array([-87.33127509]), array([-87.33071271]), array([-87.3301509]), array([-87.32958967]), array([-87.329029]), array([-87.3284689]), array([-87.32790937]), array([-87.32735041]), array([-87.32679201]), array([-87.32623418]), array([-87.32567692]), array([-87.32512022]), array([-87.32456409]), array([-87.32400852]), array([-87.32345351]), array([-87.32289907]), array([-87.32234519]), array([-87.32179187]), array([-87.32123911]), array([-87.32068691]), array([-87.32013526]), array([-87.31958418]), array([-87.31903365]), array([-87.31848369]), array([-87.31793427]), array([-87.31738542]), array([-87.31683712]), array([-87.31628937]), array([-87.31574218]), array([-87.31519554]), array([-87.31464945]), array([-87.31410392]), array([-87.31355894]), array([-87.3130145]), array([-87.31247062]), array([-87.31192729]), array([-87.3113845]), array([-87.31084227]), array([-87.31030058]), array([-87.30975943]), array([-87.30921884]), array([-87.30867879]), array([-87.30813928]), array([-87.30760032]), array([-87.3070619]), array([-87.30652403]), array([-87.30598669]), array([-87.3054499]), array([-87.30491365]), array([-87.30437794]), array([-87.30384277]), array([-87.30330814]), array([-87.30277405]), array([-87.30224049]), array([-87.30170748]), array([-87.30117499]), array([-87.30064305]), array([-87.30011164]), array([-87.29958077]), array([-87.29905042]), array([-87.29852062]), array([-87.29799134]), array([-87.2974626]), array([-87.29693439]), array([-87.29640671]), array([-87.29587956]), array([-87.29535294]), array([-87.29482685]), array([-87.29430129]), array([-87.29377626]), array([-87.29325175]), array([-87.29272777]), array([-87.29220432]), array([-87.29168139]), array([-87.29115898]), array([-87.2906371]), array([-87.29011575]), array([-87.28959491]), array([-87.2890746]), array([-87.28855482]), array([-87.28803555]), array([-87.2875168]), array([-87.28699857]), array([-87.28648087]), array([-87.28596368]), array([-87.28544701]), array([-87.28493085]), array([-87.28441522]), array([-87.2839001]), array([-87.28338549]), array([-87.2828714]), array([-87.28235783]), array([-87.28184477]), array([-87.28133222]), array([-87.28082019]), array([-87.28030867]), array([-87.27979765]), array([-87.27928715]), array([-87.27877717]), array([-87.27826769]), array([-87.27775872]), array([-87.27725025]), array([-87.2767423]), array([-87.27623485]), array([-87.27572791]), array([-87.27522148]), array([-87.27471555]), array([-87.27421013]), array([-87.27370521]), array([-87.2732008]), array([-87.27269689]), array([-87.27219348]), array([-87.27169058]), array([-87.27118817]), array([-87.27068627]), array([-87.27018487]), array([-87.26968396]), array([-87.26918356]), array([-87.26868365]), array([-87.26818425]), array([-87.26768534]), array([-87.26718693]), array([-87.26668901]), array([-87.26619159]), array([-87.26569467]), array([-87.26519824]), array([-87.2647023]), array([-87.26420686]), array([-87.26371191]), array([-87.26321745]), array([-87.26272349]), array([-87.26223001]), array([-87.26173703]), array([-87.26124454]), array([-87.26075253]), array([-87.26026102]), array([-87.25976999]), array([-87.25927946]), array([-87.25878941]), array([-87.25829984]), array([-87.25781076]), array([-87.25732217]), array([-87.25683407]), array([-87.25634644]), array([-87.25585931]), array([-87.25537265]), array([-87.25488648]), array([-87.25440079]), array([-87.25391558]), array([-87.25343086]), array([-87.25294661]), array([-87.25246284]), array([-87.25197956]), array([-87.25149675]), array([-87.25101442]), array([-87.25053257]), array([-87.2500512]), array([-87.2495703]), array([-87.24908988]), array([-87.24860994]), array([-87.24813047]), array([-87.24765147]), array([-87.24717295]), array([-87.24669491]), array([-87.24621733]), array([-87.24574023]), array([-87.2452636]), array([-87.24478744]), array([-87.24431176]), array([-87.24383654]), array([-87.24336179]), array([-87.24288752]), array([-87.24241371]), array([-87.24194037]), array([-87.24146749]), array([-87.24099509]), array([-87.24052315]), array([-87.24005167]), array([-87.23958067]), array([-87.23911012]), array([-87.23864004]), array([-87.23817043]), array([-87.23770128]), array([-87.23723259]), array([-87.23676436]), array([-87.2362966]), array([-87.2358293]), array([-87.23536246]), array([-87.23489607]), array([-87.23443015]), array([-87.23396469]), array([-87.23349969]), array([-87.23303514]), array([-87.23257105]), array([-87.23210742]), array([-87.23164425]), array([-87.23118153]), array([-87.23071926]), array([-87.23025746]), array([-87.2297961]), array([-87.2293352]), array([-87.22887476]), array([-87.22841477]), array([-87.22795522]), array([-87.22749614]), array([-87.2270375]), array([-87.22657931]), array([-87.22612158]), array([-87.22566429]), array([-87.22520746]), array([-87.22475107]), array([-87.22429513]), array([-87.22383964]), array([-87.2233846]), array([-87.22293]), array([-87.22247585]), array([-87.22202214]), array([-87.22156888]), array([-87.22111607]), array([-87.2206637]), array([-87.22021177]), array([-87.21976029]), array([-87.21930925]), array([-87.21885865]), array([-87.2184085]), array([-87.21795878]), array([-87.21750951]), array([-87.21706068]), array([-87.21661228]), array([-87.21616433]), array([-87.21571681]), array([-87.21526974]), array([-87.2148231]), array([-87.21437689]), array([-87.21393113]), array([-87.2134858]), array([-87.21304091]), array([-87.21259645]), array([-87.21215243]), array([-87.21170884]), array([-87.21126569]), array([-87.21082297]), array([-87.21038068]), array([-87.20993883]), array([-87.2094974]), array([-87.20905641]), array([-87.20861585]), array([-87.20817572]), array([-87.20773602]), array([-87.20729675]), array([-87.20685791]), array([-87.2064195]), array([-87.20598151]), array([-87.20554396]), array([-87.20510683]), array([-87.20467012]), array([-87.20423385]), array([-87.203798]), array([-87.20336257]), array([-87.20292757]), array([-87.20249299]), array([-87.20205884]), array([-87.20162511]), array([-87.2011918]), array([-87.20075892]), array([-87.20032646]), array([-87.19989441]), array([-87.19946279]), array([-87.19903159]), array([-87.19860082]), array([-87.19817046]), array([-87.19774051]), array([-87.19731099]), array([-87.19688189]), array([-87.1964532]), array([-87.19602493]), array([-87.19559708]), array([-87.19516964]), array([-87.19474262]), array([-87.19431602]), array([-87.19388983]), array([-87.19346405]), array([-87.19303869]), array([-87.19261374]), array([-87.19218921]), array([-87.19176509]), array([-87.19134138]), array([-87.19091808]), array([-87.19049519]), array([-87.19007271]), array([-87.18965065]), array([-87.18922899]), array([-87.18880774]), array([-87.1883869]), array([-87.18796648]), array([-87.18754645]), array([-87.18712684]), array([-87.18670763]), array([-87.18628883]), array([-87.18587044]), array([-87.18545245]), array([-87.18503487]), array([-87.18461769]), array([-87.18420091]), array([-87.18378454]), array([-87.18336858]), array([-87.18295301]), array([-87.18253785]), array([-87.18212309]), array([-87.18170874]), array([-87.18129478]), array([-87.18088122]), array([-87.18046807]), array([-87.18005531]), array([-87.17964296]), array([-87.179231]), array([-87.17881945]), array([-87.17840829]), array([-87.17799752]), array([-87.17758716]), array([-87.17717719]), array([-87.17676762]), array([-87.17635845]), array([-87.17594967]), array([-87.17554128]), array([-87.17513329]), array([-87.17472569]), array([-87.17431849]), array([-87.17391168]), array([-87.17350527]), array([-87.17309924]), array([-87.17269361]), array([-87.17228837]), array([-87.17188352]), array([-87.17147907]), array([-87.171075]), array([-87.17067132]), array([-87.17026803]), array([-87.16986513]), array([-87.16946262]), array([-87.1690605]), array([-87.16865876]), array([-87.16825741]), array([-87.16785645]), array([-87.16745588]), array([-87.16705569]), array([-87.16665589]), array([-87.16625647]), array([-87.16585744]), array([-87.16545879]), array([-87.16506052]), array([-87.16466264]), array([-87.16426514]), array([-87.16386803]), array([-87.16347129]), array([-87.16307494]), array([-87.16267897]), array([-87.16228338]), array([-87.16188817]), array([-87.16149334]), array([-87.1610989]), array([-87.16070483]), array([-87.16031113]), array([-87.15991782]), array([-87.15952489]), array([-87.15913233]), array([-87.15874015]), array([-87.15834835]), array([-87.15795692]), array([-87.15756587]), array([-87.15717519]), array([-87.15678489]), array([-87.15639497]), array([-87.15600542]), array([-87.15561624]), array([-87.15522743]), array([-87.154839]), array([-87.15445095]), array([-87.15406326]), array([-87.15367595]), array([-87.153289]), array([-87.15290243]), array([-87.15251623]), array([-87.1521304]), array([-87.15174494]), array([-87.15135985]), array([-87.15097512]), array([-87.15059077]), array([-87.15020678]), array([-87.14982316]), array([-87.14943991]), array([-87.14905703]), array([-87.14867451]), array([-87.14829236]), array([-87.14791058]), array([-87.14752916]), array([-87.1471481]), array([-87.14676741]), array([-87.14638708]), array([-87.14600712]), array([-87.14562752]), array([-87.14524829]), array([-87.14486941]), array([-87.1444909]), array([-87.14411275]), array([-87.14373496]), array([-87.14335754]), array([-87.14298047]), array([-87.14260376]), array([-87.14222742]), array([-87.14185143]), array([-87.1414758]), array([-87.14110053]), array([-87.14072562]), array([-87.14035107]), array([-87.13997687]), array([-87.13960303]), array([-87.13922955]), array([-87.13885643]), array([-87.13848366]), array([-87.13811124]), array([-87.13773918]), array([-87.13736748]), array([-87.13699613]), array([-87.13662513]), array([-87.13625449]), array([-87.1358842]), array([-87.13551427]), array([-87.13514468]), array([-87.13477545]), array([-87.13440657]), array([-87.13403804]), array([-87.13366987]), array([-87.13330204]), array([-87.13293456]), array([-87.13256743]), array([-87.13220066]), array([-87.13183423]), array([-87.13146815]), array([-87.13110242]), array([-87.13073703]), array([-87.130372]), array([-87.13000731]), array([-87.12964296]), array([-87.12927897]), array([-87.12891532]), array([-87.12855201]), array([-87.12818905]), array([-87.12782644]), array([-87.12746417]), array([-87.12710225]), array([-87.12674066]), array([-87.12637942]), array([-87.12601853]), array([-87.12565798]), array([-87.12529777]), array([-87.1249379]), array([-87.12457837]), array([-87.12421919]), array([-87.12386034]), array([-87.12350184]), array([-87.12314367]), array([-87.12278585]), array([-87.12242836]), array([-87.12207122]), array([-87.12171441]), array([-87.12135794]), array([-87.12100181]), array([-87.12064601]), array([-87.12029056]), array([-87.11993544]), array([-87.11958065]), array([-87.1192262]), array([-87.11887209]), array([-87.11851832]), array([-87.11816487]), array([-87.11781177]), array([-87.11745899]), array([-87.11710656]), array([-87.11675445]), array([-87.11640268]), array([-87.11605124]), array([-87.11570013]), array([-87.11534936]), array([-87.11499891]), array([-87.1146488]), array([-87.11429902]), array([-87.11394957]), array([-87.11360045]), array([-87.11325166]), array([-87.1129032]), array([-87.11255507]), array([-87.11220727]), array([-87.1118598]), array([-87.11151265]), array([-87.11116584]), array([-87.11081935]), array([-87.11047318]), array([-87.11012735]), array([-87.10978184]), array([-87.10943666]), array([-87.1090918]), array([-87.10874727]), array([-87.10840306]), array([-87.10805918]), array([-87.10771562]), array([-87.10737239]), array([-87.10702947]), array([-87.10668689]), array([-87.10634462]), array([-87.10600268]), array([-87.10566106]), array([-87.10531977]), array([-87.10497879]), array([-87.10463814]), array([-87.1042978]), array([-87.10395779]), array([-87.1036181]), array([-87.10327872]), array([-87.10293967]), array([-87.10260094]), array([-87.10226252]), array([-87.10192442]), array([-87.10158665]), array([-87.10124919]), array([-87.10091204]), array([-87.10057522]), array([-87.10023871]), array([-87.09990251]), array([-87.09956664]), array([-87.09923108]), array([-87.09889583]), array([-87.0985609]), array([-87.09822628]), array([-87.09789198]), array([-87.097558]), array([-87.09722432]), array([-87.09689096]), array([-87.09655792]), array([-87.09622518]), array([-87.09589276]), array([-87.09556065]), array([-87.09522885]), array([-87.09489737]), array([-87.09456619]), array([-87.09423533]), array([-87.09390477]), array([-87.09357453]), array([-87.0932446]), array([-87.09291497]), array([-87.09258566]), array([-87.09225665]), array([-87.09192795]), array([-87.09159956]), array([-87.09127148]), array([-87.0909437]), array([-87.09061624]), array([-87.09028908]), array([-87.08996222]), array([-87.08963567]), array([-87.08930943]), array([-87.0889835]), array([-87.08865786]), array([-87.08833254]), array([-87.08800752]), array([-87.0876828]), array([-87.08735838]), array([-87.08703427]), array([-87.08671047]), array([-87.08638696]), array([-87.08606376]), array([-87.08574086]), array([-87.08541827]), array([-87.08509597]), array([-87.08477398]), array([-87.08445228]), array([-87.08413089]), array([-87.0838098]), array([-87.08348901]), array([-87.08316852]), array([-87.08284832]), array([-87.08252843]), array([-87.08220884]), array([-87.08188954]), array([-87.08157054]), array([-87.08125184]), array([-87.08093344]), array([-87.08061534]), array([-87.08029753]), array([-87.07998002]), array([-87.0796628]), array([-87.07934588]), array([-87.07902926]), array([-87.07871293]), array([-87.0783969]), array([-87.07808116]), array([-87.07776571]), array([-87.07745056]), array([-87.07713571]), array([-87.07682114]), array([-87.07650687]), array([-87.0761929]), array([-87.07587921]), array([-87.07556582]), array([-87.07525272]), array([-87.07493991]), array([-87.0746274]), array([-87.07431517]), array([-87.07400324]), array([-87.07369159]), array([-87.07338024]), array([-87.07306917]), array([-87.0727584]), array([-87.07244791]), array([-87.07213771]), array([-87.0718278]), array([-87.07151818]), array([-87.07120885]), array([-87.07089981]), array([-87.07059105]), array([-87.07028258]), array([-87.06997439]), array([-87.0696665]), array([-87.06935889]), array([-87.06905156]), array([-87.06874452]), array([-87.06843777]), array([-87.0681313]), array([-87.06782511]), array([-87.06751921]), array([-87.0672136]), array([-87.06690827]), array([-87.06660322]), array([-87.06629845]), array([-87.06599397]), array([-87.06568977]), array([-87.06538585]), array([-87.06508222]), array([-87.06477886]), array([-87.06447579]), array([-87.064173]), array([-87.06387049]), array([-87.06356826]), array([-87.06326631]), array([-87.06296463]), array([-87.06266324]), array([-87.06236213]), array([-87.0620613]), array([-87.06176075]), array([-87.06146047]), array([-87.06116048]), array([-87.06086076]), array([-87.06056132]), array([-87.06026215]), array([-87.05996327]), array([-87.05966466]), array([-87.05936632]), array([-87.05906826]), array([-87.05877048]), array([-87.05847298]), array([-87.05817575]), array([-87.05787879]), array([-87.05758211]), array([-87.0572857]), array([-87.05698957]), array([-87.05669371]), array([-87.05639813]), array([-87.05610281]), array([-87.05580777]), array([-87.05551301]), array([-87.05521851]), array([-87.05492429]), array([-87.05463034]), array([-87.05433667]), array([-87.05404326]), array([-87.05375012]), array([-87.05345726]), array([-87.05316466]), array([-87.05287234]), array([-87.05258028]), array([-87.0522885]), array([-87.05199698]), array([-87.05170574]), array([-87.05141476]), array([-87.05112405]), array([-87.05083361]), array([-87.05054344]), array([-87.05025353]), array([-87.04996389]), array([-87.04967452]), array([-87.04938542]), array([-87.04909658]), array([-87.04880801]), array([-87.0485197]), array([-87.04823166]), array([-87.04794389]), array([-87.04765638]), array([-87.04736913]), array([-87.04708215]), array([-87.04679544]), array([-87.04650899]), array([-87.0462228]), array([-87.04593688]), array([-87.04565122]), array([-87.04536582]), array([-87.04508068]), array([-87.04479581]), array([-87.0445112]), array([-87.04422685]), array([-87.04394276]), array([-87.04365894]), array([-87.04337537]), array([-87.04309207]), array([-87.04280903]), array([-87.04252624]), array([-87.04224372]), array([-87.04196146]), array([-87.04167945]), array([-87.04139771]), array([-87.04111622]), array([-87.04083499]), array([-87.04055403]), array([-87.04027332]), array([-87.03999286]), array([-87.03971267]), array([-87.03943273]), array([-87.03915305]), array([-87.03887362]), array([-87.03859446]), array([-87.03831555]), array([-87.03803689]), array([-87.03775849]), array([-87.03748035]), array([-87.03720246]), array([-87.03692482]), array([-87.03664744]), array([-87.03637032]), array([-87.03609345]), array([-87.03581683]), array([-87.03554047]), array([-87.03526436]), array([-87.0349885]), array([-87.0347129]), array([-87.03443754]), array([-87.03416244]), array([-87.0338876]), array([-87.033613]), array([-87.03333866]), array([-87.03306457]), array([-87.03279072]), array([-87.03251713]), array([-87.03224379]), array([-87.0319707]), array([-87.03169786]), array([-87.03142527]), array([-87.03115293]), array([-87.03088084]), array([-87.030609]), array([-87.0303374]), array([-87.03006606]), array([-87.02979496]), array([-87.02952411]), array([-87.02925351]), array([-87.02898315]), array([-87.02871305]), array([-87.02844319]), array([-87.02817357]), array([-87.02790421]), array([-87.02763509]), array([-87.02736621]), array([-87.02709758]), array([-87.0268292]), array([-87.02656106]), array([-87.02629316]), array([-87.02602551]), array([-87.02575811]), array([-87.02549095]), array([-87.02522403]), array([-87.02495736]), array([-87.02469093]), array([-87.02442474]), array([-87.0241588]), array([-87.0238931]), array([-87.02362764]), array([-87.02336242]), array([-87.02309745]), array([-87.02283271]), array([-87.02256822]), array([-87.02230397]), array([-87.02203996]), array([-87.02177619]), array([-87.02151266]), array([-87.02124938]), array([-87.02098633]), array([-87.02072352]), array([-87.02046095]), array([-87.02019862]), array([-87.01993653]), array([-87.01967468]), array([-87.01941306]), array([-87.01915169]), array([-87.01889055]), array([-87.01862965]), array([-87.01836899]), array([-87.01810856]), array([-87.01784837]), array([-87.01758842]), array([-87.01732871]), array([-87.01706923]), array([-87.01680999]), array([-87.01655098]), array([-87.01629221]), array([-87.01603367]), array([-87.01577537]), array([-87.0155173]), array([-87.01525947]), array([-87.01500188]), array([-87.01474451]), array([-87.01448738]), array([-87.01423049]), array([-87.01397383]), array([-87.0137174]), array([-87.0134612]), array([-87.01320524]), array([-87.01294951]), array([-87.01269401]), array([-87.01243874]), array([-87.01218371]), array([-87.0119289]), array([-87.01167433]), array([-87.01141999]), array([-87.01116588]), array([-87.010912]), array([-87.01065835]), array([-87.01040493]), array([-87.01015174]), array([-87.00989879]), array([-87.00964606]), array([-87.00939355]), array([-87.00914128]), array([-87.00888924]), array([-87.00863742]), array([-87.00838584]), array([-87.00813448]), array([-87.00788335]), array([-87.00763244]), array([-87.00738177]), array([-87.00713132]), array([-87.0068811]), array([-87.0066311]), array([-87.00638133]), array([-87.00613179]), array([-87.00588247]), array([-87.00563338]), array([-87.00538452]), array([-87.00513588]), array([-87.00488746]), array([-87.00463927]), array([-87.0043913]), array([-87.00414356]), array([-87.00389605]), array([-87.00364875]), array([-87.00340168]), array([-87.00315484]), array([-87.00290821]), array([-87.00266181]), array([-87.00241563]), array([-87.00216968]), array([-87.00192395]), array([-87.00167844]), array([-87.00143315]), array([-87.00118808]), array([-87.00094323]), array([-87.00069861]), array([-87.00045421]), array([-87.00021002]), array([-86.99996606]), array([-86.99972232]), array([-86.9994788]), array([-86.99923549]), array([-86.99899241]), array([-86.99874955]), array([-86.9985069]), array([-86.99826448]), array([-86.99802227]), array([-86.99778029]), array([-86.99753852]), array([-86.99729696]), array([-86.99705563]), array([-86.99681452]), array([-86.99657362]), array([-86.99633294]), array([-86.99609247]), array([-86.99585222]), array([-86.99561219]), array([-86.99537238]), array([-86.99513278]), array([-86.9948934]), array([-86.99465423]), array([-86.99441528]), array([-86.99417654]), array([-86.99393802]), array([-86.99369972]), array([-86.99346163]), array([-86.99322375]), array([-86.99298608]), array([-86.99274864]), array([-86.9925114]), array([-86.99227438]), array([-86.99203757]), array([-86.99180097]), array([-86.99156459]), array([-86.99132842]), array([-86.99109246]), array([-86.99085672]), array([-86.99062119]), array([-86.99038586]), array([-86.99015075]), array([-86.98991586]), array([-86.98968117]), array([-86.98944669]), array([-86.98921243]), array([-86.98897837]), array([-86.98874453]), array([-86.98851089]), array([-86.98827747]), array([-86.98804425]), array([-86.98781125]), array([-86.98757845]), array([-86.98734586]), array([-86.98711348]), array([-86.98688132]), array([-86.98664935]), array([-86.9864176]), array([-86.98618606]), array([-86.98595472]), array([-86.98572359]), array([-86.98549267]), array([-86.98526195]), array([-86.98503144]), array([-86.98480114]), array([-86.98457105]), array([-86.98434116]), array([-86.98411148]), array([-86.983882]), array([-86.98365273]), array([-86.98342367]), array([-86.98319481]), array([-86.98296615]), array([-86.9827377]), array([-86.98250946]), array([-86.98228142]), array([-86.98205358]), array([-86.98182595]), array([-86.98159852]), array([-86.9813713]), array([-86.98114428]), array([-86.98091746]), array([-86.98069084]), array([-86.98046443]), array([-86.98023822]), array([-86.98001222]), array([-86.97978641]), array([-86.97956081]), array([-86.97933541]), array([-86.97911021]), array([-86.97888521]), array([-86.97866042]), array([-86.97843582]), array([-86.97821143]), array([-86.97798724]), array([-86.97776324]), array([-86.97753945]), array([-86.97731586]), array([-86.97709247]), array([-86.97686927]), array([-86.97664628]), array([-86.97642349]), array([-86.97620089]), array([-86.9759785]), array([-86.9757563]), array([-86.9755343]), array([-86.9753125]), array([-86.9750909]), array([-86.97486949]), array([-86.97464828]), array([-86.97442728]), array([-86.97420646]), array([-86.97398585]), array([-86.97376543]), array([-86.97354521]), array([-86.97332518]), array([-86.97310536]), array([-86.97288572]), array([-86.97266629]), array([-86.97244705]), array([-86.972228]), array([-86.97200915]), array([-86.9717905]), array([-86.97157204]), array([-86.97135377]), array([-86.9711357]), array([-86.97091782]), array([-86.97070014]), array([-86.97048265]), array([-86.97026536]), array([-86.97004826]), array([-86.96983135]), array([-86.96961464]), array([-86.96939812]), array([-86.96918179]), array([-86.96896566]), array([-86.96874971]), array([-86.96853396]), array([-86.9683184]), array([-86.96810304]), array([-86.96788786]), array([-86.96767288]), array([-86.96745809]), array([-86.96724349]), array([-86.96702908]), array([-86.96681486]), array([-86.96660083]), array([-86.96638699]), array([-86.96617334]), array([-86.96595988]), array([-86.96574662]), array([-86.96553354]), array([-86.96532065]), array([-86.96510795]), array([-86.96489544]), array([-86.96468312]), array([-86.96447098]), array([-86.96425904]), array([-86.96404728]), array([-86.96383571]), array([-86.96362433]), array([-86.96341314]), array([-86.96320214]), array([-86.96299132]), array([-86.96278069]), array([-86.96257025]), array([-86.96235999]), array([-86.96214992]), array([-86.96194004]), array([-86.96173034]), array([-86.96152083]), array([-86.9613115]), array([-86.96110236]), array([-86.96089341]), array([-86.96068464]), array([-86.96047606]), array([-86.96026766]), array([-86.96005945]), array([-86.95985142]), array([-86.95964357]), array([-86.95943591]), array([-86.95922844]), array([-86.95902115]), array([-86.95881404]), array([-86.95860711]), array([-86.95840037]), array([-86.95819381]), array([-86.95798744]), array([-86.95778125]), array([-86.95757524]), array([-86.95736941]), array([-86.95716377]), array([-86.9569583]), array([-86.95675302]), array([-86.95654792]), array([-86.95634301]), array([-86.95613827]), array([-86.95593372]), array([-86.95572934]), array([-86.95552515]), array([-86.95532114]), array([-86.9551173]), array([-86.95491365]), array([-86.95471018]), array([-86.95450689]), array([-86.95430378]), array([-86.95410085]), array([-86.9538981]), array([-86.95369552]), array([-86.95349313]), array([-86.95329091]), array([-86.95308888]), array([-86.95288702]), array([-86.95268534]), array([-86.95248384]), array([-86.95228252]), array([-86.95208137]), array([-86.9518804]), array([-86.95167961]), array([-86.951479]), array([-86.95127857]), array([-86.95107831]), array([-86.95087823]), array([-86.95067832]), array([-86.95047859]), array([-86.95027904]), array([-86.95007967]), array([-86.94988047]), array([-86.94968144]), array([-86.94948259]), array([-86.94928392]), array([-86.94908542]), array([-86.9488871]), array([-86.94868895]), array([-86.94849098]), array([-86.94829318]), array([-86.94809556]), array([-86.94789811]), array([-86.94770083]), array([-86.94750373]), array([-86.9473068]), array([-86.94711005]), array([-86.94691347]), array([-86.94671706]), array([-86.94652082]), array([-86.94632476]), array([-86.94612887]), array([-86.94593316]), array([-86.94573761]), array([-86.94554224]), array([-86.94534704]), array([-86.94515201]), array([-86.94495716]), array([-86.94476247]), array([-86.94456796]), array([-86.94437362]), array([-86.94417945]), array([-86.94398545]), array([-86.94379162]), array([-86.94359796]), array([-86.94340447]), array([-86.94321115]), array([-86.943018]), array([-86.94282502]), array([-86.94263222]), array([-86.94243958]), array([-86.94224711]), array([-86.94205481]), array([-86.94186268]), array([-86.94167071]), array([-86.94147892]), array([-86.9412873]), array([-86.94109584]), array([-86.94090455]), array([-86.94071343]), array([-86.94052248]), array([-86.94033169]), array([-86.94014108]), array([-86.93995063]), array([-86.93976034]), array([-86.93957023]), array([-86.93938028]), array([-86.9391905]), array([-86.93900088]), array([-86.93881144]), array([-86.93862215]), array([-86.93843304]), array([-86.93824409]), array([-86.9380553]), array([-86.93786668]), array([-86.93767823]), array([-86.93748994]), array([-86.93730182]), array([-86.93711386]), array([-86.93692607]), array([-86.93673844]), array([-86.93655098]), array([-86.93636368]), array([-86.93617654]), array([-86.93598957]), array([-86.93580277]), array([-86.93561612]), array([-86.93542964]), array([-86.93524333]), array([-86.93505717]), array([-86.93487118]), array([-86.93468536]), array([-86.93449969]), array([-86.93431419]), array([-86.93412885]), array([-86.93394368]), array([-86.93375866]), array([-86.93357381]), array([-86.93338912]), array([-86.93320459]), array([-86.93302022]), array([-86.93283601]), array([-86.93265197]), array([-86.93246809]), array([-86.93228436]), array([-86.9321008]), array([-86.9319174]), array([-86.93173416]), array([-86.93155108]), array([-86.93136816]), array([-86.93118539]), array([-86.93100279]), array([-86.93082035]), array([-86.93063807]), array([-86.93045595]), array([-86.93027398]), array([-86.93009218]), array([-86.92991053]), array([-86.92972905]), array([-86.92954772]), array([-86.92936655]), array([-86.92918554]), array([-86.92900468]), array([-86.92882399]), array([-86.92864345]), array([-86.92846307]), array([-86.92828285]), array([-86.92810279]), array([-86.92792288]), array([-86.92774313]), array([-86.92756353]), array([-86.9273841]), array([-86.92720482]), array([-86.92702569]), array([-86.92684672]), array([-86.92666791]), array([-86.92648926]), array([-86.92631076]), array([-86.92613241]), array([-86.92595423]), array([-86.92577619]), array([-86.92559832]), array([-86.92542059]), array([-86.92524303]), array([-86.92506561]), array([-86.92488836]), array([-86.92471125]), array([-86.9245343]), array([-86.92435751]), array([-86.92418087]), array([-86.92400438]), array([-86.92382805]), array([-86.92365187]), array([-86.92347584]), array([-86.92329997]), array([-86.92312425]), array([-86.92294868]), array([-86.92277327]), array([-86.92259801]), array([-86.9224229]), array([-86.92224794]), array([-86.92207314]), array([-86.92189849]), array([-86.92172399]), array([-86.92154964]), array([-86.92137545]), array([-86.9212014]), array([-86.92102751]), array([-86.92085377]), array([-86.92068018]), array([-86.92050674]), array([-86.92033345]), array([-86.92016031]), array([-86.91998732]), array([-86.91981449]), array([-86.9196418]), array([-86.91946926]), array([-86.91929688]), array([-86.91912464]), array([-86.91895255]), array([-86.91878062]), array([-86.91860883]), array([-86.91843719]), array([-86.9182657]), array([-86.91809436]), array([-86.91792317]), array([-86.91775213]), array([-86.91758123]), array([-86.91741049]), array([-86.91723989]), array([-86.91706944]), array([-86.91689914]), array([-86.91672898]), array([-86.91655898]), array([-86.91638912]), array([-86.91621941]), array([-86.91604984]), array([-86.91588043]), array([-86.91571116]), array([-86.91554203]), array([-86.91537306]), array([-86.91520423]), array([-86.91503554]), array([-86.91486701]), array([-86.91469862]), array([-86.91453037]), array([-86.91436227]), array([-86.91419432]), array([-86.91402651]), array([-86.91385885]), array([-86.91369133]), array([-86.91352396]), array([-86.91335674]), array([-86.91318965]), array([-86.91302272]), array([-86.91285593]), array([-86.91268928]), array([-86.91252277]), array([-86.91235642]), array([-86.9121902]), array([-86.91202413]), array([-86.9118582]), array([-86.91169242]), array([-86.91152678]), array([-86.91136128]), array([-86.91119593]), array([-86.91103072]), array([-86.91086565]), array([-86.91070073]), array([-86.91053595]), array([-86.91037131]), array([-86.91020681]), array([-86.91004246]), array([-86.90987824]), array([-86.90971417]), array([-86.90955024]), array([-86.90938646]), array([-86.90922281]), array([-86.90905931]), array([-86.90889595]), array([-86.90873273]), array([-86.90856965]), array([-86.90840671]), array([-86.90824391]), array([-86.90808125]), array([-86.90791874]), array([-86.90775636]), array([-86.90759413]), array([-86.90743203]), array([-86.90727007]), array([-86.90710826]), array([-86.90694658]), array([-86.90678505]), array([-86.90662365]), array([-86.90646239]), array([-86.90630127]), array([-86.90614029]), array([-86.90597945]), array([-86.90581875]), array([-86.90565819]), array([-86.90549776]), array([-86.90533748]), array([-86.90517733]), array([-86.90501732]), array([-86.90485745]), array([-86.90469772]), array([-86.90453812]), array([-86.90437866]), array([-86.90421934]), array([-86.90406016]), array([-86.90390112]), array([-86.90374221]), array([-86.90358344]), array([-86.9034248]), array([-86.9032663]), array([-86.90310794]), array([-86.90294972]), array([-86.90279163]), array([-86.90263368]), array([-86.90247586]), array([-86.90231818]), array([-86.90216064]), array([-86.90200323]), array([-86.90184595]), array([-86.90168882]), array([-86.90153181]), array([-86.90137495]), array([-86.90121822]), array([-86.90106162]), array([-86.90090516]), array([-86.90074883]), array([-86.90059264]), array([-86.90043658]), array([-86.90028065]), array([-86.90012486]), array([-86.89996921]), array([-86.89981369]), array([-86.8996583]), array([-86.89950304]), array([-86.89934792]), array([-86.89919293]), array([-86.89903808]), array([-86.89888336]), array([-86.89872877]), array([-86.89857432]), array([-86.89841999]), array([-86.8982658]), array([-86.89811175]), array([-86.89795782]), array([-86.89780403]), array([-86.89765037]), array([-86.89749684]), array([-86.89734344]), array([-86.89719018]), array([-86.89703705]), array([-86.89688405]), array([-86.89673118]), array([-86.89657844]), array([-86.89642583]), array([-86.89627335]), array([-86.89612101]), array([-86.89596879]), array([-86.89581671]), array([-86.89566476]), array([-86.89551293]), array([-86.89536124]), array([-86.89520968]), array([-86.89505825]), array([-86.89490694]), array([-86.89475577]), array([-86.89460473]), array([-86.89445382]), array([-86.89430303]), array([-86.89415238]), array([-86.89400185]), array([-86.89385146]), array([-86.89370119]), array([-86.89355105]), array([-86.89340104]), array([-86.89325116]), array([-86.89310141]), array([-86.89295178]), array([-86.89280229]), array([-86.89265292]), array([-86.89250368]), array([-86.89235457]), array([-86.89220558]), array([-86.89205673]), array([-86.891908]), array([-86.8917594]), array([-86.89161092]), array([-86.89146258]), array([-86.89131436]), array([-86.89116626]), array([-86.8910183]), array([-86.89087046]), array([-86.89072274]), array([-86.89057516]), array([-86.8904277]), array([-86.89028036]), array([-86.89013316]), array([-86.88998607]), array([-86.88983912]), array([-86.88969229]), array([-86.88954558]), array([-86.889399]), array([-86.88925255]), array([-86.88910622]), array([-86.88896002]), array([-86.88881394]), array([-86.88866799]), array([-86.88852216]), array([-86.88837645]), array([-86.88823087]), array([-86.88808542]), array([-86.88794009]), array([-86.88779488]), array([-86.8876498]), array([-86.88750484]), array([-86.88736001]), array([-86.8872153]), array([-86.88707071]), array([-86.88692625]), array([-86.88678191]), array([-86.88663769]), array([-86.8864936]), array([-86.88634963]), array([-86.88620578]), array([-86.88606205]), array([-86.88591845]), array([-86.88577497]), array([-86.88563162]), array([-86.88548838]), array([-86.88534527]), array([-86.88520228]), array([-86.88505941]), array([-86.88491667]), array([-86.88477404]), array([-86.88463154]), array([-86.88448916]), array([-86.8843469]), array([-86.88420476]), array([-86.88406274]), array([-86.88392085]), array([-86.88377907]), array([-86.88363742]), array([-86.88349589]), array([-86.88335447]), array([-86.88321318]), array([-86.88307201]), array([-86.88293096]), array([-86.88279003]), array([-86.88264922]), array([-86.88250853]), array([-86.88236796]), array([-86.8822275]), array([-86.88208717]), array([-86.88194696]), array([-86.88180687]), array([-86.8816669]), array([-86.88152704]), array([-86.88138731]), array([-86.88124769]), array([-86.88110819]), array([-86.88096882]), array([-86.88082956]), array([-86.88069042]), array([-86.88055139]), array([-86.88041249]), array([-86.8802737]), array([-86.88013504]), array([-86.87999649]), array([-86.87985806]), array([-86.87971974]), array([-86.87958155]), array([-86.87944347]), array([-86.87930551]), array([-86.87916766]), array([-86.87902993]), array([-86.87889232]), array([-86.87875483]), array([-86.87861746]), array([-86.8784802]), array([-86.87834306]), array([-86.87820603]), array([-86.87806912]), array([-86.87793233]), array([-86.87779565]), array([-86.87765909]), array([-86.87752265]), array([-86.87738632]), array([-86.87725011]), array([-86.87711401]), array([-86.87697803]), array([-86.87684216]), array([-86.87670641]), array([-86.87657078]), array([-86.87643526]), array([-86.87629985]), array([-86.87616457]), array([-86.87602939]), array([-86.87589433]), array([-86.87575939]), array([-86.87562455]), array([-86.87548984]), array([-86.87535524]), array([-86.87522075]), array([-86.87508637]), array([-86.87495212]), array([-86.87481797]), array([-86.87468394]), array([-86.87455002]), array([-86.87441622]), array([-86.87428252]), array([-86.87414895]), array([-86.87401548]), array([-86.87388213]), array([-86.87374889]), array([-86.87361577]), array([-86.87348276]), array([-86.87334986]), array([-86.87321707]), array([-86.87308439]), array([-86.87295183]), array([-86.87281938]), array([-86.87268705]), array([-86.87255482]), array([-86.87242271]), array([-86.87229071]), array([-86.87215882]), array([-86.87202704]), array([-86.87189537]), array([-86.87176382]), array([-86.87163238]), array([-86.87150105]), array([-86.87136982]), array([-86.87123872]), array([-86.87110772]), array([-86.87097683]), array([-86.87084605]), array([-86.87071539]), array([-86.87058483]), array([-86.87045439]), array([-86.87032405]), array([-86.87019383]), array([-86.87006371]), array([-86.86993371]), array([-86.86980382]), array([-86.86967403]), array([-86.86954436]), array([-86.86941479]), array([-86.86928534]), array([-86.86915599]), array([-86.86902676]), array([-86.86889763]), array([-86.86876861]), array([-86.8686397]), array([-86.8685109]), array([-86.86838221]), array([-86.86825363]), array([-86.86812516]), array([-86.86799679]), array([-86.86786854]), array([-86.86774039]), array([-86.86761235]), array([-86.86748442]), array([-86.86735659]), array([-86.86722888]), array([-86.86710127]), array([-86.86697377]), array([-86.86684638]), array([-86.86671909]), array([-86.86659192]), array([-86.86646485]), array([-86.86633789]), array([-86.86621103]), array([-86.86608428]), array([-86.86595764]), array([-86.86583111]), array([-86.86570468]), array([-86.86557836]), array([-86.86545214]), array([-86.86532604]), array([-86.86520004]), array([-86.86507414]), array([-86.86494835]), array([-86.86482267]), array([-86.86469709]), array([-86.86457162]), array([-86.86444626]), array([-86.864321]), array([-86.86419584]), array([-86.8640708]), array([-86.86394585]), array([-86.86382102]), array([-86.86369628]), array([-86.86357166]), array([-86.86344714]), array([-86.86332272]), array([-86.86319841]), array([-86.8630742]), array([-86.8629501]), array([-86.8628261]), array([-86.8627022]), array([-86.86257842]), array([-86.86245473]), array([-86.86233115]), array([-86.86220767]), array([-86.8620843]), array([-86.86196103]), array([-86.86183787]), array([-86.8617148]), array([-86.86159185]), array([-86.86146899]), array([-86.86134624]), array([-86.86122359]), array([-86.86110105]), array([-86.86097861]), array([-86.86085627]), array([-86.86073404]), array([-86.8606119]), array([-86.86048987]), array([-86.86036795]), array([-86.86024612]), array([-86.8601244]), array([-86.86000278]), array([-86.85988126]), array([-86.85975985]), array([-86.85963854]), array([-86.85951732]), array([-86.85939622]), array([-86.85927521]), array([-86.8591543]), array([-86.8590335]), array([-86.8589128]), array([-86.8587922]), array([-86.8586717]), array([-86.8585513]), array([-86.858431]), array([-86.8583108]), array([-86.85819071]), array([-86.85807072]), array([-86.85795082]), array([-86.85783103]), array([-86.85771134]), array([-86.85759175]), array([-86.85747225]), array([-86.85735286]), array([-86.85723357]), array([-86.85711438]), array([-86.85699529]), array([-86.8568763]), array([-86.85675741]), array([-86.85663862]), array([-86.85651993]), array([-86.85640134]), array([-86.85628285]), array([-86.85616446]), array([-86.85604616]), array([-86.85592797]), array([-86.85580987]), array([-86.85569188]), array([-86.85557398]), array([-86.85545618]), array([-86.85533848]), array([-86.85522088]), array([-86.85510338]), array([-86.85498598]), array([-86.85486868]), array([-86.85475147]), array([-86.85463436]), array([-86.85451735]), array([-86.85440044]), array([-86.85428363]), array([-86.85416691]), array([-86.85405029]), array([-86.85393377]), array([-86.85381735]), array([-86.85370102]), array([-86.8535848]), array([-86.85346867]), array([-86.85335263]), array([-86.8532367]), array([-86.85312086]), array([-86.85300512]), array([-86.85288947]), array([-86.85277392]), array([-86.85265847]), array([-86.85254312]), array([-86.85242786]), array([-86.8523127]), array([-86.85219763]), array([-86.85208266]), array([-86.85196779]), array([-86.85185302]), array([-86.85173833]), array([-86.85162375]), array([-86.85150926]), array([-86.85139487]), array([-86.85128057]), array([-86.85116637]), array([-86.85105226]), array([-86.85093825]), array([-86.85082434]), array([-86.85071052]), array([-86.85059679]), array([-86.85048316]), array([-86.85036963]), array([-86.85025619]), array([-86.85014285]), array([-86.8500296]), array([-86.84991644]), array([-86.84980338]), array([-86.84969041]), array([-86.84957754]), array([-86.84946476]), array([-86.84935208]), array([-86.84923949]), array([-86.849127]), array([-86.84901459]), array([-86.84890229]), array([-86.84879007]), array([-86.84867795]), array([-86.84856593]), array([-86.84845399]), array([-86.84834216]), array([-86.84823041]), array([-86.84811876]), array([-86.8480072]), array([-86.84789573]), array([-86.84778436]), array([-86.84767308]), array([-86.84756189]), array([-86.8474508]), array([-86.8473398]), array([-86.84722889]), array([-86.84711807]), array([-86.84700735]), array([-86.84689671]), array([-86.84678617]), array([-86.84667573]), array([-86.84656537]), array([-86.84645511]), array([-86.84634494]), array([-86.84623486]), array([-86.84612487]), array([-86.84601498]), array([-86.84590517]), array([-86.84579546]), array([-86.84568584]), array([-86.84557631]), array([-86.84546687]), array([-86.84535752]), array([-86.84524827]), array([-86.8451391]), array([-86.84503003]), array([-86.84492104]), array([-86.84481215]), array([-86.84470335]), array([-86.84459464]), array([-86.84448602]), array([-86.84437749]), array([-86.84426905]), array([-86.8441607]), array([-86.84405244]), array([-86.84394427]), array([-86.84383619]), array([-86.8437282]), array([-86.84362031]), array([-86.8435125]), array([-86.84340478]), array([-86.84329715]), array([-86.84318961]), array([-86.84308216]), array([-86.8429748]), array([-86.84286752]), array([-86.84276034]), array([-86.84265325]), array([-86.84254624]), array([-86.84243933]), array([-86.8423325]), array([-86.84222576]), array([-86.84211912]), array([-86.84201256]), array([-86.84190608]), array([-86.8417997]), array([-86.84169341]), array([-86.8415872]), array([-86.84148108]), array([-86.84137505]), array([-86.84126911]), array([-86.84116326]), array([-86.84105749]), array([-86.84095182]), array([-86.84084623]), array([-86.84074072]), array([-86.84063531]), array([-86.84052998]), array([-86.84042475]), array([-86.84031959]), array([-86.84021453]), array([-86.84010955]), array([-86.84000466]), array([-86.83989986]), array([-86.83979514]), array([-86.83969052]), array([-86.83958597]), array([-86.83948152]), array([-86.83937715]), array([-86.83927287]), array([-86.83916867]), array([-86.83906456]), array([-86.83896054]), array([-86.83885661]), array([-86.83875276]), array([-86.83864899]), array([-86.83854532]), array([-86.83844173]), array([-86.83833822]), array([-86.8382348]), array([-86.83813147]), array([-86.83802822]), array([-86.83792506]), array([-86.83782198]), array([-86.83771899]), array([-86.83761608]), array([-86.83751326]), array([-86.83741053]), array([-86.83730788]), array([-86.83720531]), array([-86.83710283]), array([-86.83700044]), array([-86.83689813]), array([-86.8367959]), array([-86.83669376]), array([-86.83659171]), array([-86.83648973]), array([-86.83638785]), array([-86.83628604]), array([-86.83618433]), array([-86.83608269]), array([-86.83598114]), array([-86.83587968]), array([-86.8357783]), array([-86.835677]), array([-86.83557579]), array([-86.83547466]), array([-86.83537361]), array([-86.83527265]), array([-86.83517177]), array([-86.83507097]), array([-86.83497026]), array([-86.83486963]), array([-86.83476909]), array([-86.83466863]), array([-86.83456825]), array([-86.83446795]), array([-86.83436774]), array([-86.83426761]), array([-86.83416756]), array([-86.8340676]), array([-86.83396772]), array([-86.83386792]), array([-86.8337682]), array([-86.83366857]), array([-86.83356902]), array([-86.83346955]), array([-86.83337016]), array([-86.83327086]), array([-86.83317163]), array([-86.83307249]), array([-86.83297344]), array([-86.83287446]), array([-86.83277556]), array([-86.83267675]), array([-86.83257802]), array([-86.83247937]), array([-86.8323808]), array([-86.83228231]), array([-86.83218391]), array([-86.83208559]), array([-86.83198734]), array([-86.83188918]), array([-86.8317911]), array([-86.8316931]), array([-86.83159518]), array([-86.83149734]), array([-86.83139959]), array([-86.83130191]), array([-86.83120432]), array([-86.8311068]), array([-86.83100937]), array([-86.83091201]), array([-86.83081474]), array([-86.83071755]), array([-86.83062043]), array([-86.8305234]), array([-86.83042645]), array([-86.83032957]), array([-86.83023278]), array([-86.83013607]), array([-86.83003944]), array([-86.82994288]), array([-86.82984641]), array([-86.82975001]), array([-86.8296537]), array([-86.82955746]), array([-86.82946131]), array([-86.82936523]), array([-86.82926923]), array([-86.82917332]), array([-86.82907748]), array([-86.82898172]), array([-86.82888604]), array([-86.82879043]), array([-86.82869491]), array([-86.82859947]), array([-86.8285041]), array([-86.82840881]), array([-86.8283136]), array([-86.82821847]), array([-86.82812342]), array([-86.82802845]), array([-86.82793355]), array([-86.82783874]), array([-86.827744]), array([-86.82764934]), array([-86.82755475]), array([-86.82746025]), array([-86.82736582]), array([-86.82727147]), array([-86.8271772]), array([-86.827083]), array([-86.82698889]), array([-86.82689485]), array([-86.82680089]), array([-86.826707]), array([-86.8266132]), array([-86.82651947]), array([-86.82642581]), array([-86.82633224]), array([-86.82623874]), array([-86.82614532]), array([-86.82605197]), array([-86.8259587]), array([-86.82586551]), array([-86.8257724]), array([-86.82567936]), array([-86.8255864]), array([-86.82549351]), array([-86.82540071]), array([-86.82530797]), array([-86.82521532]), array([-86.82512274]), array([-86.82503023]), array([-86.82493781]), array([-86.82484546]), array([-86.82475318]), array([-86.82466098]), array([-86.82456886]), array([-86.82447681]), array([-86.82438484]), array([-86.82429294]), array([-86.82420112]), array([-86.82410937]), array([-86.8240177]), array([-86.82392611]), array([-86.82383459]), array([-86.82374314]), array([-86.82365177]), array([-86.82356048]), array([-86.82346926]), array([-86.82337811]), array([-86.82328704]), array([-86.82319605]), array([-86.82310513]), array([-86.82301428]), array([-86.82292351]), array([-86.82283281]), array([-86.82274219]), array([-86.82265164]), array([-86.82256117]), array([-86.82247077]), array([-86.82238045]), array([-86.8222902]), array([-86.82220002]), array([-86.82210992]), array([-86.82201989]), array([-86.82192993]), array([-86.82184005]), array([-86.82175024]), array([-86.82166051]), array([-86.82157085]), array([-86.82148126]), array([-86.82139175]), array([-86.82130231]), array([-86.82121295]), array([-86.82112365]), array([-86.82103443]), array([-86.82094529]), array([-86.82085621]), array([-86.82076721]), array([-86.82067828]), array([-86.82058943]), array([-86.82050065]), array([-86.82041194]), array([-86.8203233]), array([-86.82023474]), array([-86.82014625]), array([-86.82005783]), array([-86.81996948]), array([-86.81988121]), array([-86.81979301]), array([-86.81970488]), array([-86.81961682]), array([-86.81952884]), array([-86.81944093]), array([-86.81935309]), array([-86.81926532]), array([-86.81917762]), array([-86.81908999]), array([-86.81900244]), array([-86.81891496]), array([-86.81882755]), array([-86.81874021]), array([-86.81865294]), array([-86.81856575]), array([-86.81847863]), array([-86.81839157]), array([-86.81830459]), array([-86.81821768]), array([-86.81813084]), array([-86.81804407]), array([-86.81795738]), array([-86.81787075]), array([-86.8177842]), array([-86.81769771]), array([-86.8176113]), array([-86.81752495]), array([-86.81743868]), array([-86.81735248]), array([-86.81726635]), array([-86.81718029]), array([-86.8170943]), array([-86.81700838]), array([-86.81692253]), array([-86.81683675]), array([-86.81675104]), array([-86.8166654]), array([-86.81657983]), array([-86.81649433]), array([-86.8164089]), array([-86.81632354]), array([-86.81623825]), array([-86.81615303]), array([-86.81606788]), array([-86.8159828]), array([-86.81589778]), array([-86.81581284]), array([-86.81572797]), array([-86.81564317]), array([-86.81555843]), array([-86.81547377]), array([-86.81538917]), array([-86.81530464]), array([-86.81522019]), array([-86.8151358]), array([-86.81505148]), array([-86.81496723]), array([-86.81488304]), array([-86.81479893]), array([-86.81471489]), array([-86.81463091]), array([-86.814547]), array([-86.81446316]), array([-86.81437939]), array([-86.81429569]), array([-86.81421206]), array([-86.81412849]), array([-86.81404499]), array([-86.81396156]), array([-86.8138782]), array([-86.81379491]), array([-86.81371168]), array([-86.81362852]), array([-86.81354543]), array([-86.81346241]), array([-86.81337946]), array([-86.81329657]), array([-86.81321375]), array([-86.813131]), array([-86.81304832]), array([-86.8129657]), array([-86.81288315]), array([-86.81280067]), array([-86.81271825]), array([-86.81263591]), array([-86.81255363]), array([-86.81247141]), array([-86.81238927]), array([-86.81230719]), array([-86.81222517]), array([-86.81214323]), array([-86.81206135]), array([-86.81197954]), array([-86.81189779]), array([-86.81181611]), array([-86.8117345]), array([-86.81165295]), array([-86.81157147]), array([-86.81149006]), array([-86.81140871]), array([-86.81132743]), array([-86.81124622]), array([-86.81116507]), array([-86.81108399]), array([-86.81100297]), array([-86.81092202]), array([-86.81084114]), array([-86.81076032]), array([-86.81067957]), array([-86.81059888]), array([-86.81051826]), array([-86.8104377]), array([-86.81035721]), array([-86.81027679]), array([-86.81019643]), array([-86.81011613]), array([-86.81003591]), array([-86.80995574]), array([-86.80987564]), array([-86.80979561]), array([-86.80971564]), array([-86.80963574]), array([-86.8095559]), array([-86.80947613]), array([-86.80939642]), array([-86.80931678]), array([-86.8092372]), array([-86.80915769]), array([-86.80907824]), array([-86.80899885]), array([-86.80891953]), array([-86.80884028]), array([-86.80876109]), array([-86.80868196]), array([-86.8086029]), array([-86.8085239]), array([-86.80844497]), array([-86.8083661]), array([-86.80828729]), array([-86.80820855]), array([-86.80812987]), array([-86.80805126]), array([-86.80797271]), array([-86.80789422]), array([-86.8078158]), array([-86.80773744]), array([-86.80765914]), array([-86.80758091]), array([-86.80750275]), array([-86.80742464]), array([-86.8073466]), array([-86.80726862]), array([-86.80719071]), array([-86.80711286]), array([-86.80703507]), array([-86.80695734]), array([-86.80687968]), array([-86.80680208]), array([-86.80672455]), array([-86.80664708]), array([-86.80656967]), array([-86.80649232]), array([-86.80641503]), array([-86.80633781]), array([-86.80626065]), array([-86.80618356]), array([-86.80610652]), array([-86.80602955]), array([-86.80595264]), array([-86.8058758]), array([-86.80579901]), array([-86.80572229]), array([-86.80564563]), array([-86.80556903]), array([-86.8054925]), array([-86.80541602]), array([-86.80533961]), array([-86.80526326]), array([-86.80518698]), array([-86.80511075]), array([-86.80503459]), array([-86.80495848]), array([-86.80488244]), array([-86.80480646]), array([-86.80473055]), array([-86.80465469]), array([-86.8045789]), array([-86.80450316]), array([-86.80442749]), array([-86.80435188]), array([-86.80427633]), array([-86.80420085]), array([-86.80412542]), array([-86.80405005]), array([-86.80397475]), array([-86.80389951]), array([-86.80382432]), array([-86.8037492]), array([-86.80367414]), array([-86.80359914]), array([-86.8035242]), array([-86.80344932]), array([-86.8033745]), array([-86.80329975]), array([-86.80322505]), array([-86.80315041]), array([-86.80307584]), array([-86.80300132]), array([-86.80292687]), array([-86.80285247]), array([-86.80277813]), array([-86.80270386]), array([-86.80262965]), array([-86.80255549]), array([-86.8024814]), array([-86.80240736]), array([-86.80233339]), array([-86.80225947]), array([-86.80218562]), array([-86.80211182]), array([-86.80203808]), array([-86.80196441]), array([-86.80189079]), array([-86.80181723]), array([-86.80174374]), array([-86.8016703]), array([-86.80159692]), array([-86.8015236]), array([-86.80145034]), array([-86.80137714]), array([-86.801304]), array([-86.80123091]), array([-86.80115789]), array([-86.80108492]), array([-86.80101202]), array([-86.80093917]), array([-86.80086638]), array([-86.80079365]), array([-86.80072098]), array([-86.80064837]), array([-86.80057582]), array([-86.80050332]), array([-86.80043089]), array([-86.80035851]), array([-86.80028619]), array([-86.80021393]), array([-86.80014173]), array([-86.80006958]), array([-86.7999975]), array([-86.79992547]), array([-86.7998535]), array([-86.79978159]), array([-86.79970974]), array([-86.79963794]), array([-86.79956621]), array([-86.79949453]), array([-86.7994229]), array([-86.79935134]), array([-86.79927983]), array([-86.79920839]), array([-86.799137]), array([-86.79906566]), array([-86.79899439]), array([-86.79892317]), array([-86.79885201]), array([-86.79878091]), array([-86.79870986]), array([-86.79863887]), array([-86.79856794]), array([-86.79849707]), array([-86.79842625]), array([-86.79835549]), array([-86.79828479]), array([-86.79821414]), array([-86.79814355]), array([-86.79807302]), array([-86.79800255]), array([-86.79793213]), array([-86.79786177]), array([-86.79779146]), array([-86.79772121]), array([-86.79765102]), array([-86.79758089]), array([-86.79751081]), array([-86.79744079]), array([-86.79737082]), array([-86.79730091]), array([-86.79723106]), array([-86.79716127]), array([-86.79709152]), array([-86.79702184]), array([-86.79695221]), array([-86.79688264]), array([-86.79681313]), array([-86.79674367]), array([-86.79667426]), array([-86.79660491]), array([-86.79653562]), array([-86.79646639]), array([-86.79639721]), array([-86.79632808]), array([-86.79625901]), array([-86.79619]), array([-86.79612104]), array([-86.79605214]), array([-86.79598329]), array([-86.7959145]), array([-86.79584576]), array([-86.79577708]), array([-86.79570846]), array([-86.79563989]), array([-86.79557137]), array([-86.79550291]), array([-86.7954345]), array([-86.79536615]), array([-86.79529786]), array([-86.79522962]), array([-86.79516143]), array([-86.7950933]), array([-86.79502523]), array([-86.79495721]), array([-86.79488924]), array([-86.79482133]), array([-86.79475347]), array([-86.79468567]), array([-86.79461792]), array([-86.79455023]), array([-86.79448259]), array([-86.79441501]), array([-86.79434748]), array([-86.79428]), array([-86.79421258]), array([-86.79414521]), array([-86.7940779]), array([-86.79401064]), array([-86.79394343]), array([-86.79387628]), array([-86.79380918]), array([-86.79374214]), array([-86.79367515]), array([-86.79360822]), array([-86.79354133]), array([-86.79347451]), array([-86.79340773]), array([-86.79334101]), array([-86.79327434]), array([-86.79320773]), array([-86.79314117]), array([-86.79307466]), array([-86.79300821]), array([-86.79294181]), array([-86.79287546]), array([-86.79280917]), array([-86.79274293]), array([-86.79267674]), array([-86.79261061]), array([-86.79254453]), array([-86.7924785]), array([-86.79241252]), array([-86.7923466]), array([-86.79228073]), array([-86.79221492]), array([-86.79214915]), array([-86.79208344]), array([-86.79201779]), array([-86.79195218]), array([-86.79188663]), array([-86.79182113]), array([-86.79175568]), array([-86.79169029]), array([-86.79162494]), array([-86.79155965]), array([-86.79149442]), array([-86.79142923]), array([-86.7913641]), array([-86.79129902]), array([-86.79123399]), array([-86.79116901]), array([-86.79110409]), array([-86.79103922]), array([-86.79097439]), array([-86.79090963]), array([-86.79084491]), array([-86.79078025]), array([-86.79071563]), array([-86.79065107]), array([-86.79058656]), array([-86.7905221]), array([-86.7904577]), array([-86.79039334]), array([-86.79032904]), array([-86.79026479]), array([-86.79020059]), array([-86.79013644]), array([-86.79007235]), array([-86.7900083]), array([-86.78994431]), array([-86.78988036]), array([-86.78981647]), array([-86.78975263]), array([-86.78968884]), array([-86.7896251]), array([-86.78956142]), array([-86.78949778]), array([-86.78943419]), array([-86.78937066]), array([-86.78930718]), array([-86.78924374]), array([-86.78918036]), array([-86.78911703]), array([-86.78905375]), array([-86.78899052]), array([-86.78892734]), array([-86.78886421]), array([-86.78880113]), array([-86.7887381]), array([-86.78867513]), array([-86.7886122]), array([-86.78854932]), array([-86.7884865]), array([-86.78842372]), array([-86.78836099]), array([-86.78829832]), array([-86.78823569]), array([-86.78817312]), array([-86.78811059]), array([-86.78804812]), array([-86.78798569]), array([-86.78792332]), array([-86.78786099]), array([-86.78779871]), array([-86.78773649]), array([-86.78767431]), array([-86.78761218]), array([-86.78755011]), array([-86.78748808]), array([-86.7874261]), array([-86.78736417]), array([-86.7873023]), array([-86.78724047]), array([-86.78717869]), array([-86.78711696]), array([-86.78705528]), array([-86.78699364]), array([-86.78693206]), array([-86.78687053]), array([-86.78680904]), array([-86.78674761]), array([-86.78668622]), array([-86.78662488]), array([-86.7865636]), array([-86.78650236]), array([-86.78644117]), array([-86.78638003]), array([-86.78631893]), array([-86.78625789]), array([-86.78619689]), array([-86.78613595]), array([-86.78607505]), array([-86.7860142]), array([-86.7859534]), array([-86.78589265]), array([-86.78583195]), array([-86.78577129]), array([-86.78571068]), array([-86.78565013]), array([-86.78558962]), array([-86.78552916]), array([-86.78546874]), array([-86.78540838]), array([-86.78534806]), array([-86.78528779]), array([-86.78522757]), array([-86.7851674]), array([-86.78510727]), array([-86.7850472]), array([-86.78498717]), array([-86.78492719]), array([-86.78486725]), array([-86.78480737]), array([-86.78474753]), array([-86.78468774]), array([-86.784628]), array([-86.7845683]), array([-86.78450866]), array([-86.78444906]), array([-86.78438951]), array([-86.78433]), array([-86.78427055]), array([-86.78421114]), array([-86.78415177]), array([-86.78409246]), array([-86.78403319]), array([-86.78397397]), array([-86.7839148]), array([-86.78385567]), array([-86.78379659]), array([-86.78373756]), array([-86.78367858]), array([-86.78361964]), array([-86.78356075]), array([-86.78350191]), array([-86.78344311]), array([-86.78338436]), array([-86.78332565]), array([-86.783267]), array([-86.78320839]), array([-86.78314983]), array([-86.78309131])]\n"
     ]
    }
   ],
   "source": [
    "print(Loss)"
   ]
  },
  {
   "cell_type": "code",
   "execution_count": 324,
   "metadata": {},
   "outputs": [
    {
     "data": {
      "text/plain": [
       "Text(0, 0.5, 'Log likelihood')"
      ]
     },
     "execution_count": 324,
     "metadata": {},
     "output_type": "execute_result"
    },
    {
     "data": {
      "image/png": "[encoded data removed]",
      "text/plain": [
       "<Figure size 432x288 with 1 Axes>"
      ]
     },
     "metadata": {
      "needs_background": "light"
     },
     "output_type": "display_data"
    }
   ],
   "source": [
    "import matplotlib.pyplot as plt\n",
    "plt.plot(Loss)\n",
    "plt.title(\"Log likelihood vs Steps (Training)\")\n",
    "plt.xlabel(\"Steps\")\n",
    "plt.ylabel(\"Log likelihood\")"
   ]
  },
  {
   "cell_type": "code",
   "execution_count": 216,
   "metadata": {},
   "outputs": [
    {
     "name": "stderr",
     "output_type": "stream",
     "text": [
      "/Users/ShawnXu/opt/anaconda3/lib/python3.7/site-packages/sklearn/linear_model/logistic.py:432: FutureWarning: Default solver will be changed to 'lbfgs' in 0.22. Specify a solver to silence this warning.\n",
      "  FutureWarning)\n"
     ]
    },
    {
     "data": {
      "text/plain": [
       "0.8059071729957806"
      ]
     },
     "execution_count": 216,
     "metadata": {},
     "output_type": "execute_result"
    }
   ],
   "source": [
    "from sklearn.linear_model import LogisticRegression\n",
    "reg = LogisticRegression().fit(projected, y.reshape((-1)))\n",
    "reg.score(projected, y)"
   ]
  },
  {
   "cell_type": "code",
   "execution_count": 47,
   "metadata": {},
   "outputs": [],
   "source": [
    "\n",
    "\n",
    "#(a) Implement Logistic Regression via Gradient Descent. (5 points)\n",
    "#Now, without using any high-level machine learning libraries, implement logistic regression. Here, you’ll be using batch gradient descent, and will only need one logistic output unit. (Think about why we only need one if we’re classifying two classes?) The most points will be given for clean, well-documented code.\n",
    "def gradient_descent(X, y, lr=0.05, epoch=300):\n",
    "    '''\n",
    "    Gradient Descent for a single feature\n",
    "    X -> feature -> m * d\n",
    "    y -> label -> m\n",
    "    lr -> learning rate\n",
    "    epoch -> epoch\n",
    "    \n",
    "    weights <-\n",
    "    mse     <-\n",
    "    '''\n",
    "    \n",
    "    weight = np.zeros((X.shape[1], 1))\n",
    "    N = len(X) # number of samples\n",
    "    log = []\n",
    "    \n",
    "    for _ in range(epoch):\n",
    "        errorSum = np.zeros((X.shape[1], 1))\n",
    "        #biasIncludedX = np.append(X, np.ones((X.shape[0], 1)), 1)\n",
    "        calculatedTarget = X@weight\n",
    "        #print(calculatedTarget, y)\n",
    "        diffs = y - calculatedTarget\n",
    "        #print(diffs.shape, y.shape, calculatedTarget.shape)\n",
    "        for i, diff in enumerate(diffs):\n",
    "            #print(diff.shape, errorSum.shape, X[i].shape)\n",
    "            #print(diff[0])\n",
    "            errorSum += diff[0] * X[i].reshape((-1, 1))\n",
    "        weight += errorSum * lr * (2/N)\n",
    "        #print(weight)\n",
    "        log.append(sum(diffs**2)[0])\n",
    "\n",
    "    return weight, log"
   ]
  },
  {
   "cell_type": "code",
   "execution_count": 44,
   "metadata": {},
   "outputs": [
    {
     "name": "stderr",
     "output_type": "stream",
     "text": [
      "<ipython-input-41-049695596806>:32: RuntimeWarning: overflow encountered in square\n",
      "  log.append(sum(diffs**2)[0])\n",
      "<ipython-input-41-049695596806>:29: RuntimeWarning: overflow encountered in multiply\n",
      "  errorSum += diff[0] * X[i].reshape((-1, 1))\n",
      "<ipython-input-41-049695596806>:29: RuntimeWarning: overflow encountered in add\n",
      "  errorSum += diff[0] * X[i].reshape((-1, 1))\n",
      "<ipython-input-41-049695596806>:22: RuntimeWarning: invalid value encountered in matmul\n",
      "  calculatedTarget = X@weight\n"
     ]
    }
   ],
   "source": [
    "w, l = gradient_descent(X, y)"
   ]
  },
  {
   "cell_type": "code",
   "execution_count": 45,
   "metadata": {},
   "outputs": [
    {
     "name": "stdout",
     "output_type": "stream",
     "text": [
      "[118.0, 3.104076254465395e+17, 1.673244493858922e+33, 9.020297129799019e+48, 4.8627539270974253e+64, 2.6214630644143286e+80, 1.4132050893618976e+96, 7.618450367312572e+111, 4.107032053317335e+127, 2.2140607963199377e+143, 1.1935785126978462e+159, 6.434464981006501e+174, 3.4687571157943585e+190, 1.8699730224488486e+206, 1.0080841603940608e+222, 5.434483076694745e+237, 2.929676655105549e+253, 1.5793600205101066e+269, 8.514175344363435e+284, 4.589908624580285e+300, inf, inf, inf, inf, inf, inf, inf, inf, inf, inf, inf, inf, inf, inf, inf, inf, inf, inf, inf, inf, nan, nan, nan, nan, nan, nan, nan, nan, nan, nan, nan, nan, nan, nan, nan, nan, nan, nan, nan, nan, nan, nan, nan, nan, nan, nan, nan, nan, nan, nan, nan, nan, nan, nan, nan, nan, nan, nan, nan, nan, nan, nan, nan, nan, nan, nan, nan, nan, nan, nan, nan, nan, nan, nan, nan, nan, nan, nan, nan, nan, nan, nan, nan, nan, nan, nan, nan, nan, nan, nan, nan, nan, nan, nan, nan, nan, nan, nan, nan, nan, nan, nan, nan, nan, nan, nan, nan, nan, nan, nan, nan, nan, nan, nan, nan, nan, nan, nan, nan, nan, nan, nan, nan, nan, nan, nan, nan, nan, nan, nan, nan, nan, nan, nan, nan, nan, nan, nan, nan, nan, nan, nan, nan, nan, nan, nan, nan, nan, nan, nan, nan, nan, nan, nan, nan, nan, nan, nan, nan, nan, nan, nan, nan, nan, nan, nan, nan, nan, nan, nan, nan, nan, nan, nan, nan, nan, nan, nan, nan, nan, nan, nan, nan, nan, nan, nan, nan, nan, nan, nan, nan, nan, nan, nan, nan, nan, nan, nan, nan, nan, nan, nan, nan, nan, nan, nan, nan, nan, nan, nan, nan, nan, nan, nan, nan, nan, nan, nan, nan, nan, nan, nan, nan, nan, nan, nan, nan, nan, nan, nan, nan, nan, nan, nan, nan, nan, nan, nan, nan, nan, nan, nan, nan, nan, nan, nan, nan, nan, nan, nan, nan, nan, nan, nan, nan, nan, nan, nan, nan, nan, nan, nan, nan, nan, nan, nan, nan, nan, nan, nan, nan, nan, nan, nan, nan, nan, nan, nan, nan, nan]\n"
     ]
    }
   ],
   "source": [
    "print(l)"
   ]
  },
  {
   "cell_type": "code",
   "execution_count": 94,
   "metadata": {},
   "outputs": [],
   "source": [
    "def PCA_test(X, mean_image, n_components):\n",
    "    msd = X - mean_image # M x d\n",
    "\n",
    "    smart_cov_matrix = np.matmul(msd, msd.T)\n",
    "    eigen_values, smart_eigen_vectors = np.linalg.eig(smart_cov_matrix)\n",
    "\n",
    "    idx = eigen_values.argsort()[::-1]   \n",
    "    eigen_values = eigen_values[idx]\n",
    "    smart_eigen_vectors = smart_eigen_vectors[:,idx]\n",
    "\n",
    "    eigen_vectors = (np.matmul(msd.T, smart_eigen_vectors)).T # M x d\n",
    "\n",
    "    row_norm = np.sum(np.abs(eigen_vectors)**2,axis=-1)**(1./2) # M\n",
    "\n",
    "    normalized_eigen_vectors = eigen_vectors/(row_norm.reshape(-1, 1)) # M x d\n",
    "\n",
    "    top_eigen_vectors = normalized_eigen_vectors[:n_components].T\n",
    "    top_sqrt_eigen_values = np.sqrt(eigen_values[:n_components])\n",
    "\n",
    "    projected = np.matmul(msd, top_eigen_vectors)/top_sqrt_eigen_values\n",
    "\n",
    "    return projected"
   ]
  },
  {
   "cell_type": "code",
   "execution_count": 106,
   "metadata": {},
   "outputs": [],
   "source": []
  },
  {
   "cell_type": "code",
   "execution_count": 146,
   "metadata": {},
   "outputs": [
    {
     "data": {
      "text/plain": [
       "0.9513201441478435"
      ]
     },
     "execution_count": 146,
     "metadata": {},
     "output_type": "execute_result"
    }
   ],
   "source": [
    "pca = PCA(n_components=4)\n",
    "pca.fit()\n",
    "reg = LinearRegression().fit(X, y)\n",
    "reg.score(X, y)"
   ]
  },
  {
   "cell_type": "code",
   "execution_count": 147,
   "metadata": {},
   "outputs": [
    {
     "name": "stdout",
     "output_type": "stream",
     "text": [
      "[[ 1.09062380e+00]\n",
      " [ 1.13370466e+00]\n",
      " [ 9.96141150e-01]\n",
      " [ 9.79065039e-01]\n",
      " [ 8.32071519e-01]\n",
      " [ 1.00414370e+00]\n",
      " [ 1.03011653e+00]\n",
      " [ 9.09847423e-01]\n",
      " [ 9.47712967e-01]\n",
      " [ 8.89817480e-01]\n",
      " [ 1.01802904e+00]\n",
      " [ 6.35254183e-01]\n",
      " [ 1.02264444e+00]\n",
      " [ 9.29018337e-01]\n",
      " [ 1.14174318e+00]\n",
      " [ 8.92076144e-01]\n",
      " [ 1.00485116e+00]\n",
      " [ 9.72286533e-01]\n",
      " [ 9.42922905e-01]\n",
      " [ 1.02190039e+00]\n",
      " [ 9.62478241e-01]\n",
      " [ 9.68452507e-01]\n",
      " [ 9.25448859e-01]\n",
      " [ 8.42111768e-01]\n",
      " [ 8.65834077e-01]\n",
      " [ 9.91952875e-01]\n",
      " [ 8.93742155e-01]\n",
      " [ 8.17413421e-01]\n",
      " [ 9.86742253e-01]\n",
      " [ 1.04941998e+00]\n",
      " [ 8.07144457e-01]\n",
      " [ 8.91723287e-01]\n",
      " [ 9.82676583e-01]\n",
      " [ 1.06600742e+00]\n",
      " [ 9.11307601e-01]\n",
      " [ 1.12803576e+00]\n",
      " [ 9.58403864e-01]\n",
      " [ 8.86231427e-01]\n",
      " [ 9.75306789e-01]\n",
      " [ 1.04724480e+00]\n",
      " [ 9.31669463e-01]\n",
      " [ 1.04328470e+00]\n",
      " [ 1.22560873e+00]\n",
      " [ 1.08971834e+00]\n",
      " [ 9.41061064e-01]\n",
      " [ 1.03373186e+00]\n",
      " [ 8.83190078e-01]\n",
      " [ 9.75095138e-01]\n",
      " [ 1.05218043e+00]\n",
      " [ 1.10345402e+00]\n",
      " [ 1.04831977e+00]\n",
      " [ 9.53203755e-01]\n",
      " [ 9.81897978e-01]\n",
      " [ 1.09713540e+00]\n",
      " [ 9.63249958e-01]\n",
      " [ 1.11083175e+00]\n",
      " [ 8.78384441e-01]\n",
      " [ 1.04867234e+00]\n",
      " [ 9.22535047e-01]\n",
      " [ 1.06016525e+00]\n",
      " [ 9.22904609e-01]\n",
      " [ 9.27347750e-01]\n",
      " [ 1.03111582e+00]\n",
      " [ 1.07242014e+00]\n",
      " [ 1.07722878e+00]\n",
      " [ 9.23740276e-01]\n",
      " [ 9.13189360e-01]\n",
      " [ 1.02977844e+00]\n",
      " [ 1.05078908e+00]\n",
      " [ 1.19087806e+00]\n",
      " [ 9.72537801e-01]\n",
      " [ 7.73176558e-01]\n",
      " [ 1.06692767e+00]\n",
      " [ 1.00824651e+00]\n",
      " [ 1.05092788e+00]\n",
      " [ 1.05650936e+00]\n",
      " [ 8.82683796e-01]\n",
      " [ 1.01338810e+00]\n",
      " [ 8.93327393e-01]\n",
      " [ 8.37495417e-01]\n",
      " [ 1.04663421e+00]\n",
      " [ 9.81755295e-01]\n",
      " [ 7.96175727e-01]\n",
      " [ 9.65053816e-01]\n",
      " [ 1.02606202e+00]\n",
      " [ 6.82897673e-01]\n",
      " [ 9.87944156e-01]\n",
      " [ 9.30300883e-01]\n",
      " [ 9.78106626e-01]\n",
      " [ 1.03242627e+00]\n",
      " [ 1.14956224e+00]\n",
      " [ 1.08786611e+00]\n",
      " [ 9.80343691e-01]\n",
      " [ 9.98513892e-01]\n",
      " [ 1.03585147e+00]\n",
      " [ 9.77762196e-01]\n",
      " [ 7.33766601e-01]\n",
      " [ 8.80269266e-01]\n",
      " [ 9.73265472e-01]\n",
      " [ 8.75896860e-01]\n",
      " [ 9.64983254e-01]\n",
      " [ 9.83593462e-01]\n",
      " [ 9.27463336e-01]\n",
      " [ 9.54990362e-01]\n",
      " [ 1.10584450e+00]\n",
      " [ 1.01533117e+00]\n",
      " [ 1.15843426e+00]\n",
      " [ 1.00359259e+00]\n",
      " [ 1.05212797e+00]\n",
      " [ 9.36007199e-01]\n",
      " [ 9.22382314e-01]\n",
      " [ 9.55814672e-01]\n",
      " [ 7.35862424e-01]\n",
      " [ 1.22969823e+00]\n",
      " [ 7.72832699e-01]\n",
      " [ 1.00932746e+00]\n",
      " [ 9.78860429e-01]\n",
      " [ 8.98518066e-01]\n",
      " [ 1.23989698e-01]\n",
      " [ 3.25502872e-02]\n",
      " [-9.25951817e-02]\n",
      " [ 1.62823856e-03]\n",
      " [-1.63731069e-02]\n",
      " [ 1.51422436e-01]\n",
      " [-7.47265394e-02]\n",
      " [ 4.29658299e-02]\n",
      " [-5.42022149e-02]\n",
      " [-5.06922219e-03]\n",
      " [-1.05057211e-01]\n",
      " [-6.02541788e-02]\n",
      " [ 5.77551376e-02]\n",
      " [-8.28755127e-02]\n",
      " [ 2.33957135e-02]\n",
      " [-1.69500468e-02]\n",
      " [ 1.71954832e-01]\n",
      " [ 7.15753765e-03]\n",
      " [ 7.55087598e-02]\n",
      " [-3.35113857e-02]\n",
      " [ 1.36208538e-01]\n",
      " [ 2.42892066e-01]\n",
      " [ 1.94679194e-01]\n",
      " [ 7.12031530e-02]\n",
      " [ 2.03562008e-01]\n",
      " [-2.41289158e-01]\n",
      " [-6.94266941e-02]\n",
      " [ 6.02556851e-02]\n",
      " [ 4.87655920e-02]\n",
      " [ 2.16014037e-01]\n",
      " [ 4.33912091e-02]\n",
      " [ 8.20316865e-02]\n",
      " [ 2.13472970e-01]\n",
      " [ 1.27330066e-02]\n",
      " [-8.28380544e-02]\n",
      " [ 7.49528893e-02]\n",
      " [ 4.10431016e-02]\n",
      " [-1.29797053e-01]\n",
      " [ 8.22787539e-03]\n",
      " [ 1.40549960e-02]\n",
      " [ 2.33179140e-02]\n",
      " [ 6.02474448e-02]\n",
      " [ 3.05100780e-01]\n",
      " [-4.78743396e-03]\n",
      " [ 2.94852802e-02]\n",
      " [ 4.12376820e-02]\n",
      " [-7.09406701e-02]\n",
      " [ 5.47302652e-02]\n",
      " [-3.19115021e-01]\n",
      " [ 2.87672389e-02]\n",
      " [ 9.59117293e-02]\n",
      " [ 3.68389856e-03]\n",
      " [ 9.98176972e-02]\n",
      " [-5.33030734e-04]\n",
      " [ 1.18885160e-02]\n",
      " [-1.11141462e-01]\n",
      " [-5.57538426e-02]\n",
      " [-4.39530278e-03]\n",
      " [ 1.23577732e-01]\n",
      " [ 2.65039656e-01]\n",
      " [ 8.18504070e-02]\n",
      " [ 2.43633683e-01]\n",
      " [-6.45729126e-02]\n",
      " [-3.65882508e-03]\n",
      " [-4.09578537e-02]\n",
      " [-3.36415130e-02]\n",
      " [ 2.81914633e-02]\n",
      " [-9.05914946e-02]\n",
      " [ 1.54707384e-02]\n",
      " [ 1.05474125e-01]\n",
      " [ 1.65606400e-01]\n",
      " [-1.28894751e-01]\n",
      " [-2.61768542e-02]\n",
      " [ 5.73248270e-02]\n",
      " [-9.66697078e-02]\n",
      " [-8.67716790e-02]\n",
      " [ 7.80626055e-02]\n",
      " [ 8.67599420e-02]\n",
      " [-9.56477212e-02]\n",
      " [-5.25655633e-02]\n",
      " [-1.80603038e-01]\n",
      " [ 2.08633001e-01]\n",
      " [-1.53213041e-01]\n",
      " [-2.01485821e-01]\n",
      " [-3.79871839e-02]\n",
      " [ 5.81438978e-02]\n",
      " [-6.72995990e-03]\n",
      " [-3.97885287e-02]\n",
      " [ 7.47762453e-02]\n",
      " [-1.39801564e-01]\n",
      " [ 1.49589074e-01]\n",
      " [-8.02116760e-02]\n",
      " [ 1.15535452e-01]\n",
      " [-2.02281695e-02]\n",
      " [ 2.42985572e-01]\n",
      " [ 6.41919015e-02]\n",
      " [ 3.02028246e-01]\n",
      " [ 8.63721326e-02]\n",
      " [ 2.10170322e-01]\n",
      " [ 4.12759467e-02]\n",
      " [-1.12688693e-01]\n",
      " [ 5.15918214e-02]\n",
      " [-2.17864538e-03]\n",
      " [ 2.33481378e-02]\n",
      " [-3.49970230e-03]\n",
      " [ 7.66361480e-02]\n",
      " [ 5.72179156e-02]\n",
      " [ 7.52529947e-04]\n",
      " [-6.23120932e-02]\n",
      " [ 9.93257630e-02]\n",
      " [-1.31734733e-01]\n",
      " [ 1.91943712e-01]\n",
      " [-6.60858036e-02]\n",
      " [ 7.46737078e-02]\n",
      " [-7.78857233e-02]\n",
      " [ 1.60098271e-01]\n",
      " [ 3.37330062e-03]\n",
      " [-2.14368168e-02]\n",
      " [-7.57770997e-02]]\n"
     ]
    }
   ],
   "source": [
    "print(reg.predict(X))"
   ]
  },
  {
   "cell_type": "code",
   "execution_count": 141,
   "metadata": {},
   "outputs": [],
   "source": [
    "\n",
    "#(a) Implement Logistic Regression via Gradient Descent. (5 points)\n",
    "#Now, without using any high-level machine learning libraries, implement logistic regression. Here, you’ll be using batch gradient descent, and will only need one logistic output unit. (Think about why we only need one if we’re classifying two classes?) The most points will be given for clean, well-documented code.\n",
    "def gradient_descent(X, y, lr=0.05, epoch=300):\n",
    "    '''\n",
    "    Gradient Descent for a single feature\n",
    "    X -> feature -> m * d\n",
    "    y -> label -> m\n",
    "    lr -> learning rate\n",
    "    epoch -> epoch\n",
    "    \n",
    "    weights <-\n",
    "    mse     <-\n",
    "    '''\n",
    "    \n",
    "    weight = np.zeros((projected.shape[1], 1))\n",
    "    N = len(X) # number of samples\n",
    "    log = []\n",
    "    #log, mse = [], [] # lists to store learning process\n",
    "    # M * (d+1)--> X with last be bias term (feature)\n",
    "    # M * 1    --> y --> lable\n",
    "    \n",
    "    for _ in range(epoch):\n",
    "        errorSum = np.zeros((X.shape[1], 1))\n",
    "        #biasIncludedX = np.append(X, np.ones((X.shape[0], 1)), 1)\n",
    "        calculatedTarget = X@weight\n",
    "        #print(calculatedTarget, y)\n",
    "        diffs = y - calculatedTarget\n",
    "        #print(diffs.shape, y.shape, calculatedTarget.shape)\n",
    "        for i, diff in enumerate(diffs):\n",
    "            #print(diff.shape, errorSum.shape, X[i].shape)\n",
    "            #print(diff[0])\n",
    "            errorSum += diff[0] * X[i].reshape((-1, 1))\n",
    "        weight += errorSum * lr * (2/N)\n",
    "        log.append(sum(diffs**2)[0])\n",
    "\n",
    "    return weight, log"
   ]
  },
  {
   "cell_type": "code",
   "execution_count": 142,
   "metadata": {},
   "outputs": [],
   "source": [
    "#newTrainingMiniVan = train['Minivan']\n",
    "#newTrainingConvertable = train['Convertible']\n",
    "y = []\n",
    "X = []\n",
    "for i in range(len(memo)):\n",
    "    if memo[i][0] == 'Convertible':\n",
    "        y.append(0)\n",
    "        X.append(projected[i])\n",
    "    elif memo[i][0] == 'Minivan':\n",
    "        y.append(1)\n",
    "        X.append(projected[i])\n",
    "X = np.array(X)\n",
    "y = np.array(y).reshape(1, len(y)).T"
   ]
  },
  {
   "cell_type": "code",
   "execution_count": 143,
   "metadata": {},
   "outputs": [
    {
     "name": "stdout",
     "output_type": "stream",
     "text": [
      "(237, 200)\n",
      "(237, 1)\n"
     ]
    }
   ],
   "source": [
    "print(X.shape)\n",
    "print(y.shape)"
   ]
  },
  {
   "cell_type": "code",
   "execution_count": 145,
   "metadata": {},
   "outputs": [
    {
     "name": "stdout",
     "output_type": "stream",
     "text": [
      "[118.0, 117.95204991025547, 117.9041295251166, 117.85623882400905, 117.80837778637338, 117.76054639166554, 117.712744619356, 117.66497244893043, 117.61722985988915, 117.56951683174813, 117.52183334403742, 117.47417937630263, 117.42655490810381, 117.37895991901632, 117.33139438862993, 117.2838582965497, 117.23635162239532, 117.18887434580154, 117.14142644641748, 117.09400790390765, 117.04661869795116, 116.9992588082418, 116.95192821448835, 116.90462689641403, 116.8573548337573, 116.81011200627113, 116.7628983937231, 116.71571397589584, 116.66855873258662, 116.62143264360728, 116.57433568878429, 116.5272678479591, 116.48022910098766, 116.43321942774074, 116.3862388081036, 116.33928722197616, 116.2923646492733, 116.24547106992397, 116.19860646387197, 116.151770811076, 116.10496409150906, 116.0581862851587, 116.01143737202716, 115.96471733213139, 115.91802614550262, 115.87136379218653, 115.82473025224371, 115.77812550574913, 115.73154953279189, 115.68500231347629, 115.63848382792054, 115.59199405625746, 115.54553297863451, 115.49910057521345, 115.45269682617047, 115.40632171169628, 115.35997521199589, 115.31365730728888, 115.26736797780906, 115.22110720380489, 115.1748749655387, 115.12867124328777, 115.08249601734342, 115.0363492680113, 114.99023097561165, 114.94414112047866, 114.89807968296107, 114.85204664342197, 114.80604198223847, 114.76006567980211, 114.71411771651908, 114.66819807280908, 114.62230672910653, 114.57644366586024, 114.53060886353276, 114.48480230260125, 114.43902396355665, 114.393273826905, 114.34755187316506, 114.30185808287136, 114.25619243657151, 114.21055491482758, 114.16494549821574, 114.11936416732681, 114.07381090276465, 114.02828568514819, 113.98278849510999, 113.93731931329705, 113.89187812037001, 113.84646489700394, 113.80107962388767, 113.7557222817243, 113.71039285123112, 113.66509131313889, 113.61981764819278, 113.57457183715206, 113.52935386078975, 113.48416369989286, 113.43900133526266, 113.39386674771391, 113.3487599180758, 113.30368082719124, 113.25862945591692, 113.21360578512375, 113.16860979569626, 113.12364146853335, 113.07870078454702, 113.0337877246638, 112.98890226982411, 112.94404440098188, 112.89921409910491, 112.85441134517517, 112.80963612018824, 112.76488840515334, 112.72016818109374, 112.67547542904663, 112.63081013006249, 112.58617226520619, 112.54156181555588, 112.49697876220365, 112.4524230862553, 112.40789476883062, 112.36339379106259, 112.31892013409845, 112.27447377909881, 112.23005470723807, 112.18566289970424, 112.14129833769918, 112.09696100243832, 112.05265087515053, 112.00836793707886, 111.96411216947921, 111.91988355362197, 111.87568207079048, 111.83150770228191, 111.78736042940706, 111.74324023349038, 111.69914709586963, 111.65508099789633, 111.61104192093546, 111.56702984636574, 111.52304475557904, 111.4790866299812, 111.43515545099119, 111.39125120004161, 111.34737385857873, 111.30352340806209, 111.25969982996456, 111.21590310577288, 111.17213321698695, 111.12839014512019, 111.08467387169935, 111.04098437826487, 110.9973216463702, 110.95368565758257, 110.91007639348221, 110.86649383566326, 110.8229379657326, 110.7794087653109, 110.73590621603225, 110.69243029954356, 110.64898099750566, 110.60555829159236, 110.56216216349073, 110.5187925949015, 110.47544956753833, 110.43213306312812, 110.38884306341158, 110.34557955014209, 110.30234250508623, 110.25913191002454, 110.2159477467501, 110.17278999706947, 110.1296586428024, 110.08655366578171, 110.04347504785358, 110.00042277087749, 109.95739681672568, 109.91439716728375, 109.87142380445076, 109.82847671013828, 109.78555586627185, 109.74266125478921, 109.69979285764181, 109.65695065679394, 109.61413463422315, 109.57134477192008, 109.52858105188828, 109.48584345614442, 109.4431319667181, 109.4004465656524, 109.35778723500296, 109.31515395683876, 109.27254671324141, 109.22996548630604, 109.18741025814022, 109.14488101086506, 109.10237772661415, 109.05990038753431, 109.01744897578531, 108.97502347354002, 108.93262386298362, 108.89025012631497, 108.84790224574539, 108.80558020349912, 108.7632839818137, 108.7210135629391, 108.6787689291381, 108.63655006268698, 108.59435694587437, 108.55218956100177, 108.5100478903836, 108.46793191634711, 108.42584162123237, 108.38377698739252, 108.34173799719285, 108.29972463301206, 108.25773687724143, 108.21577471228481, 108.17383812055913, 108.13192708449391, 108.09004158653148, 108.0481816091267, 108.00634713474759, 107.96453814587431, 107.9227546250002, 107.88099655463101, 107.83926391728524, 107.79755669549436, 107.75587487180205, 107.7142184287648, 107.67258734895213, 107.63098161494554, 107.58940120933953, 107.54784611474133, 107.5063163137705, 107.46481178905918, 107.4233325232528, 107.38187849900825, 107.34044969899588, 107.29904610589803, 107.25766770241006, 107.21631447123956, 107.1749863951069, 107.1336834567447, 107.0924056388984, 107.05115292432545, 107.0099252957964, 106.96872273609408, 106.92754522801336, 106.88639275436248, 106.84526529796103, 106.8041628416421, 106.76308536825054, 106.7220328606439, 106.68100530169214, 106.64000267427728, 106.59902496129469, 106.55807214565078, 106.51714421026573, 106.47624113807092, 106.43536291201089, 106.3945095150422, 106.35368093013378, 106.31287714026703, 106.27209812843543, 106.23134387764497, 106.19061437091409, 106.1499095912733, 106.10922952176529, 106.0685741454453, 106.02794344538096, 105.98733740465168, 105.9467560063496, 105.90619923357883, 105.86566706945584, 105.82515949710931, 105.78467649967997, 105.74421806032116, 105.70378416219793, 105.66337478848808, 105.62298992238098, 105.58262954707855, 105.54229364579493, 105.50198220175605, 105.46169519820062, 105.42143261837877, 105.38119444555313, 105.34098066299859, 105.30079125400171, 105.26062620186156, 105.220485489889, 105.18036910140734, 105.14027701975155, 105.10020922826908, 105.06016571031914, 105.02014644927297, 104.98015142851382, 104.94018063143757, 104.90023404145114]\n"
     ]
    }
   ],
   "source": [
    "w, l = gradient_descent(X, y)\n",
    "print(l)"
   ]
  },
  {
   "cell_type": "code",
   "execution_count": 58,
   "metadata": {},
   "outputs": [],
   "source": [
    "validationConvertable = test['Convertible']\n",
    "validationMinivan     = test['Minivan']\n",
    "\n",
    "validationPCAed = []\n",
    "validationY = []\n",
    "for i in range(len(validationConvertable)):\n",
    "    validationPCAed.append((np.matmul(validationConvertable[i].reshape(1, 60000) - mean_image, top_eigen_vectors)/top_sqrt_eigen_values)[0])\n",
    "    validationY.append(0)\n",
    "for i in range(len(validationMinivan)):\n",
    "    validationPCAed.append((np.matmul(validationMinivan[i].reshape(1, 60000) - mean_image, top_eigen_vectors)/top_sqrt_eigen_values)[0])\n",
    "    validationY.append(1)"
   ]
  },
  {
   "cell_type": "code",
   "execution_count": null,
   "metadata": {},
   "outputs": [],
   "source": [
    "print(len(validationPCAed))\n",
    "validationPCAed = np.array(validationPCAed)\n",
    "print(validationPCAed.shape[0])"
   ]
  },
  {
   "cell_type": "code",
   "execution_count": null,
   "metadata": {},
   "outputs": [],
   "source": [
    "validationPCAed = np.append(validationPCAed, np.ones((validationPCAed.shape[0], 1)), 1)"
   ]
  },
  {
   "cell_type": "code",
   "execution_count": null,
   "metadata": {},
   "outputs": [],
   "source": [
    "validationPCAed@w"
   ]
  },
  {
   "cell_type": "code",
   "execution_count": null,
   "metadata": {},
   "outputs": [],
   "source": [
    "validationPCAed"
   ]
  },
  {
   "cell_type": "code",
   "execution_count": null,
   "metadata": {},
   "outputs": [],
   "source": []
  }
 ],
 "metadata": {
  "kernelspec": {
   "display_name": "Python 3",
   "language": "python",
   "name": "python3"
  },
  "language_info": {
   "codemirror_mode": {
    "name": "ipython",
    "version": 3
   },
   "file_extension": ".py",
   "mimetype": "text/x-python",
   "name": "python",
   "nbconvert_exporter": "python",
   "pygments_lexer": "ipython3",
   "version": "3.7.6"
  }
 },
 "nbformat": 4,
 "nbformat_minor": 4
}
