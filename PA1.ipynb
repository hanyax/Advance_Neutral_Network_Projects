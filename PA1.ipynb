{
 "cells": [
  {
   "cell_type": "code",
   "execution_count": 1,
   "metadata": {},
   "outputs": [],
   "source": [
    "import numpy as np"
   ]
  },
  {
   "cell_type": "code",
   "execution_count": 2,
   "metadata": {},
   "outputs": [],
   "source": [
    "import PIL\n",
    "from PIL import Image"
   ]
  },
  {
   "cell_type": "code",
   "execution_count": 3,
   "metadata": {},
   "outputs": [],
   "source": [
    "import matplotlib"
   ]
  },
  {
   "cell_type": "code",
   "execution_count": 4,
   "metadata": {},
   "outputs": [],
   "source": [
    "import os\n",
    "import random\n",
    "import copy\n",
    "from os import listdir\n",
    "from collections import defaultdict"
   ]
  },
  {
   "cell_type": "code",
   "execution_count": 5,
   "metadata": {},
   "outputs": [],
   "source": [
    "def load_data(data_dir=\"./aligned/\"):\n",
    "    \"\"\" Load all PNG images stored in your data directory into a list of NumPy\n",
    "        arrays.\n",
    "\n",
    "    Args:\n",
    "    data_dir: The relative directory path to the CompCar image directory.\n",
    "    Returns:\n",
    "        images: A dictionary with keys as car types and a list containing images associated with each key.\n",
    "        cnt: A dictionary that stores the # of images in each car type\n",
    "    \"\"\"\n",
    "    images = defaultdict(list)\n",
    "\n",
    "    # Get the list of car type directory:\n",
    "    for e in listdir(data_dir):\n",
    "        # excluding any non-directory files\n",
    "        if not os.path.isdir(os.path.join(data_dir, e)):\n",
    "            continue\n",
    "        # Get the list of image file names\n",
    "        all_files = listdir(os.path.join(data_dir, e))\n",
    "\n",
    "        for file in all_files:\n",
    "            # Load only image files as PIL images and convert to NumPy arrays\n",
    "            if '.jpg' in file:\n",
    "                img = Image.open(os.path.join(data_dir, e, file))\n",
    "                images[e].append(np.array(img))\n",
    "\n",
    "    print(\"Car types: {} \\n\".format(list(images.keys())))\n",
    "\n",
    "    cnt = defaultdict(int)\n",
    "    for e in images.keys():\n",
    "        print(\"{}: {} # of images\".format(e, len(images[e])))\n",
    "        cnt[e] = len(images[e])\n",
    "    return images, cnt\n"
   ]
  },
  {
   "cell_type": "code",
   "execution_count": null,
   "metadata": {},
   "outputs": [],
   "source": []
  },
  {
   "cell_type": "code",
   "execution_count": 6,
   "metadata": {},
   "outputs": [],
   "source": [
    "# this function takes in all the img from all set and return a list of sets of mutually exclusive images and its labels.\n",
    "def k_fold(imgs, k):\n",
    "    res = []\n",
    "    for _ in range(k):\n",
    "        res.append(defaultdict(list))\n",
    "    for key in imgs.keys():\n",
    "        for i, entry in enumerate(imgs[key]):\n",
    "            res[i%k][key].append(entry)\n",
    "    return res"
   ]
  },
  {
   "cell_type": "code",
   "execution_count": 7,
   "metadata": {},
   "outputs": [],
   "source": [
    "def PCA(X, n_components):\n",
    "\n",
    "    \"\"\"Args:\n",
    "        X: has shape Mxd where M is the number of images and d is the dimension of each image\n",
    "        n_components: The number of components you want to project your image onto. \n",
    "    \n",
    "    Returns:\n",
    "        projected: projected data of shape M x n_components\n",
    "        mean_image: mean of all images\n",
    "        top_sqrt_eigen_values: singular values\n",
    "        top_eigen_vectors: eigenvectors \n",
    "    \"\"\"\n",
    "    mean_image = np.average(X, axis = 0)\n",
    "\n",
    "    msd = X - mean_image # M x d\n",
    "\n",
    "    smart_cov_matrix = np.matmul(msd, msd.T)\n",
    "    eigen_values, smart_eigen_vectors = np.linalg.eig(smart_cov_matrix)\n",
    "\n",
    "    idx = eigen_values.argsort()[::-1]   \n",
    "    eigen_values = eigen_values[idx]\n",
    "    smart_eigen_vectors = smart_eigen_vectors[:,idx]\n",
    "\n",
    "    eigen_vectors = (np.matmul(msd.T, smart_eigen_vectors)).T # M x d\n",
    "\n",
    "    row_norm = np.sum(np.abs(eigen_vectors)**2,axis=-1)**(1./2) # M\n",
    "\n",
    "    normalized_eigen_vectors = eigen_vectors/(row_norm.reshape(-1, 1)) # M x d\n",
    "\n",
    "    top_eigen_vectors = normalized_eigen_vectors[:n_components].T\n",
    "    top_sqrt_eigen_values = np.sqrt(eigen_values[:n_components])\n",
    "\n",
    "    projected = np.matmul(msd, top_eigen_vectors)/top_sqrt_eigen_values\n",
    "\n",
    "    return projected, mean_image, top_sqrt_eigen_values, top_eigen_vectors"
   ]
  },
  {
   "cell_type": "code",
   "execution_count": 8,
   "metadata": {},
   "outputs": [],
   "source": [
    "def train(epoch = 5, fold = 10):\n",
    "    img, cnt = load_data()\n",
    "    folds = k_flod(img, fold)\n",
    "    for foldIdx in range(fold):\n",
    "        test, validation = folds[foldIdx], folds[(foldIdx + 1)%fold]\n",
    "        train = defaultdict(list)\n",
    "        for trainLoaderIter in range(2, fold):\n",
    "            train.update(folds[(trainLoaderIter + foldIdx) % fold])\n",
    "    pass"
   ]
  },
  {
   "cell_type": "code",
   "execution_count": 9,
   "metadata": {},
   "outputs": [
    {
     "name": "stdout",
     "output_type": "stream",
     "text": [
      "Car types: ['Pickup', 'Sedan', 'Minivan', 'Convertible'] \n",
      "\n",
      "Pickup: 150 # of images\n",
      "Sedan: 150 # of images\n",
      "Minivan: 148 # of images\n",
      "Convertible: 149 # of images\n"
     ]
    }
   ],
   "source": [
    "img, cnt = load_data()\n",
    "folds = k_fold(img, 10)\n",
    "test, validation = folds[0], folds[1]\n",
    "train = defaultdict(list)\n",
    "for trainLoaderIter in range(2, 10):\n",
    "    for key in folds[trainLoaderIter].keys():\n",
    "        train[key].extend(folds[trainLoaderIter][key])\n",
    "totalTrainingAmount = 0\n",
    "for key in train.keys():\n",
    "    totalTrainingAmount += len(train[key])"
   ]
  },
  {
   "cell_type": "code",
   "execution_count": 10,
   "metadata": {},
   "outputs": [
    {
     "name": "stdout",
     "output_type": "stream",
     "text": [
      "477\n"
     ]
    }
   ],
   "source": [
    "print(totalTrainingAmount)"
   ]
  },
  {
   "cell_type": "code",
   "execution_count": 11,
   "metadata": {},
   "outputs": [],
   "source": [
    "trainedPCA = np.zeros((totalTrainingAmount, 60000))\n",
    "i = 0\n",
    "memo = {}\n",
    "for key in train.keys():\n",
    "    for idx, ele in enumerate(train[key]):\n",
    "        trainedPCA[i] = ele.reshape(1, 60000)\n",
    "        memo[i] = (key, idx)\n",
    "        i += 1"
   ]
  },
  {
   "cell_type": "code",
   "execution_count": 227,
   "metadata": {},
   "outputs": [],
   "source": [
    "projected, mean_image, top_sqrt_eigen_values, top_eigen_vectors = PCA(trainedPCA, 40)"
   ]
  },
  {
   "cell_type": "code",
   "execution_count": 228,
   "metadata": {},
   "outputs": [
    {
     "name": "stdout",
     "output_type": "stream",
     "text": [
      "(477, 40)\n",
      "(60000, 40)\n",
      "(60000,)\n",
      "[ 0.04510089 -0.04175314 -0.03479379 -0.00720877 -0.00150093  0.00857038\n",
      "  0.0040771  -0.06566832  0.0441931   0.19909961  0.03926748  0.01231698\n",
      "  0.01362904  0.01023256  0.03800397  0.07298338 -0.09157195  0.00737967\n",
      " -0.09481553 -0.00293754 -0.09325882  0.00291712  0.03690154 -0.04924077\n",
      "  0.03345896 -0.05733611  0.03374892  0.0405336  -0.05676917  0.02726277\n",
      "  0.0338387   0.11010176  0.02041617  0.07237279  0.00598181  0.04742183\n",
      " -0.03531657 -0.03748258 -0.07280348 -0.04743897]\n"
     ]
    }
   ],
   "source": [
    "print(projected.shape)\n",
    "print(top_eigen_vectors.shape)\n",
    "print(mean_image.shape)\n",
    "print(projected[0])\n"
   ]
  },
  {
   "cell_type": "code",
   "execution_count": 229,
   "metadata": {},
   "outputs": [
    {
     "data": {
      "text/plain": [
       "array([ 0.04510089, -0.04175314, -0.03479379, -0.00720877, -0.00150093,\n",
       "        0.00857038,  0.0040771 , -0.06566832,  0.0441931 ,  0.19909961,\n",
       "        0.03926748,  0.01231698,  0.01362904,  0.01023256,  0.03800397,\n",
       "        0.07298338, -0.09157195,  0.00737967, -0.09481553, -0.00293754,\n",
       "       -0.09325882,  0.00291712,  0.03690154, -0.04924077,  0.03345896,\n",
       "       -0.05733611,  0.03374892,  0.0405336 , -0.05676917,  0.02726277,\n",
       "        0.0338387 ,  0.11010176,  0.02041617,  0.07237279,  0.00598181,\n",
       "        0.04742183, -0.03531657, -0.03748258, -0.07280348, -0.04743897])"
      ]
     },
     "execution_count": 229,
     "metadata": {},
     "output_type": "execute_result"
    }
   ],
   "source": [
    "np.matmul((trainedPCA[0] - mean_image), top_eigen_vectors)/top_sqrt_eigen_values"
   ]
  },
  {
   "cell_type": "code",
   "execution_count": 230,
   "metadata": {},
   "outputs": [
    {
     "name": "stdout",
     "output_type": "stream",
     "text": [
      "[124548.04784268 117856.75883741  95302.74571461  74209.61304212\n",
      "  64263.02375421  59189.87832571  57436.53582108  55454.05437636\n",
      "  49108.38380807  44997.10890241  44284.50273729  43329.57507516\n",
      "  40108.78741917  38919.13465665  38047.02961537  35839.35800018\n",
      "  34743.96717512  33395.77700687  32672.15073757  31603.39230473\n",
      "  30910.40668837  30082.55744989  29442.83946063  28394.7507638\n",
      "  28312.08699126  27205.90675152  27067.56531158  26041.04961542\n",
      "  25972.23632386  25286.7599597   24786.90914618  24406.77525212\n",
      "  24005.76792753  23766.02518787  23471.74650259  23198.06041658\n",
      "  23124.6541963   22636.21798318  22290.11799254  22083.23370062]\n"
     ]
    }
   ],
   "source": [
    "print(top_sqrt_eigen_values)"
   ]
  },
  {
   "cell_type": "code",
   "execution_count": 231,
   "metadata": {},
   "outputs": [
    {
     "data": {
      "image/png": "[encoded data removed]",
      "text/plain": [
       "<Figure size 432x288 with 1 Axes>"
      ]
     },
     "metadata": {
      "needs_background": "light"
     },
     "output_type": "display_data"
    }
   ],
   "source": [
    "imgArr = (top_eigen_vectors.T)[3].reshape(200, 300)\n",
    "imgArr += imgArr.min()\n",
    "imgArr *= 255.0/imgArr.max()\n",
    "img = plt.imshow(imgArr, cmap='gray')"
   ]
  },
  {
   "cell_type": "code",
   "execution_count": 236,
   "metadata": {},
   "outputs": [],
   "source": [
    "\n",
    "#(a) Implement Logistic Regression via Gradient Descent. (5 points)\n",
    "#Now, without using any high-level machine learning libraries, implement logistic regression. Here, you’ll be using batch gradient descent, and will only need one logistic output unit. (Think about why we only need one if we’re classifying two classes?) The most points will be given for clean, well-documented code.\n",
    "\n",
    "def gradient_descent(X, y, lr=0.05, epoch=300):\n",
    "    '''\n",
    "    Gradient Descent for a single feature\n",
    "    X -> feature -> m * d\n",
    "    y -> label -> m\n",
    "    lr -> learning rate\n",
    "    epoch -> epoch\n",
    "    \n",
    "    weights <-\n",
    "    mse     <-\n",
    "    '''\n",
    "    \n",
    "    weight = np.zeros((projected.shape[1]+1, 1))\n",
    "    N = len(X) # number of samples\n",
    "    log = []\n",
    "    #log, mse = [], [] # lists to store learning process\n",
    "    # M * (d+1)--> X with last be bias term (feature)\n",
    "    # M * 1    --> y --> lable\n",
    "    \n",
    "    for _ in range(epoch):\n",
    "        errorSum = np.zeros((X.shape[1]+1, 1))\n",
    "        biasIncludedX = np.append(X, np.ones((X.shape[0], 1)), 1)\n",
    "        calculatedTarget = biasIncludedX@weight\n",
    "        \n",
    "        diffs = (y - calculatedTarget)\n",
    "        #print(diffs.shape, y.shape, calculatedTarget.shape)\n",
    "        for i, diff in enumerate(diffs):\n",
    "            #print(diff.shape, errorSum.shape, X[i].shape)\n",
    "            errorSum += diff[0] * np.append(X[i], [1]).reshape((X.shape[1]+1, 1))\n",
    "        \n",
    "        weight += errorSum * lr * (1/N)\n",
    "        log.append(sum(diffs**2)[0])\n",
    "\n",
    "    return weight, log"
   ]
  },
  {
   "cell_type": "code",
   "execution_count": 237,
   "metadata": {},
   "outputs": [],
   "source": [
    "#newTrainingMiniVan = train['Minivan']\n",
    "#newTrainingConvertable = train['Convertible']\n",
    "y = []\n",
    "X = []\n",
    "for i in range(len(memo)):\n",
    "    if memo[i][0] == 'Convertible':\n",
    "        y.append(0)\n",
    "        X.append(projected[i])\n",
    "    elif memo[i][0] == 'Minivan':\n",
    "        y.append(1)\n",
    "        X.append(projected[i])\n",
    "X = np.array(X)\n",
    "y = np.array(y).reshape(1, len(y)).T"
   ]
  },
  {
   "cell_type": "code",
   "execution_count": 238,
   "metadata": {},
   "outputs": [
    {
     "name": "stdout",
     "output_type": "stream",
     "text": [
      "(237, 40)\n",
      "(237, 1)\n"
     ]
    }
   ],
   "source": [
    "print(X.shape)\n",
    "print(y.shape)"
   ]
  },
  {
   "cell_type": "code",
   "execution_count": 239,
   "metadata": {},
   "outputs": [
    {
     "name": "stdout",
     "output_type": "stream",
     "text": [
      "[[ 0.01523646]\n",
      " [-0.00185151]\n",
      " [-0.04923986]\n",
      " [ 0.06515954]\n",
      " [ 0.06559333]\n",
      " [ 0.08221743]\n",
      " [ 0.06039351]\n",
      " [-0.09247577]\n",
      " [-0.11841567]\n",
      " [ 0.01859844]\n",
      " [ 0.02951207]\n",
      " [ 0.0334136 ]\n",
      " [-0.07161573]\n",
      " [ 0.05325835]\n",
      " [ 0.03154171]\n",
      " [ 0.04806025]\n",
      " [ 0.00260185]\n",
      " [ 0.00586648]\n",
      " [ 0.03765001]\n",
      " [ 0.04766653]\n",
      " [ 0.07372026]\n",
      " [-0.05048918]\n",
      " [ 0.02107621]\n",
      " [-0.02960383]\n",
      " [-0.0059419 ]\n",
      " [ 0.00404225]\n",
      " [-0.00232042]\n",
      " [ 0.01513378]\n",
      " [-0.02248648]\n",
      " [-0.01263281]\n",
      " [ 0.03846461]\n",
      " [ 0.00185718]\n",
      " [ 0.01939168]\n",
      " [ 0.04459707]\n",
      " [-0.04463625]\n",
      " [-0.02662875]\n",
      " [ 0.01958607]\n",
      " [ 0.06572622]\n",
      " [-0.01133   ]\n",
      " [ 0.03997317]\n",
      " [ 0.49805931]]\n"
     ]
    }
   ],
   "source": [
    "w, l = gradient_descent(X, y)\n",
    "print(w)"
   ]
  },
  {
   "cell_type": "code",
   "execution_count": 248,
   "metadata": {},
   "outputs": [],
   "source": [
    "validationConvertable = test['Convertible']\n",
    "validationMinivan     = test['Minivan']\n",
    "\n",
    "validationPCAed = []\n",
    "validationY = []\n",
    "for i in range(len(validationConvertable)):\n",
    "    validationPCAed.append((np.matmul(validationConvertable[i].reshape(1, 60000) - mean_image, top_eigen_vectors)/top_sqrt_eigen_values)[0])\n",
    "    validationY.append(0)\n",
    "for i in range(len(validationMinivan)):\n",
    "    validationPCAed.append((np.matmul(validationMinivan[i].reshape(1, 60000) - mean_image, top_eigen_vectors)/top_sqrt_eigen_values)[0])\n",
    "    validationY.append(1)"
   ]
  },
  {
   "cell_type": "code",
   "execution_count": 249,
   "metadata": {},
   "outputs": [
    {
     "name": "stdout",
     "output_type": "stream",
     "text": [
      "30\n",
      "30\n"
     ]
    }
   ],
   "source": [
    "print(len(validationPCAed))\n",
    "validationPCAed = np.array(validationPCAed)\n",
    "print(validationPCAed.shape[0])"
   ]
  },
  {
   "cell_type": "code",
   "execution_count": 250,
   "metadata": {},
   "outputs": [],
   "source": [
    "validationPCAed = np.append(validationPCAed, np.ones((validationPCAed.shape[0], 1)), 1)"
   ]
  },
  {
   "cell_type": "code",
   "execution_count": 251,
   "metadata": {},
   "outputs": [
    {
     "data": {
      "text/plain": [
       "array([[ 1548.79075094],\n",
       "       [  -73.21023935],\n",
       "       [  869.6983421 ],\n",
       "       [ -420.18773811],\n",
       "       [ -579.91220279],\n",
       "       [ -960.87552197],\n",
       "       [ -242.14970009],\n",
       "       [  218.11060597],\n",
       "       [-1081.5970385 ],\n",
       "       [  -84.40518568],\n",
       "       [  757.93812314],\n",
       "       [ 1150.96197106],\n",
       "       [  504.47056164],\n",
       "       [ -826.28006179],\n",
       "       [ 1015.48453552],\n",
       "       [-1010.73407959],\n",
       "       [  -62.5404348 ],\n",
       "       [ -452.41752344],\n",
       "       [-1359.06221227],\n",
       "       [ -902.81168926],\n",
       "       [ -521.5811897 ],\n",
       "       [ 1064.97404798],\n",
       "       [  748.14893894],\n",
       "       [  398.2824664 ],\n",
       "       [-1101.09108203],\n",
       "       [  101.60090686],\n",
       "       [  587.09770372],\n",
       "       [  145.26194165],\n",
       "       [  956.29135782],\n",
       "       [  448.65168845]])"
      ]
     },
     "execution_count": 251,
     "metadata": {},
     "output_type": "execute_result"
    }
   ],
   "source": [
    "validationPCAed@w"
   ]
  },
  {
   "cell_type": "code",
   "execution_count": 214,
   "metadata": {},
   "outputs": [
    {
     "data": {
      "text/plain": [
       "array([[[-0.03939948, -0.09901309,  0.01833142, -0.06271096]],\n",
       "\n",
       "       [[-0.00414154,  0.01996479,  0.03190914, -0.02439031]],\n",
       "\n",
       "       [[-0.04809855, -0.05167845, -0.05362545, -0.02996231]],\n",
       "\n",
       "       [[ 0.01716265,  0.01120006, -0.0054657 , -0.10713878]],\n",
       "\n",
       "       [[ 0.06211222, -0.0253725 , -0.00702256, -0.04552486]],\n",
       "\n",
       "       [[ 0.12034243, -0.02510041, -0.04879969,  0.10757602]],\n",
       "\n",
       "       [[ 0.00403788,  0.0238018 ,  0.0459504 , -0.00561836]],\n",
       "\n",
       "       [[-0.05429617,  0.01416012,  0.0559872 , -0.05683737]],\n",
       "\n",
       "       [[ 0.03444111,  0.0560334 ,  0.04331807,  0.00038817]],\n",
       "\n",
       "       [[-0.02936933,  0.04216799, -0.00841457,  0.01815506]],\n",
       "\n",
       "       [[-0.04206927, -0.02264358, -0.00945543,  0.04054792]],\n",
       "\n",
       "       [[-0.03662373, -0.05848483,  0.0513842 ,  0.01333223]],\n",
       "\n",
       "       [[-0.01876213, -0.01124949,  0.04187682, -0.00989503]],\n",
       "\n",
       "       [[ 0.03797472,  0.02665159, -0.00722945, -0.09522296]],\n",
       "\n",
       "       [[-0.06987096, -0.0278548 , -0.0039949 , -0.02979341]],\n",
       "\n",
       "       [[ 0.09992834, -0.02340391, -0.06555846, -0.00222506]],\n",
       "\n",
       "       [[ 0.00805596, -0.04850766, -0.09500096, -0.05389566]],\n",
       "\n",
       "       [[-0.00668181,  0.05383324, -0.06019881,  0.04100671]],\n",
       "\n",
       "       [[ 0.07842198,  0.01641232, -0.05745305, -0.09540831]],\n",
       "\n",
       "       [[ 0.07293322,  0.00624717,  0.0221643 ,  0.00310328]],\n",
       "\n",
       "       [[-0.0577698 ,  0.11429711, -0.06341606,  0.04698843]],\n",
       "\n",
       "       [[ 0.01277513, -0.11618215, -0.05747873,  0.02341903]],\n",
       "\n",
       "       [[-0.05537451, -0.01859095, -0.0161849 , -0.02538598]],\n",
       "\n",
       "       [[ 0.01338201, -0.03902564, -0.00103051,  0.07178483]],\n",
       "\n",
       "       [[ 0.04865347,  0.03917723,  0.0175955 , -0.05493066]],\n",
       "\n",
       "       [[-0.02792794,  0.01931993, -0.0062928 ,  0.00629668]],\n",
       "\n",
       "       [[-0.0675252 ,  0.0170629 , -0.04384612,  0.02106168]],\n",
       "\n",
       "       [[-0.08792831,  0.07040691, -0.00411034, -0.01327066]],\n",
       "\n",
       "       [[-0.05350476, -0.03846877, -0.0314872 , -0.01738339]],\n",
       "\n",
       "       [[-0.03210458, -0.04345785, -0.03300464, -0.01276135]]])"
      ]
     },
     "execution_count": 214,
     "metadata": {},
     "output_type": "execute_result"
    }
   ],
   "source": [
    "validationPCAed"
   ]
  },
  {
   "cell_type": "code",
   "execution_count": null,
   "metadata": {},
   "outputs": [],
   "source": []
  }
 ],
 "metadata": {
  "kernelspec": {
   "display_name": "Python 3",
   "language": "python",
   "name": "python3"
  },
  "language_info": {
   "codemirror_mode": {
    "name": "ipython",
    "version": 3
   },
   "file_extension": ".py",
   "mimetype": "text/x-python",
   "name": "python",
   "nbconvert_exporter": "python",
   "pygments_lexer": "ipython3",
   "version": "3.8.5"
  }
 },
 "nbformat": 4,
 "nbformat_minor": 4
}
